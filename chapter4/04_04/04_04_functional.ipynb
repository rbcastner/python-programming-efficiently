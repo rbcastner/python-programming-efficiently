{
 "cells": [
  {
   "cell_type": "markdown",
   "metadata": {},
   "source": [
    "### Python module/package imports for this chapter"
   ]
  },
  {
   "cell_type": "code",
   "execution_count": 1,
   "metadata": {
    "collapsed": true
   },
   "outputs": [],
   "source": [
    "import sys, os, math, random, functools\n",
    "\n",
    "import numpy as np\n",
    "\n",
    "import matplotlib\n",
    "import matplotlib.pyplot as pp\n",
    "import matplotlib.animation as anim\n",
    "\n",
    "%matplotlib inline\n",
    "\n",
    "from IPython.display import display, HTML"
   ]
  },
  {
   "cell_type": "markdown",
   "metadata": {
    "collapsed": true
   },
   "source": [
    "### Code from previous videos (enhanced)"
   ]
  },
  {
   "cell_type": "code",
   "execution_count": 2,
   "metadata": {
    "collapsed": true
   },
   "outputs": [],
   "source": [
    "from turtle import Turtle, Terrarium"
   ]
  },
  {
   "cell_type": "markdown",
   "metadata": {},
   "source": [
    "## Making fractals with functional Python"
   ]
  },
  {
   "cell_type": "code",
   "execution_count": 3,
   "metadata": {
    "collapsed": true
   },
   "outputs": [],
   "source": [
    "def snowflake(turtle,dist,level):\n",
    "    for i in range(3):\n",
    "        drawkoch(turtle,dist,level)\n",
    "        turtle.right(120)\n",
    "\n",
    "def drawkoch(turtle,distance,level):\n",
    "    if level == 0:\n",
    "        turtle.forward(distance)\n",
    "    else:\n",
    "        drawkoch(turtle,distance/3,level-1)\n",
    "        turtle.left(60)\n",
    "        drawkoch(turtle,distance/3,level-1)\n",
    "        turtle.left(-120)\n",
    "        drawkoch(turtle,distance/3,level-1)\n",
    "        turtle.left(60)\n",
    "        drawkoch(turtle,distance/3,level-1)"
   ]
  },
  {
   "cell_type": "code",
   "execution_count": 4,
   "metadata": {
    "collapsed": false
   },
   "outputs": [
    {
     "data": {
      "image/png": "[encoded data removed]",
      "text/plain": [
       "<matplotlib.figure.Figure at 0x10dcc3518>"
      ]
     },
     "metadata": {},
     "output_type": "display_data"
    }
   ],
   "source": [
    "with Terrarium() as t:\n",
    "    drawkoch(Turtle(t),100,1)"
   ]
  },
  {
   "cell_type": "code",
   "execution_count": 5,
   "metadata": {
    "collapsed": false
   },
   "outputs": [
    {
     "data": {
      "image/png": "[encoded data removed]",
      "text/plain": [
       "<matplotlib.figure.Figure at 0x10dcf0e48>"
      ]
     },
     "metadata": {},
     "output_type": "display_data"
    }
   ],
   "source": [
    "with Terrarium() as t:\n",
    "    drawkoch(Turtle(t),100,2)"
   ]
  },
  {
   "cell_type": "code",
   "execution_count": 6,
   "metadata": {
    "collapsed": false
   },
   "outputs": [
    {
     "data": {
      "image/png": "[encoded data removed]",
      "text/plain": [
       "<matplotlib.figure.Figure at 0x10ffcf710>"
      ]
     },
     "metadata": {},
     "output_type": "display_data"
    }
   ],
   "source": [
    "with Terrarium() as t:\n",
    "    drawkoch(Turtle(t),100,3)"
   ]
  },
  {
   "cell_type": "code",
   "execution_count": 7,
   "metadata": {
    "collapsed": false
   },
   "outputs": [
    {
     "data": {
      "text/html": [
       "<video width=\"500.0\" height=\"500.0\" controls autoplay>\n",
       "  <source type=\"video/mp4\" src=\"data:video/mp4;base64,AAAAHGZ0eXBNNFYgAAACAGlzb21pc28yYXZjMQAAAAhmcmVlAAAntm1kYXQAAAKhBgX//53cRem9\n",
       "5tlIt5Ys2CDZI+7veDI2NCAtIGNvcmUgMTQ4IC0gSC4yNjQvTVBFRy00IEFWQyBjb2RlYyAtIENv\n",
       "cHlsZWZ0IDIwMDMtMjAxNiAtIGh0dHA6Ly93d3cudmlkZW9sYW4ub3JnL3gyNjQuaHRtbCAtIG9w\n",
       "dGlvbnM6IGNhYmFjPTEgcmVmPTMgZGVibG9jaz0xOjA6MCBhbmFseXNlPTB4MzoweDExMyBtZT1o\n",
       "ZXggc3VibWU9NyBwc3k9MSBwc3lfcmQ9MS4wMDowLjAwIG1peGVkX3JlZj0xIG1lX3JhbmdlPTE2\n",
       "IGNocm9tYV9tZT0xIHRyZWxsaXM9MSA4eDhkY3Q9MSBjcW09MCBkZWFkem9uZT0yMSwxMSBmYXN0\n",
       "X3Bza2lwPTEgY2hyb21hX3FwX29mZnNldD0tMiB0aHJlYWRzPTE2IGxvb2thaGVhZF90aHJlYWRz\n",
       "PTIgc2xpY2VkX3RocmVhZHM9MCBucj0wIGRlY2ltYXRlPTEgaW50ZXJsYWNlZD0wIGJsdXJheV9j\n",
       "b21wYXQ9MCBjb25zdHJhaW5lZF9pbnRyYT0wIGJmcmFtZXM9MyBiX3B5cmFtaWQ9MiBiX2FkYXB0\n",
       "PTEgYl9iaWFzPTAgZGlyZWN0PTEgd2VpZ2h0Yj0xIG9wZW5fZ29wPTAgd2VpZ2h0cD0yIGtleWlu\n",
       "dD0yNTAga2V5aW50X21pbj0yNSBzY2VuZWN1dD00MCBpbnRyYV9yZWZyZXNoPTAgcmNfbG9va2Fo\n",
       "ZWFkPTQwIHJjPWNyZiBtYnRyZWU9MSBjcmY9MjMuMCBxY29tcD0wLjYwIHFwbWluPTAgcXBtYXg9\n",
       "NjkgcXBzdGVwPTQgaXBfcmF0aW89MS40MCBhcT0xOjEuMDAAgAAAAVJliIQAM//+9uy+BTX9n9CX\n",
       "ESzF2kpwPiqkgIB3NMAAAAMAAAMAJOccxEpfbYdmAAADAUQAGRHcQkyC6KswzuiTf4aRQ4FE9GB0\n",
       "iWGpvlbpysxHTv20MthThFTg0w4yWXnAn1jew6oGinRr3hBYlo/SURzkY1AX6PNoRwAAAwAHu12Y\n",
       "AAc6YIcpeFSmCRoaDkXYA6/p+FAsAF35OiXbdjqz2S43PDhw7gPisAKXmBAeF8P97EmhOWIGP4E0\n",
       "PE5Xm+geRF3/HaZSwzTlQF4r5l2YofL7eqcADiR53MFH3hUVWEaAJu1Ck+b6H0r3u9dOPqtkqc/R\n",
       "NgE6e+yq/08J0jhqRfXIjx64F20l7H1gCHDO15QjxPk5pLf23W3O1gfO9vsHTr0O+8AAc9PSqYX8\n",
       "aKxqrIwDz/zBZAAAAwAAAwAAAwAAAwAAAwAAAwAAAwAAAwC+gQAAAKtBmiFsQ3/+p4QAAAMAX22g\n",
       "gCkIDOVugUo5JY6iQ5UTr/C1eh/bElegJblGhNOB1KJDsKCrDAV9ixtI0syfUh+L2H1oiom+y9kN\n",
       "9wqmbP3ozvAxdrsUvXQmvWKsGiTCSrdvhUlJl7pnYX8sYSjCbu4Sc55BNjPN03MmD0whINM7df81\n",
       "xuCFeuE+8Kf+oed8YPz0EuynHDsa1RLuag75KaEyrEIByZr3GEi2AYsAAAG5QZpFPCGTKYQz//6e\n",
       "EAAAAwFzomjgP03c7CXwe9AfLVSziPZAJ8TDb1MoUsf21Y4M/G6VdM6Xk9TfnVhOvUNa2/0R8jqF\n",
       "MAhlWfy3qZ34VOqwDq8dIvf1Z+iuq4wRscX4BU3O8+Cap2m80uInBhW76hKkIw802VwmaAarbJTA\n",
       "8i+ZgQlQekPuE8uIzYr/qC/ecp0wE+cUEnf9eVoo9nEuaDxXQ27rM1pFfVHYEAvoYMM8/VHlE4xM\n",
       "zN2emG0Zzg4LijENRAXhc8AVEkCoqAEFg39AFBjYHYs5VGPBsOV/tvcGcaHRUWtmRFd/lQZFpQ17\n",
       "ZPSpinJAbfoRv/1Hqzx8XlE5sjSeLiRAyaQMT6MJ5iJfL+TVADQ6WhF4E1Wsa0TmNhhSHIRKdfkm\n",
       "eMQm+qxTX+eMAclj0p50RvJTr1FIuvhER6L6s9utezRl9lSvmoDTBtbQzT3M/TljYBsIgnI1E8Au\n",
       "23WjeStmZRGiD0akjSIeFP1LksPC5/GYKE0xAW+YyAL7X2MGywSF3pR9X6IShSfrJgn2GsndCdQd\n",
       "w/8n/D6LJWYCfnR6/5XWH0XuwEIABsH7Kx9iAIuBAAAANkGeY2pTwr8AAAMAqFgCjN7B6vyfIAOU\n",
       "a1UtzpaJW/cSzidDPWtQ9Yqz7qSYt1qUBqbJ28gPuAAAADUBnoJ0Qn8AAAMAZHy4X0rmzvSM8ALe\n",
       "M796KADURW7Scv7xyQ/36OMI8yGcEMCbsgKK/aAbUQAAAC0BnoRqQn8AAAMA2DxueYVpEQAcby1N\n",
       "1ExUJxD5dnbK8zMP8uLhrKsZgmMoFTEAAACRQZqGSahBaJlMCG///qeEAAADAM7r34NU+8ALXcl3\n",
       "U8mOMFNzzDW7h/8av42TsgVwmCVZ0JgEUIRr2ccfxeSXqqV3PYr/r9OVvyJj8NDVg9ojuq1wzx6W\n",
       "Ro3X8GpW4rH15H4KwVbylQZOg9FU4jXXXMEkk7JMCU2EGyugt/cpQFM1NgH3Z4oS1h2gqRKzooAx\n",
       "YQAAAbRBmqpJ4QpSZTAhv/6nhAAAAwDNxS1AJiiZyrwTaU9M/D5GYUNfHfwNZDtPjop49/DVsstm\n",
       "t8lrjSCe24iZcLWu97q5DDyC+FPpXb0nWpOv8MPv/l6WG3ko+sC4Dd0bRXsbuhHAxdUb2eO3MXMo\n",
       "KsgQe+SoWosTYBF6vnRXI8gcucWtAkTjIlZBwB4NT33fe6Tk+RbcqknYvTS4aG/cKzRQAaZVKFjx\n",
       "mlYyaAtbnWzxS0ejJ+U77R7sgaisNrkDeD8CGKLz6QelB7ZXsDA0oWIvRKeyr40SYPYPTY+trcVz\n",
       "Sa8VklhwpArd9yzMiVbiR2Zjre4KDgY31pGVKEegv0P6G54X1E87PP6dS1by+H9J+kl6pL2qQ066\n",
       "DyGbsU9gskhfNcQMc699+lblIvGWAn3EIGaTVkvwQBONOLpIw6wD1uwd7WhK5zSLX6Yk3yCZFPu/\n",
       "VTK34F12RyFF5/c2ixzGS61OCRVNGq2ZbqMR6NmUZt3JUByAoAFV7eEo4XfqFIL2eddupW40Syrw\n",
       "i8ZrwJWSJ/aPuRW9AS6MGxtPJssjUSR9TS9w2EktY8z7i30ojZU2IAP9AAAAKEGeyEU0TCv/AAAD\n",
       "AKg0TpKfIUINGvJ+gBYMxKDjlSv9kjLFeYDAlYAAAAA2AZ7ndEJ/AAADANf4q6IQ4AJZETRAHlpj\n",
       "XOQKxoo9eAfwQhGb+LrqNerFrIwqKXjVA8v+PYD/AAAANAGe6WpCfwAAAwDOCpy+OjgS+S8AD1/+\n",
       "aKApjJIEKaQcZMnd7Qf3Hdb7aDh4jdKtgaTANqEAAAHHQZruSahBaJlMCGf//p4QAAADAyLr0ADW\n",
       "2Ac5TAVFBEjmZI82yU7zM3nqC7wqqlsR8hTAcAGAzP5B7hGuNVtl6LjyBorwP7tF3h6OAzHuMFCZ\n",
       "9/uuGIZLAEIMc2QQvaplF3MBW13AoYto1s+pMSkH94MRO2+DuxCcZ/JA0qM2eESF6Tfh5FbzSUy1\n",
       "qI5laB5YrGwhlWNyo5WkG3J9dHVPgQTzumDtY7/e81qH+SAl6IOeGQ8mgaoH5/1re24HEpkv+MZC\n",
       "WN/ZB70g8Xg5vyF1APzNN9q5yJneRcHjHAK1BOSdVlUTGha8BAPFGnKZEY6gKKfvURwM5Eq5HauQ\n",
       "sO9cAryST4dYCxry/Sm8XQoyV+N+7D2qDL/CDSF8GU9Odiw20ILHJo19ghH9LIF8k7UwRZZTpK9i\n",
       "or+jRH/ngQLIAthJuYfBVM7/Hx8SsQKeSqLlJYI1+UKXJZ+h6CVrQ9AR77a1T0CsYrpBH+xDsvty\n",
       "y1L+hzLi2veYpJh//sJ3foNCxl4Bzkl18KAmAw+rgveZfuar+GJP7G7xjqvf/GqVLmPYIe7Yq0qN\n",
       "/MCnkDVM11gQK7EH60GBf/cQDQhzEnjiLGds0Z4AMCAAAAA3QZ8MRREsK/8AAAMAo7UBROoNYbnm\n",
       "pNggAh+RZLJTg02oKmlJ7DkypMHQSt/VCHksvumfLpQGVAAAADQBnyt0Qn8AAAMA0vnNPZEkYBlM\n",
       "4AS2H/M6/T5vsnal2qhRSDxlkW84AfmPHCX6Gct7iwHhAAAAMAGfLWpCfwAAAwBYnBnABbO3uhm4\n",
       "db/fckWNENbcyOvj3sWDMdrME3UT/3NV0oBGwQAAAURBmzFJqEFsmUwIZ//+nhAAAAMBNuFdBeLF\n",
       "8w33gCma2AL2MyTFVB34cMjH9uzSjevm1IMkqvj5JHZR2tAK3aCyU/J6FCPNfzsK4IAA3CdSUQJ3\n",
       "/qbzJBvNxfYzYtysQ3qzluY394h/qBdnnhYouwq0pT16Y/+zaEyKiB52jBNxm3cxGzb0h/FBxCKX\n",
       "B8fkgamnhgwVlZ+Y25dNH0RlVDG/49J4c6/lFK5yeugaoxwApKfRdTDaeBjw//1G0NZKDVRD95HJ\n",
       "IRJklCmhx9UBlqG1BdkPz3fWRYRJAjUTZOKLTC4LI17DRm6bCe5BfKclMp2FNmzkbTEesmtn5xHh\n",
       "9t0cQSjtiHd9AqNjQCTEyfm7/QmTM8SnD3WUFHUndBUGO2cuAps++RcgF0rQ2Vpyp7KInPcMn1pL\n",
       "pBCKIG39jIPFNQOCAUMAAAApQZ9PRRUsJ/8AAAMAVC4F/8bGkyP8IANuPN4W7ue3MynbVUx1r31w\n",
       "ArYAAAAlAZ9wakJ/AAADAFQRf9+FK4ALXTZw6Yq8Ho8lBW+CEgoXv8BqQAAAARdBm3NJqEFsmUwU\n",
       "TDP//p4QAAADAse+/gxbEwFDPuFo/qry+PNb0tpK51jSqFFBk3/PnXmUkxL8+yxIEKzDlJSXFnOF\n",
       "S0xazlwgoOdTHfFxA4+hqf+mY1NbwR8YkTUbfYrSn5ZZS66YSB8bv4sI+EeP0wjVdO2lfan47SQJ\n",
       "VIG2Ue4p+5bbK+KPt+qEXG1B1dlqjQMzHgsmo7DP4SUwd8hiptDMjEWyhM7jMWJaq5Ot5yd7bO86\n",
       "WlDSLPeENqcwEQMqitqOfGXNHSPr2QulyYTkYqgnlgaylexH5tULLuQ8Z8Be0YCKxdWnPMpaomI0\n",
       "LxrmFnkUy7GAnxB4ZluoPEOgaAgQvmN+E8XPurIyg93iu9G2JneAEvEAAAAwAZ+SakJ/AAADAL8P\n",
       "D4AWsfunknen4PmUQMWOlnpiynepQrKVccBMkVfxcBfFWBCwAAAA6UGblUnhClJlMFLDP/6eEAAA\n",
       "Bk9c/tlc7smgAKlq1xjQtvlWvBzpQWWQJ57o+dhHCmNCZOelrdPkeFxmMjw9aL2WUzOQPPgUEgT2\n",
       "axWavaLT7pom1U+5LmUYQscsBJfoVyuYuAH4yHr3jtGNq/awi6oLjrkArDoo42ZMyoAG3VRnhimj\n",
       "q5UvtUduNbn1RQ1UgEC/DruyaWmODbuchrKzCTWzE86fsOzE3VjZFkhv8E9uOjcuSbJF5BWHr731\n",
       "GCi0PDw5IxyVB5rQMp2o3wBJyiVrkOvJRBvLYvepi8vEYNzFwNa36HDisAGNAAAAIwGftGpCfwAA\n",
       "AwGwfU+AKsoiVmP5kmU59yJj+31rwTfKIEvBAAAA4EGbt0nhDomUwUTDP/6eEAAADjaTWd7MXzDf\n",
       "eAKZrYAtkxb7XBhrNe3nG3N/+GJEQ4loQD9PUeEXK1Q7An7u2HU/53BmpUdOBLpSX/tXH7//mt9Y\n",
       "E4QpUcOQqzP6iOHl3eGmNPLjdi7FND6tKU9t/yts4akrpWA8nRgm5djYWM2ZJfcwXl42JK1caTfQ\n",
       "B88w1OF5WqMWeVr3xpiAhbRSRNRtMIhKDPD3usxASJ4iNz7h1NE52JFuwz0OIumetHBivcZen7sz\n",
       "QtTTVnW2paZYhfwn2rnpzXm8yEJkTDKAAKCAAAAAJwGf1mpCfwAAAwPi7rjwXfc8Y8ANwk8nANJG\n",
       "GHsMQuXWZIsRu2IEvQAAAQ5Bm9lJ4Q8mUwU8M//+nhAAAB/dc/Bi2JgP8+4Wj+qxsMGVchXOhqCn\n",
       "P10RsASsLMuIttjylB/3GmGlXG/ToSf8MBWv3+DkjNR5Irbmgi6rPose5YmA6YlVsJakU/V2zZuF\n",
       "MLGPDp/45Qda2Ibkuq/aBjiESjrYi6oejm0V7mtkv2s/YB8ZDQS3SHZaGC3PPlyBOfBB0li18U+R\n",
       "654yh3+n+mHjD0QOVGoeYGoP5YiJ+8smBTBRxu+tqV4HjjR97aWLqyBQwXldw0+eglBVnGloONmf\n",
       "kZTiN8yucYVfU9mwcSrFDvuobQZ4Fl3wAd8psCdcA54HSMXFZS+cN/+NKgA0lGRrTFQtSDz1xzgA\n",
       "QcEAAAAwAZ/4akJ/AAAIrJl4AWsfvEycdse3nOZYtKcDJt8UHn7w5sl2umgXqqoYzsESwDKgAAAB\n",
       "GEGb+0nhDyZTBTwv//6MsAAAmPFU/BeIzAMFc3L5zUR763MeAUgsveDRGFb2L0Xe1S6d6CJuQcfV\n",
       "rfkUEOiKuNvpyuXojccM10cImSbiOodJTxPnBvhvxSM3WhLBi34cFZ9JUw/higmFSXfPzAPt+G6t\n",
       "9X8YQTKy96U4MBNM9r3xn8y8sa4nimhFDLx7mfp1Z97EphowwnEs4+HResi6+GCsF5Wo1j/uTx/l\n",
       "AR0C7faNNmxIFBmrvD3svqfptEOo8z/2mYB4ABZZ9w4h9+L/i98OmNiyLsNj33gbeVw7yYuQ5+Ot\n",
       "H63NnsVPLwBD7bVeIF/JSt+U8zmndBYel9FGHdCm4kh+nAHdD8o84ejmgMK33nflnTV4AWkAAAAl\n",
       "AZ4aakJ/AAAIbEm8jrhABcXw+DpYhZpQ9cQ/NRP9lDeROU4BdwAAAJ9BmhxJ4Q8mUwIZ//6eEAAA\n",
       "HlD+OASbWrOrcHMlfWo6cy4Nt3FB4AKtu1IqHCtv2nqlfNh1292V5rMA2th4IYvjTM8ePlXf5+mn\n",
       "o/3RAkqrdbQ/MYVL4Me2fK2zIJmiHmAIHYF0Sg2jtI1t32FuWPCJn/OM2zQFb00uz9VdChKMrR6J\n",
       "SygB5LJQIjjrV/wuYNOyHXMwngazt1zltZQACgkAAAD5QZo+SeEPJlMFETwv//6MsAAARnjf4Zm0\n",
       "BIA+KUJw8z/1alJVwQIZMgf7hkpA5RsWe4e5tyXxEbCVQbJ1lp3fKw+CFW0Dkrvc36V3NP0q8olR\n",
       "k64oka86ql36Ihdm2luKU9CKyKSmOT+8uVwUHV0rwakNUuMQKqFrvecSrAkei8RDvu1rpS8GIPhb\n",
       "pHo3yVyI8kxMpcgMDoqDLze0PrqXQp4If1iY7VPMenCg2aP9ulOqwoE2Dr/rk6EWHeABXb1DHblK\n",
       "miVAeM0s0+r2mvYNoIFglXmj8iZNDYs/h6FQf9VEIY8e/4XjNZxyjcLUChf8eFAaZYXQACdhAAAA\n",
       "KgGeXWpCfwAAEtlGcAEqSIAlvmLLulOgR8IbDBWe7PMuqvw86ZtibAB9wAAAAKBBml9J4Q8mUwIZ\n",
       "//6eEAAAmqSQcBjeu7r0O56nRddBoU2JueJqLqre2f34SvBDnKj39l4Hvt6+cB+wzFXBBFhOOSut\n",
       "yEc/zLnGyhRZ1tjBxloOpCzNEb+WFr7CRBZzhOEHaRBfLE5JIr/qPmbnLzXOes4I8fEXCFO4sgT0\n",
       "64gDL92X0Nz4ZCWpNN0rVFE5Ky6D1z3vFptFBvDrMPb4AAEnAAAAjkGaYEnhDyZTAhn//p4QAACa\n",
       "kS5Af59mvkQDPP5qPG8eelLNQbTcd3Fd9wtFIDmHhUzufJtwIEMBfeTvg2+q82vazo8RahgsofdZ\n",
       "VyDKqmjehspYGI6JTFWJlo/8Pq2Mw8LnG0DaRnmQL5jyMfRfNu/VYAaznX51hl3DaWP6/JdgXrgG\n",
       "QCUj9t7Crh4AAfcAAADzQZqCSeEPJlMFETwz//6eEAAAQ1ICteIhwBQbUYxrf+fzyow42WaQpPPI\n",
       "eX10TXsVe6s9htYQTeF2VZMX00eawj9ItQ3Dcu02o+9FyMLfZcN6EN3fZwb7cpj0Tv9HOUSKfeVM\n",
       "4KmO4lXPc9efR5PVS7rfAdxmUDerSr6UTdue5yAQOZ7kbckTclH6LKk31HogE+TH/koPYBNezZPb\n",
       "vOGZkfWucP7yzr1u8QGpJTyvExU9wH/DwwVmY0xWNDCwupHTHCQmQTT6Lt60EA55HsHSg69MiZW3\n",
       "/KqJlRLtZJfNobu5+ayEZNdU5VsD+KLPVvdQABgQAAAALwGeoWpCfwAAEdieBAgAtVGy+m448puB\n",
       "kloBp5ULe5+brZrFmPCyOhifo0jtEQJfAAAAqUGao0nhDyZTAhn//p4QAAAdDt6vZJ4Bq+vASvLR\n",
       "BsP0hVcAF+KI0dA3QMr2yuytbO900Cbr0+gNYTGP8NvKOe2uaBYBNsJP7JwS5f9giunlOXuhxzSk\n",
       "FjHvqYn1D0a8cHu/iiCNOfTZxFXTakF4vH0QoFixlkJW211YQyiKYC2BtLm2R0o//HTtGNKWw11h\n",
       "l2+dCa3dy/E40WwQV4KfBXV16xe/cN4ABxwAAAEYQZrFSeEPJlMFETwz//6eEAAAHED+OATSlws+\n",
       "71nxLoZZI3lV/j+GNqenRE5AVP20DIBn/vSt/I/bQJlqijg9Nhi74TxixDbnlQ1ibZ5xIpfmZvh9\n",
       "3X0I4KC2DrntYM8BI82dHJ29o/+djYTZzssXxMlXNWb96Sr5Syy7yLwL5kR6gi/5cyqLNG+uFKuH\n",
       "XGwyHVAhUwTPiYJs714xMU4bWb3N9ds0FYARv9YYpTE2I7xB2QzIaahDYKC27p2pR5U1hhqd7XRa\n",
       "sYicp90hLgApBoH+2fjKEy9FmnBo42QmmN+UZgoJeye9RdxkwURGR/1GG0aBRYmSUyfMcuttwCZJ\n",
       "4TaPeV9N7hPwaxhK8YBdKyo4gwHO8AA6YQAAACMBnuRqQn8AAAeYHNYQ5t9jw5rgBpFZEOWMgl3B\n",
       "61qvKQB9wQAAAP5BmudJ4Q8mUwU8M//+nhAAABuX0HgDlG8LxC5pPqSt+HRSKWvcP/yyp/Z9PG+e\n",
       "vte19ysPvTVlmUEKvUe/sELsAgLP4Wxhu9opV46U5BYYczgDFz/91GMycod0QX337aYYSW4iGy43\n",
       "vMrWYmGm7zVzSDhZXwLURlTjcBBZcZlNI890QhPAOeJcJWb2XeOblZcBSYqzt9ykOaoTD/CfA7T3\n",
       "a19ic29PP0D1AUAcRjiR5AW2m0AzX+PfdKfA9aE4FjXY2BX+98kIHIUgZ0XDaoYCUwN5V4gxQTWk\n",
       "qMA/EPRjr6VqSmFjCN0oDrR4o2E8J6OdnVa9IrlO4la2gADKgQAAADcBnwZqQn8AAAdsHQsAgA27\n",
       "GhmIQduPUXpEhFYJtOfC4SzfgcHEJs/Juv87IS0H/DHwyBOYQB9xAAAA2EGbCUnhDyZTBTwz//6e\n",
       "EAAAC+lCBP3gDijPfn+XvF+p+8t4KCzJ1/lhMRWx9AaCAXakw2gLYwE/NLfAPQhntCEaIA33nhoY\n",
       "ETHwBc12tJUlRnHYMvMO9QgNc3IzxjmNE5gN+e22xX/i6APDLe02E7LLYvCz1oILt6DVvPE+QZAd\n",
       "MjfCipW1enLv23dkIRkB4EBYqis+4wKAeJdU0WQdZUYUxym45ChZIcuvckYQW+9GzgVkCPKZNhQ4\n",
       "X9PC+tCkkFFssXmpRDevP74/kIXnGowfzJKpu0ADfgAAACYBnyhqQn8AAAMDdXx+9hjlmvACE49x\n",
       "ovmQIgWUGZyeWXCrhpwEXAAAAPZBmytJ4Q8mUwU8M//+nhAAAAuvs/kvzJ4J9pSAa93AlNM2+VWs\n",
       "a9NGPwCgy9IeyUNxrV6EPgVLMKlplPOuD0GSBXN5NcdPIy5YOcGSpEo6CxI+sWwEsptx8RAHckn0\n",
       "B/hhNogSUlOj7Wu6hmLBPPv49knrYzBmASqYrEmrjuo5KLmBkPfr9Nun0+/gWEt8mZIEYHLTep/u\n",
       "iEkVgH3crB5T85b2d8sYGijQOphL/j3zhc49fjzm8ahSd2za7HapmAGDfKE8kMdO7+XaRfxIuy7J\n",
       "n1r8WkUHHgKbVDjfpqeaMl40jaIsdKIHusm+dnIWHgyzToYAF3EAAAAkAZ9KakJ/AAADAyQqfXWL\n",
       "8gANTpF/F/K4tnV4qQ3GL1212AZUAAAA80GbTUnhDyZTBTw3//6nhAAAAwCamURACwUN+VVKH487\n",
       "4hDO7NWkZtujRfHqm4eH/8OyC59oJgYUV7IImJQDYOB/jTHNy1KEb14PfDA1JiY+2Gf3QfwE9/3b\n",
       "eOBoRYBbPYkHnLoA7P85HxryUIAYswM1HtXLuW5TjCtaenn+tF+kJhdFo0OLtj06A/E2rh7SqHzI\n",
       "LzPNFRF5JaCigANOGegncYjnGCKmrMWYO2ZTJf/brNwcPrGZkpsv/Cg3FO93Zp/fnyEiqn1AawrH\n",
       "F+Ep7ktuYzzOhIMjzM31oOyzVFN4tzb4+i55BgpZlDYZksy4AYANSAAAADsBn2xqQn8AAAMAo7Kh\n",
       "SBABasnMrPu7ypqePLzSMRrPnWxi78DhbYQrgJAabq7m6x96iBu1B6GWemAPuQAAAS5Bm3BJ4Q8m\n",
       "UwIZ//6eEAAAAwD9wrfwBGrquMxvEb9MYqXO10MtKwD2n0aSAK6UOSLO2Mt4/EcIOT1nE5RQN4UG\n",
       "1vXSliE4JxfUalbnwiLWSQYJO0+58Rsfi0u1JoJnjFh9FdW/qf//RwbkYUt3PAK29UTKgfljldnI\n",
       "4OxoGxDxw5PX4O0UpMsJsLb72KYILPCxlTjA9K7YcJyWp7diCxnmYC62aJ24B+gakIoIv30lvBMR\n",
       "pgxNB1MQLdrQsfrViURQjqVDLmv95ir+/38aaao+dfp2gKd9l6c9oAL/rfps0DeHPEGqCr6UEkZR\n",
       "gmHX4AlV10xr9+H5IHtxCjSGesAWEmh0AYrHNHWLEc/wMvPnfIMioACHy+KpFbt8m4BhYH5cHMod\n",
       "p/UGij06d4Az4QAAACZBn45FETwn/wAAAwBEbJlNQa8AITj5vyp3RKj6cLzS6Fl8FoAfMQAAACEB\n",
       "n69qQn8AAAMARWFGrxhNVAAPrTo+czcFhYEh1o+AW0AAAADhQZuySahBaJlMFPDf/qeEAAADAD9h\n",
       "B9R75IhyMAF+QGcquYsXjGeGOlWufRevBdSixrtI41O1N+uCdSRuZNe4x2S/KfDIs5HmYe6lDCKy\n",
       "RB3S+qdTpMUI7mJWjsYLLBzVSIGiZIk3fPk9KbQ8RRvhvRcJBicVfEZif20sVQ/+aZbOTlBZ/oha\n",
       "2Mrrj0MtCKHxUfd3dDuEYnE68i6aELPhI7Ge3XKFLCAdQjsuUAhAj5VMpFtdAHYiZ8cHFZscsX79\n",
       "F4j0X/8dVXookZ5R9viD6zaM+zFANR8hjzEOnYyVgE7AAAAAMgGf0WpCfwAAAwBBqjuAG5ToPvwU\n",
       "udnUC18LjVOFaQ3a75R7l6M9ndSB2vKNkgaEAgPTAAABdEGb1knhClJlMCGf/p4QAAADAh3HnwNI\n",
       "0AHSPs21/0ud5x+GjKCDzgwlMAxG2bYCT/X+NpZUk0ylDNPjV8Y7DyuEF0yOvg6RqC/XRbLMDsbT\n",
       "uM3bmGfuoh3i65LA6pHybWRt7BTOTfoADWc9lsBq3nofJ9mPXm0x5DEIPofcymg1y3GZXz9OEglK\n",
       "ssUyrdgDh8IM4rmRJPQ7y2YjDQYsKgSmktw4rIudC5mksXDlmsXtX7vzi24ZZeYt4YXq5L6zx1mY\n",
       "zitD+i4hBBAMUdxSizPPp3D1dF2C7uk+WyTkGdwep3VWxybEhQL2sfLQxeG7wxAxMHy2X369bHFH\n",
       "228glbJf3o5XdL28MZOrzTLqki/u8RmgCAPeulH0Dspo5dADkYjKL/XZUwjvZfUQpX2+FSX2cgQB\n",
       "R93wRBTGfCo6YaFsF/q4C5b+J2j1lN3ySZvP5O/JVPuPVRm6HIBF3CReqCIXDOrSsRT1A9XTob5d\n",
       "uMLkx8AP8AAAADFBn/RFNEwr/wAAAwBxWSVc75yAFvHclZxuaN9TtdNwMbYdcuiJ6TEHCxLwyp57\n",
       "AgPSAAAALQGeE3RCfwAAAwA/kyRFpTclem0AD8JvYg6f2EMYBB824OIsrcIFf/lunKUBswAAAC8B\n",
       "nhVqQn8AAAMAku2tIdd3ACBZHg8WjeoHJOQNpt6BqjY41wleDpH+A15PypAB4QAAAMtBmhhJqEFo\n",
       "mUwU8M/+nhAAAAMCDcecISOMJ79QA3NGThUnTSMEF5y+F6j+om5GhzUrt1Aac1nWrDlKPaXC7GPX\n",
       "xUOiv2YfNDAS2Nw1Eik3LT1KlX2smOWcEvAKfTFYakHH/y6K3P1IWDGxZ8VkCR0C0SLudKHVSlIV\n",
       "yu9Zh4HyR8p5TWzFpOOgKlxczi16Ya91WItyVVR9HPpwYHrqQ9p/WN4KLQQ9N6bvoQqzF93OgMh4\n",
       "wXB0yMmIcZb4WEcfer30tHW+bpwGN4AZUQAAADMBnjdqQn8AAAMAjoWapIAJ28tnfk7kvOhKK/DZ\n",
       "u6yoZQ059JLRFu0KeUuS1q9cqrsAfcEAAACIQZo5SeEKUmUwIZ/+nhAAAAMB+4ExwA3NdqzfiRhW\n",
       "o5MJFOE+SmAlkBQ99IxV9VEX66v+/mPcfv4/7Xp2vJXRaME9Ewl5N6pUsGvtHZOdTaP08hXwYwAZ\n",
       "SWBijnfpuNQLOOkx/sKHgB3qZTIU3EKgMKzberXnQdJBU04FV9XrE7ahhN8SUkAb0AAAAUlBml1J\n",
       "4Q6JlMCF//6MsAAAAwDjiUoACceBty4iKJn996TkAMNbVHEfLW1bWLbWFwOaIoKFsrThlOMhhqYM\n",
       "gkW29D+zFinGFWotBtd5deHbb06waprB2e2oy3SXhSsMNs5uBY+QiSfV/okkqfQMGagFViOJ5/71\n",
       "pY19qdFDz7N5lhRgHavXjc7t8kLRWJ5P21UAUE7GjbeOgQlAkiCvsVwGHQ+LZeWfl+X68+PGODaI\n",
       "y9CStfZ945qZmT4s/olN6VmGSQgFbxHcM1Ikn8tsjqK22KnYrpRWJhIg2Kid2csKxNs8W0qnYcv1\n",
       "soT77xrtzgknJtfyLNWpbYIFYBDZjFxdc27Dn285d/fQzvYXYI9Yjj/ACnuypVpbI+NOdsK4syK/\n",
       "WSXOtwASRjD0Ls3H1LB2uYFsuXU2badibz8Frxsirh/oT9cQjQAyoQAAAEBBnntFETwr/wAAAwBp\n",
       "rDQREccmMCoMa7UP2CACdvOjss2Vdo9+7ny2MZNBwhayp/RxuaMJG9CwLgNgnRIoQLKAAAAAJAGe\n",
       "mnRCfwAAAwA8vFbgAbQJbTv9N7DeeYwTX8KAL8DwB2AW0QAAADgBnpxqQn8AAAMAOg8bbXb3riWA\n",
       "BtBVyCyKNUofTMj4CdApdoDLWM8r3MeIBVZletXguEQTG6BGwQAAAI5Bmp9JqEFomUwU8J/98QAA\n",
       "AwAH7q7CmABdRnULjhcJb3FdF2xbEVJRqzP+ruGiSwSOYrmLIfuSNlW/BpBAoqDqgpQrwst70p8s\n",
       "wkwTDuWOkSnKywvz0gOhBblApUboXQ3vBx7LERogZOr/jpZOll2cw2zTckUUp2JdgkOx2M8NJSK+\n",
       "jUJkwvxPVzt9QDLgAAAAKAGevmpCfwAAAwCHC8TBwYNjubKTAAhvOrBhAu4elX7V9OlsDJxIAeEA\n",
       "AAYQbW9vdgAAAGxtdmhkAAAAAAAAAAAAAAAAAAAD6AAAB9AAAQAAAQAAAAAAAAAAAAAAAAEAAAAA\n",
       "AAAAAAAAAAAAAAABAAAAAAAAAAAAAAAAAABAAAAAAAAAAAAAAAAAAAAAAAAAAAAAAAAAAAAAAAAA\n",
       "AgAABTp0cmFrAAAAXHRraGQAAAADAAAAAAAAAAAAAAABAAAAAAAAB9AAAAAAAAAAAAAAAAAAAAAA\n",
       "AAEAAAAAAAAAAAAAAAAAAAABAAAAAAAAAAAAAAAAAABAAAAAAfQAAAH0AAAAAAAkZWR0cwAAABxl\n",
       "bHN0AAAAAAAAAAEAAAfQAAAEAAABAAAAAASybWRpYQAAACBtZGhkAAAAAAAAAAAAAAAAAABAAAAA\n",
       "gABVxAAAAAAALWhkbHIAAAAAAAAAAHZpZGUAAAAAAAAAAAAAAABWaWRlb0hhbmRsZXIAAAAEXW1p\n",
       "bmYAAAAUdm1oZAAAAAEAAAAAAAAAAAAAACRkaW5mAAAAHGRyZWYAAAAAAAAAAQAAAAx1cmwgAAAA\n",
       "AQAABB1zdGJsAAAAtXN0c2QAAAAAAAAAAQAAAKVhdmMxAAAAAAAAAAEAAAAAAAAAAAAAAAAAAAAA\n",
       "AfQB9ABIAAAASAAAAAAAAAABAAAAAAAAAAAAAAAAAAAAAAAAAAAAAAAAAAAAAAAAAAAAGP//AAAA\n",
       "M2F2Y0MBZAAe/+EAGmdkAB6s2UCAEHnnhAAAAwAEAAADAQA8WLZYAQAGaOvjyyLAAAAAHHV1aWRr\n",
       "aEDyXyRPxbo5pRvPAyPzAAAAAAAAABhzdHRzAAAAAAAAAAEAAABAAAACAAAAABRzdHNzAAAAAAAA\n",
       "AAEAAAABAAAB8GN0dHMAAAAAAAAAPAAAAAIAAAQAAAAAAQAACgAAAAABAAAEAAAAAAEAAAAAAAAA\n",
       "AQAAAgAAAAABAAAEAAAAAAEAAAoAAAAAAQAABAAAAAABAAAAAAAAAAEAAAIAAAAAAQAACgAAAAAB\n",
       "AAAEAAAAAAEAAAAAAAAAAQAAAgAAAAABAAAIAAAAAAIAAAIAAAAAAQAABgAAAAABAAACAAAAAAEA\n",
       "AAYAAAAAAQAAAgAAAAABAAAGAAAAAAEAAAIAAAAAAQAABgAAAAABAAACAAAAAAEAAAYAAAAAAQAA\n",
       "AgAAAAABAAAEAAAAAAEAAAYAAAAAAQAAAgAAAAACAAAEAAAAAAEAAAYAAAAAAQAAAgAAAAABAAAE\n",
       "AAAAAAEAAAYAAAAAAQAAAgAAAAABAAAGAAAAAAEAAAIAAAAAAQAABgAAAAABAAACAAAAAAEAAAYA\n",
       "AAAAAQAAAgAAAAABAAAGAAAAAAEAAAIAAAAAAQAACAAAAAACAAACAAAAAAEAAAYAAAAAAQAAAgAA\n",
       "AAABAAAKAAAAAAEAAAQAAAAAAQAAAAAAAAABAAACAAAAAAEAAAYAAAAAAQAAAgAAAAABAAAEAAAA\n",
       "AAEAAAoAAAAAAQAABAAAAAABAAAAAAAAAAEAAAIAAAAAAQAABgAAAAABAAACAAAAABxzdHNjAAAA\n",
       "AAAAAAEAAAABAAAAQAAAAAEAAAEUc3RzegAAAAAAAAAAAAAAQAAAA/sAAACvAAABvQAAADoAAAA5\n",
       "AAAAMQAAAJUAAAG4AAAALAAAADoAAAA4AAABywAAADsAAAA4AAAANAAAAUgAAAAtAAAAKQAAARsA\n",
       "AAA0AAAA7QAAACcAAADkAAAAKwAAARIAAAA0AAABHAAAACkAAACjAAAA/QAAAC4AAACkAAAAkgAA\n",
       "APcAAAAzAAAArQAAARwAAAAnAAABAgAAADsAAADcAAAAKgAAAPoAAAAoAAAA9wAAAD8AAAEyAAAA\n",
       "KgAAACUAAADlAAAANgAAAXgAAAA1AAAAMQAAADMAAADPAAAANwAAAIwAAAFNAAAARAAAACgAAAA8\n",
       "AAAAkgAAACwAAAAUc3RjbwAAAAAAAAABAAAALAAAAGJ1ZHRhAAAAWm1ldGEAAAAAAAAAIWhkbHIA\n",
       "AAAAAAAAAG1kaXJhcHBsAAAAAAAAAAAAAAAALWlsc3QAAAAlqXRvbwAAAB1kYXRhAAAAAQAAAABM\n",
       "YXZmNTcuNTguMTAx\n",
       "\">\n",
       "  Your browser does not support the video tag.\n",
       "</video>"
      ],
      "text/plain": [
       "<IPython.core.display.HTML object>"
      ]
     },
     "metadata": {},
     "output_type": "display_data"
    }
   ],
   "source": [
    "with Terrarium(animate=True) as t:\n",
    "    drawkoch(Turtle(t),100,4)"
   ]
  },
  {
   "cell_type": "code",
   "execution_count": 8,
   "metadata": {
    "collapsed": false
   },
   "outputs": [
    {
     "data": {
      "image/png": "[encoded data removed]",
      "text/plain": [
       "<matplotlib.figure.Figure at 0x110da41d0>"
      ]
     },
     "metadata": {},
     "output_type": "display_data"
    }
   ],
   "source": [
    "with Terrarium() as t:\n",
    "    t1 = Turtle(t)\n",
    "    \n",
    "    def flake():\n",
    "        snowflake(t1,30,3)\n",
    "        \n",
    "    def left():\n",
    "        t1.left(60)\n",
    "    \n",
    "    for f in [flake,left] * 6:\n",
    "        f()"
   ]
  },
  {
   "cell_type": "code",
   "execution_count": 9,
   "metadata": {
    "collapsed": true
   },
   "outputs": [],
   "source": [
    "def over(a,b):\n",
    "    return a/b"
   ]
  },
  {
   "cell_type": "code",
   "execution_count": 10,
   "metadata": {
    "collapsed": true
   },
   "outputs": [],
   "source": [
    "inverse = functools.partial(over,1)\n",
    "half = functools.partial(over,b=2)"
   ]
  },
  {
   "cell_type": "code",
   "execution_count": 11,
   "metadata": {
    "collapsed": false
   },
   "outputs": [
    {
     "data": {
      "text/plain": [
       "0.5"
      ]
     },
     "execution_count": 11,
     "metadata": {},
     "output_type": "execute_result"
    }
   ],
   "source": [
    "inverse(2)"
   ]
  },
  {
   "cell_type": "code",
   "execution_count": 12,
   "metadata": {
    "collapsed": false
   },
   "outputs": [
    {
     "data": {
      "text/plain": [
       "1.5"
      ]
     },
     "execution_count": 12,
     "metadata": {},
     "output_type": "execute_result"
    }
   ],
   "source": [
    "half(3)"
   ]
  },
  {
   "cell_type": "code",
   "execution_count": 13,
   "metadata": {
    "collapsed": false
   },
   "outputs": [
    {
     "data": {
      "text/plain": [
       "functools.partial(<function over at 0x1123bf8c8>, 1)"
      ]
     },
     "execution_count": 13,
     "metadata": {},
     "output_type": "execute_result"
    }
   ],
   "source": [
    "inverse"
   ]
  },
  {
   "cell_type": "code",
   "execution_count": 14,
   "metadata": {
    "collapsed": true
   },
   "outputs": [],
   "source": [
    "def F(dist):\n",
    "    return functools.partial(Turtle.forward,distance=dist)\n",
    "\n",
    "def L(ang):\n",
    "    return functools.partial(Turtle.left,angle=ang)"
   ]
  },
  {
   "cell_type": "code",
   "execution_count": 15,
   "metadata": {
    "collapsed": false
   },
   "outputs": [
    {
     "data": {
      "image/png": "[encoded data removed]",
      "text/plain": [
       "<matplotlib.figure.Figure at 0x1123ce048>"
      ]
     },
     "metadata": {},
     "output_type": "display_data"
    }
   ],
   "source": [
    "f100 = F(100)\n",
    "\n",
    "with Terrarium() as t:\n",
    "    f100(Turtle(t))"
   ]
  },
  {
   "cell_type": "code",
   "execution_count": 16,
   "metadata": {
    "collapsed": true
   },
   "outputs": [],
   "source": [
    "def funckoch(steps):\n",
    "    newsteps = []\n",
    "    \n",
    "    for step in steps:\n",
    "        if step.func is Turtle.forward:\n",
    "            F3 = F(step.keywords['distance']/3)\n",
    "            newsteps += [F3,L(60),F3,L(-120),F3,L(60),F3]\n",
    "        else:\n",
    "            newsteps += [step]\n",
    "            \n",
    "    return newsteps"
   ]
  },
  {
   "cell_type": "code",
   "execution_count": 17,
   "metadata": {
    "collapsed": true
   },
   "outputs": [],
   "source": [
    "step0 = [F(100)]"
   ]
  },
  {
   "cell_type": "code",
   "execution_count": 18,
   "metadata": {
    "collapsed": false
   },
   "outputs": [
    {
     "data": {
      "text/plain": [
       "[functools.partial(<function Turtle.forward at 0x10dc36e18>, distance=33.333333333333336),\n",
       " functools.partial(<function Turtle.left at 0x10dcb3158>, angle=60),\n",
       " functools.partial(<function Turtle.forward at 0x10dc36e18>, distance=33.333333333333336),\n",
       " functools.partial(<function Turtle.left at 0x10dcb3158>, angle=-120),\n",
       " functools.partial(<function Turtle.forward at 0x10dc36e18>, distance=33.333333333333336),\n",
       " functools.partial(<function Turtle.left at 0x10dcb3158>, angle=60),\n",
       " functools.partial(<function Turtle.forward at 0x10dc36e18>, distance=33.333333333333336)]"
      ]
     },
     "execution_count": 18,
     "metadata": {},
     "output_type": "execute_result"
    }
   ],
   "source": [
    "funckoch(step0)"
   ]
  },
  {
   "cell_type": "code",
   "execution_count": 19,
   "metadata": {
    "collapsed": false
   },
   "outputs": [
    {
     "data": {
      "image/png": "[encoded data removed]",
      "text/plain": [
       "<matplotlib.figure.Figure at 0x112440048>"
      ]
     },
     "metadata": {},
     "output_type": "display_data"
    }
   ],
   "source": [
    "with Terrarium() as t:\n",
    "    t1 = Turtle(t)\n",
    "    \n",
    "    for f in funckoch(funckoch(funckoch(step0))):\n",
    "        f(t1)"
   ]
  },
  {
   "cell_type": "code",
   "execution_count": 20,
   "metadata": {
    "collapsed": true
   },
   "outputs": [],
   "source": [
    "def iterated(f,n):\n",
    "    def iterf(arg):\n",
    "        ret = arg\n",
    "        for i in range(n):\n",
    "            ret = f(ret)\n",
    "        return ret\n",
    "    \n",
    "    return iterf"
   ]
  },
  {
   "cell_type": "code",
   "execution_count": 21,
   "metadata": {
    "collapsed": true
   },
   "outputs": [],
   "source": [
    "def turtle_map(self,steps):\n",
    "    for step in steps:\n",
    "        step(self)\n",
    "        \n",
    "Turtle.map = turtle_map"
   ]
  },
  {
   "cell_type": "code",
   "execution_count": 22,
   "metadata": {
    "collapsed": false
   },
   "outputs": [
    {
     "data": {
      "image/png": "[encoded data removed]",
      "text/plain": [
       "<matplotlib.figure.Figure at 0x1124fe240>"
      ]
     },
     "metadata": {},
     "output_type": "display_data"
    }
   ],
   "source": [
    "with Terrarium() as t:\n",
    "    Turtle(t).map(iterated(funckoch,5)(step0))"
   ]
  },
  {
   "cell_type": "code",
   "execution_count": 23,
   "metadata": {
    "collapsed": true
   },
   "outputs": [],
   "source": [
    "triangle = [F(100),L(-120),F(100),L(-120),F(100)]"
   ]
  },
  {
   "cell_type": "code",
   "execution_count": 24,
   "metadata": {
    "collapsed": false
   },
   "outputs": [
    {
     "data": {
      "text/html": [
       "<video width=\"500.0\" height=\"500.0\" controls autoplay>\n",
       "  <source type=\"video/mp4\" src=\"data:video/mp4;base64,AAAAHGZ0eXBNNFYgAAACAGlzb21pc28yYXZjMQAAAAhmcmVlAABKwG1kYXQAAAKhBgX//53cRem9\n",
       "5tlIt5Ys2CDZI+7veDI2NCAtIGNvcmUgMTQ4IC0gSC4yNjQvTVBFRy00IEFWQyBjb2RlYyAtIENv\n",
       "cHlsZWZ0IDIwMDMtMjAxNiAtIGh0dHA6Ly93d3cudmlkZW9sYW4ub3JnL3gyNjQuaHRtbCAtIG9w\n",
       "dGlvbnM6IGNhYmFjPTEgcmVmPTMgZGVibG9jaz0xOjA6MCBhbmFseXNlPTB4MzoweDExMyBtZT1o\n",
       "ZXggc3VibWU9NyBwc3k9MSBwc3lfcmQ9MS4wMDowLjAwIG1peGVkX3JlZj0xIG1lX3JhbmdlPTE2\n",
       "IGNocm9tYV9tZT0xIHRyZWxsaXM9MSA4eDhkY3Q9MSBjcW09MCBkZWFkem9uZT0yMSwxMSBmYXN0\n",
       "X3Bza2lwPTEgY2hyb21hX3FwX29mZnNldD0tMiB0aHJlYWRzPTE2IGxvb2thaGVhZF90aHJlYWRz\n",
       "PTIgc2xpY2VkX3RocmVhZHM9MCBucj0wIGRlY2ltYXRlPTEgaW50ZXJsYWNlZD0wIGJsdXJheV9j\n",
       "b21wYXQ9MCBjb25zdHJhaW5lZF9pbnRyYT0wIGJmcmFtZXM9MyBiX3B5cmFtaWQ9MiBiX2FkYXB0\n",
       "PTEgYl9iaWFzPTAgZGlyZWN0PTEgd2VpZ2h0Yj0xIG9wZW5fZ29wPTAgd2VpZ2h0cD0yIGtleWlu\n",
       "dD0yNTAga2V5aW50X21pbj0yNSBzY2VuZWN1dD00MCBpbnRyYV9yZWZyZXNoPTAgcmNfbG9va2Fo\n",
       "ZWFkPTQwIHJjPWNyZiBtYnRyZWU9MSBjcmY9MjMuMCBxY29tcD0wLjYwIHFwbWluPTAgcXBtYXg9\n",
       "NjkgcXBzdGVwPTQgaXBfcmF0aW89MS40MCBhcT0xOjEuMDAAgAAAAd9liIQAM//+9uy+BTX9n9CX\n",
       "ESzF2kpwPiqkgIB3NMAAAAMAAAMAJOccxEpfbYdmAAADAUQAGkPb1Qv+/8yh9k3FajKx3b2qNQub\n",
       "8Ukkdb2iW6qOdfyApBPWERM6ex/MxoidpQAAwA8T+gvZbCd6vDkkpyF52QUX1NV5feHgtdkFx9/N\n",
       "bUTS9j0q+6FPkg6AVmR8u7+UL4z/49iVnVai9sMtOgQxWWf58xUm1SBr6hYqSp69qDb0TEWkDv81\n",
       "3fkfaP/ROaB/i7aQNJatF8DAeeMDJRVwNV8gnmkI8iOOv4URA9nl/17rTPlYv1l1JZB7h5tZjval\n",
       "9D/xMhpJGs/w/KDsI7ry0zD6H+LjNt/2TWJPzouZ0zBly4suddVxjKNEN4V+Znfx3PsE6Bkw4ZN5\n",
       "JPB9Vu3HChWd1zwh3lAX8cYSz0p2RwJK/cw5muuGoPWdXZSTD1YRHzdW7S3wDpyRy/kqZbFOoTnf\n",
       "fnEvnEkZzfgM2wztqajTNYRqA3cWBer0smnEgcVG+K80moQ14ovyliWt+DRuzGOwWtBPa4+Hd7WO\n",
       "tOoGAAADAAADAAADAAADAAADAAADAACLNX5xP0RKDCal+zqgc19GFlcPfNicqNt/N0w83utD4CAA\n",
       "AAMAAAMCawAAATdBmiFsQz/+nhAAE248+WRyeuBkUuFpGsdryET+qgWCtGitTBD753baT/ySOzc5\n",
       "rnikoXg7hGWf9WCO1oAcK9AvdwfTMgxMS87wuloq1FuQNLx4Qlh/GNvL+HfM3TliXLtn28MfHEXQ\n",
       "ri6tfxo9nAxzZMQ5UWaCTz5SH94zbo5jqgNBybbWVjgACYdGf2ITMNlZ/id6R94SXoU7HbWTv2SX\n",
       "tdzKkzGGf/SNGO+Iqds7XJhg116Pp5FP6dV38DlyrSnpZnXQbYA0wtlssbSfe/VQ232wq/ySHByL\n",
       "YJQdOxC4T7nT/w8Cu9s0QEC1mCodoEq+fG3NUunwpXtcQNSLI1xLwwbn4l81n6iKBUG0oo/qiFB9\n",
       "wP2e0QLgRz15plIjoXfH4tw2Yq6XMiJN0pAiaPnF9QeQAADAgAAAAldBmkM8IZMphDP//p4QABNo\n",
       "qbu2IYBp0AxpDrdaO9DtCodmt1YRtvSNnhXi07zb7nKM/Al5MwFjRY+Xx/jXkgviF9lBRSgzh4vB\n",
       "3BM4JD+COT+y7CZzOQWDYiN0/LMVjhS59OMiEPmaw3UePtYNEjRZXQE3NID7noWxAdP/4TQp779F\n",
       "i/dFKo8LISXmhzEhNoF5b8PPp46Y1zVfapiVGQkJ8gWVtiDx9CMGyOCwf51M9wJbDpo/E4F75KKU\n",
       "h4u96RM5zYar32nhd0SyFAAC0Tt5iG9jfehgE9FoTKKWPTA7r7GizoOr9Ul5Dvazh1aLa6ERbHsW\n",
       "HoB7JKJvxM8CGsUJIyAAauGj+mcpcF/uQB3lXjGZm99/Blz/ZbdAGuG0LOcYSooCXMapDTqN2bWm\n",
       "mDBpWp3uw3huTpKt88ujC7HXJ6DKDuVXHTmuRK0CL0FAsiKgv92dyl5eVE2hkUjmsJ94qEY02dvK\n",
       "y5S1WQuhs+v09CnzqFias5CbyI3g7mMh+Up7gO4b/vv8n+bi7Qsg1m8EcFRRy23Ak332uMY/XZw7\n",
       "GeWdyC8yEDB81JYE7HyMM6+tTFws/Zfo+LiTUqYUsUuVHxHcsJnZ9Um/6b0rNn626E3WGTypIHhD\n",
       "CV1d0qlqxviIxmM7RsHgiXgu0HsSKXJnlW3CJzzfnx7higP0OAKT3/m8L09/z8tIQdmZi8QC0gxx\n",
       "i9PiM5m0RMSxRB12q1cz5wmpvYxuaJuGvQwmmG7lXt8jw/HDUk3DLnyb/q1gmcPIKydUidThHvOH\n",
       "y0iujqzsjKQdYAADewAAACIBnmJqQn8ABUGTAb9Nx/IAHDzA0q63e3ki63ixEQnAAAZ8AAACVEGa\n",
       "ZUnhDyZTBTwz//6eEAARbjz4IOPYBmUuFo8loXW5qrXWwtNhd9LFuY5QfRiZ+Uf+71kuqt5aeHAO\n",
       "aiMv7yPzQmvGt8/Tk8LAcECYXcobAz3HDZc0oCGn6w2ogcHpcRTVpRpNWbI6QD7v6/diXVf7slxU\n",
       "ucHOgzF8c9LuzpjXPljAe1OvyaRQWQiKrm2e7jSHFOQcieqiyAqbhNz48FwaMbJauYU1gb5AsaxP\n",
       "LRVNeYmb+KRXDMm/+QoE3IEtMJug0xnEIcVDIw7Z4RbntEIytlIA/GDkMbKpUTjd6Me4VG2L0//B\n",
       "3jokHplfagZAmXUdUIXIgI2yw0uStuN6xMueTvAhf3+OFtscg6dcco53uxWMu/jIQ1nQGcVrpm08\n",
       "3/YojgPvI4xnSbKaF78HYtt8EXlDqMb+fsZeCoIYgyl/ynU2i67Z1dHLCnYEbK2PzT9S+jHE3M4Z\n",
       "hgyIGRCxLfFEfzJMpILcGwzHPo3QLz7Ck8ODEzunamEky9hVi5h+w6l7dxB7OO1qmeZDID215Z/M\n",
       "AhMHUDE4Bvf3DTUC00MyFtCJ4iajSWPGhOh+zqF3KRRN2c8pT9CDQlpT0rkkprNktFPA9cTfMuOr\n",
       "0ac0lxgRpmW/MwrA3zy4NeErlq1ik1O7USKofSsG+Pn0qLWb717655uctgm4QdIHtnJtunTa1wG+\n",
       "Qta9UaQVvPOPvALHkNnhlP3a9pdsfS5dMnhFyeSa0WIAsx+sH46JW1vF33/EGnrUJLZfmxmvRSXR\n",
       "ZaVY6hsqC+pIbMR8UoabiJjFnEaAAALLAAAAKAGehGpCfwAEt21pu95aOh57lM6x4AQnOne/Bw6W\n",
       "KM/qGeSLOAAAXkEAAAFvQZqGSeEPJlMCG//+p4QAaWZC/4MNnmx0Ihrv90wWOu9evZKHToQA6KAz\n",
       "lcPtTnG4GN9IJ9n0E4LkzNEMTf6RQgraTXXsXJiVMTjJmbRPXNgy5tHZUfU0kUh+gk9i93d3lhW/\n",
       "LW/9Cv76agOEQLsfI4E0oRX5+lmPf0Noh5+cOEomEN7fGFfdlJPdno0X/2hYn+GpH5wbTFWnvLpQ\n",
       "2j8VJCWL+IG2V++5KA+1KZl+gyZpLa+PndAprLQRv+rYrY7HSi0iMos8DfwwrXjhtVTt6EzLyPLT\n",
       "RVAiVSrKU/RV2bs6+q4bEBd5ogpn+yxencKeXWrEiKI9pohhLfMEdtPkQ7m2pxMDZ6ps1e6pnPDI\n",
       "6Hps4l864rd+KI6PTiE6q5eP3Brvj4IsmMnmJNkN1zVZPpz5H4ISZcuWR/Zb/cbH88LJoo5eVPw5\n",
       "KUlKgW6fk88mWizFuMbj/RwWUE74/2FlmQsgIFBRAflcvzjOAAA9oQAAA35BmqlJ4Q8mUwIZ//6e\n",
       "EAGxwv/3o+WkgANqu1ZUyrVRJ0HOnkKNaXMyGKnQkDIBPmmVen0InCk1V3oRRW8OtYrFVcp1rUcj\n",
       "v9+rTUjzoR5AQnbloXory98JGIg758gLrLYcACGUzuiH5GcTizz1LVXf2EzHmlPUES278SH2xskx\n",
       "I2esnAU/SgPQXNPIhoueP6h7g5CmWdSzLdTkgnx0VTAHgBrm6AEIeaKaZMgkICjIKcp0azATJlys\n",
       "x12TGc6EqDcb0VQQweD7mzIGOtfE7wv/l4Rzw4wEM3bN1zkzhJGDYBQYk4eNLseHxVmSgDZSM9Bo\n",
       "xUj6RqkxSj4ZaaAvDxG5aKGZAPMQDbmzJ+va1/3r9dxVPcrwJyHK9ze2FNGWTa26cJRHYkghwrc+\n",
       "8E+0XBludEG48Q8O6vqJXaAox77AIlHpUHFtcVlTh2UWReoYSYxlgyd0iJ56xLRjbN2XH67dvZuj\n",
       "/QiRp9cDAcGR1RXyLl3iLCDtQINefbIYmT2Ng2h8RS3btxA5rvVvMF9e+T71hnIxt25m+dwQQLTC\n",
       "OuCP4WOBY+a6Y46T65Vn4Klw/k/DKak3M7ugWITCOqjTgnEoUjh1/hdHIf3wGHirz3YGNiG6z4KC\n",
       "89wt4p2Xe7bjd9dBEQym/5XYLuCkp1wZGfZGiQS/rmoprNVyZJJCTNRb0K5+qewOInnCV1edC5gq\n",
       "xe/aR+aASzppWtg2VIXjJEwjJAHLgqqKVRUe4GQ83K0E4Wax2UX2yoT/Z01yvMM9A9i46LdihgKH\n",
       "4JkSwj7dM37l+mvx1sLvlvr/lG3MTlVBOP7F4eFM7VKZrNAKP37RaDXFE7uqc74CLO9kyH7ftoaS\n",
       "rUbmKySH0JR690omjq/7NmwXvs80tttAdVe/OUPdW/lbM3h7cHVPBhA22LtPZgB3Wugy77F6nrwk\n",
       "56rZvsqdMxlYl/LaIQANeCg41zpBw4SbBnyQt7OUjBdNdy/x0jOtvm+Cr+kLeI9M7kto7jtd9KXt\n",
       "iY/JMTSh+3L5KI3dy0WKTW1tZkhnaOrv3kWLvXDuDZSIP/XRBZiklLxyTNhgqVq7vjYWzTvFf35T\n",
       "8XQUgv0uzgWX3bM6/809M4jYawVp5rKqMGDW/cFY3eMfA+DtAFGP9g5tJ1PWmOah4fnAE2ZdsQwe\n",
       "DqChTyVuYrHtGSgAUi6NitYMwYyJtwAABgUAAAA+QZ7HRRE8K/8AWuwBTF8wvAW5b+8ADrQCPFYi\n",
       "59s8nqTN3a30s4vU6bc2EypXk3juscPMcwf1+3wAAAMATcAAAABAAZ7oakJ/AHQeOHcjNyFABEx1\n",
       "PEG2GG1QSDb3JmTBI1RPlcFRULcWzetp5ZqMnVYkf2n9zisgganwRnCBgAApIAAAAolBmutJqEFo\n",
       "mUwU8M/+nhABr3bjgGjdwi+yfaDfEd8L7ZlqXBKh57UAG7ZpY/ElPFmZrdoC9CelgLgo2Vr5Bz8w\n",
       "0693qcY8vESq0w+31AYANOzLvNukxZ6LjsVgnvnFu7PrtcSce/D8Mvu/YncwtAFqVaA+Lu5GR404\n",
       "V8Ou5C6tSjxKHazmoiTB9DvJYz6BH9teOv81QonTflDTE1W5fAyimvDzBpz2dY8Nycac2thDzr7F\n",
       "VwL4BZPuPD3G+Syiyvh+MqAXzSvXO6UWb/gwqM0384zOc3TohCSimgsqrgZ+hxoOlYejNFyoomuJ\n",
       "Yf8DRUmHwQtP4G745pDno1nDxYsNRtCbrIfG5vr/Sy2wvijfRkUfKNwKN/hefa5WwrvOX3UMCdLB\n",
       "0WMlrP9ibb1zCgzOYiA5EH18PbhfciZ/3XmT75RCiNe6evZvNbyOkNxwH/V8o3JTCCZMZPnPImKy\n",
       "VuD72nCgp97cR7AHFODi3cXfRT71Xj0Xj4fVnawXMBhjQUJRP2CrpbBC1MnhrChImbfmhxHa930n\n",
       "FUiBWj5IbmRHTo4mpaRCxuY+92yrecmAF7euor4AtnynAUVc78uzsQC+Cu4BCEXwR8D1VCIa56/7\n",
       "eLgMmtMUmJKaKXynONtMTwPV9uYcY+AgxaTqX6zGYzo19brCn9ywopRVmjuvyCY0c7iENLzuyvio\n",
       "cPJpzQFm78frIJGDo3xCpCcN725IF5HjQYMzB9ySY+WO/pjdx9TTjzW56OMRdllivNirjAMOwU4S\n",
       "j1UCgYqlyIbeHizb/OYgeqd+zR19eontqQAmHt/iqKVNvDzxDJ07tweuRYWBN3LnfFdkExcePh2a\n",
       "NkhqTtONbK/JY47AAARdAAAAMwGfCmpCfwBzx+AfEM0WhTwAhTtpe2YGpfaqGhLjF/ncZDqyEG41\n",
       "skz67e6bhjjQAABFwAAAAlBBmw1J4QpSZTBSwz/+nhAAuhTB0uFuEoAUk+4Wka1R9YiyOKjVJseD\n",
       "uVBy00hklbMw67Ns6yAHUqgryRLEk0Y8b5X/1oPkYWzVpQxqPEZpOhaT0h8ksYzrm9tZx5HCPMbj\n",
       "rxsRLyGKKrZ/+1SD8PX3tFtFim6Isbki1pPLtaHy/iuJ5YOwX23aQ8lrxFMGuSK6PDTVQxTAa8uC\n",
       "4LQ36GztW/BzzAryWD+nUgdqH9+F+GN+j09JokXMOITjIK6WnCbi2RLMhSSV2avpT1L+zSy6Bh9c\n",
       "1Wg7cM/yzLiGRk9cq7UGe98KFjeVeCxw1OsA6YcjW8+wo/X1UiLCcHdlkKr7NDMcFrTw4IJfur8d\n",
       "ehetHzt647UOYoCXRU2cKZRkt8rACIh07HjiSsvPeweKmf15ZMi6hC4aRrMZV0EeGVP+fPIQ951g\n",
       "6fZl0RkgLVZh8np8Shj2vMfdwR6EjaT2YzjsAP0AB04OJMgDd1QkbCLHwsNFk9lPpIq9385vKIaN\n",
       "2SF54GR8rqcqMyXCGo46hKBOK1BDPDvXOeWkX21twwE+1N3+GqFS4Qdogw769ZWYAC0D2wC6l4QN\n",
       "O3Kynl1wP/hIMsmFf5XbapcpNRH6o8HABVa+ahqgZSj5CZ8QgpZHizSJL+3PRv5DwuQ8KyQ1g4Xn\n",
       "/FIF9I9wFTTt5THrDdIar0ul58JpCJBonNwwWwF3xYUkbsxf/WEmsgnU9e3Kro7K+sv7I/M8I16B\n",
       "maLxhmqs4fspYad0RKkfH9gflPxmRUtiVgoPzHco7mTTqHGAAAEvAAAAKgGfLGpCfwAvwpvwY6FD\n",
       "kOSACdvLfOuhUJGrzH+8uR4Xm30WTrPkgAAD8wAAA1RBmzBJ4Q6JlMCGf/6eEABLSW1gBKpfq3ne\n",
       "qAwWzDtX3CGbRb7fvYfNh9nY9yOLzT3HTE4CyM2dIMxgO0j0ncNnTOn+upTKeddTPK/peU4JIzNH\n",
       "j2mTTcIKBdUsr41m+GyPVav2AK1A7+sNfG31GfwHBQUct6JbogcQ+I3+PiArYnwTd9ZAtMAg+wTc\n",
       "/9KzsHq9S0QXu2jYx/6KoRWAXZSdfd0k70UwUXYsCnF+lJT/UJaYaWBbIMkjKUkKnszk9ZH9IYsA\n",
       "5BCs++E2YjoAgyDvaPYiqtOggwqM7wtv7kEDFRESm8czRK87lbltABchnxxv1o93HUNcMgtCsnFm\n",
       "jNgHfCeyWc8YFlfBKuaHQ1/+oLBpDtBdm0x+E3Puxv/d44LVf6RfydNY4ftacuQS8Ta3vTI5C2+n\n",
       "OVJkuO2/ch2YaKSNsfbws1R9mWpbDOachNtQK+/ek3hjxTSlWf/U/16FU7LnYODp93FqEEDoUWM4\n",
       "fTQLmrkKRIj/CrMrz02igb8xN9iMm3Bt7LR/DQJ1SLf9ueoiKhKYeNe1TcF0svQrPthG5/EXIwee\n",
       "3pgH9CvlEHXGamcS3KzKV6qorpE+O45E2BXs6Cx35eqYkL4uAN9n7/uxyUUwRXdT8Ac4bHG9MC96\n",
       "QIz0TtauNqMP5SUGZ4DDStQx7wEzf+B6/Gs5uQ+v/Ns2y3jpleFAz4GjHAjDKx7UWZ89vvcDVTpM\n",
       "WEEIt2AHGrcElUU7wRYql/JhMhK002jbctobfRD6juQWmv5Ge9HNdbREMd06r/aBcmZgk9CPikh0\n",
       "xpZeLYv5/1jW8MyXMUb50jUbyWbylDPapRAjtnJoaDgVcSPS9emXqHwDrR91YdmpOGhV42ksnLjx\n",
       "2/kZWfILwTx4TC2n3HFUVoOaOClxRtvhrl+qINIa884Glzr9YydcRnC/fOXarDSjXfE/UMT9KO2q\n",
       "XucK7sVSec7RrqC8dIysAl0L68PB/6JEs09Y06ec2oXvbh5IHd8pR1QTfJ57hyWY5g/889wKaN0l\n",
       "lZBVDn4TNLSad7YXlRp28Pqkz75kmT3eq8rLGXIK4+wqKL1eg9o/vYg2V/utFhmb4WIBrnnXPAQW\n",
       "fORAcRhRgUTmWIjhHDzQouKZ7FZCc2fFw5AAAr8AAAA3QZ9ORRU8K/8AD4gbR4tITI34Fz1+vXT/\n",
       "PtCAEsMNCwmdRIsnh3RchIr1Y1pFtsguRu46AACtgQAAACYBn29qQn8ABBdy1SEYGkfPDFgwoAIU\n",
       "4x8ixH1FVZ1zvyZJoAAErAAAAVxBm3FJqEFomUwIZ//+nhAADcroU61sBmUuFo8J0Hhl14AYFBcS\n",
       "EH7MoS4JDEo3cAo/CDNBXEVRuM6a0+liaXe0YMva/V4Tpr/BgCeoFD2cQc+re6nkVqGzElhglR9W\n",
       "0RbOC6BEE4ZC7qUaORHpZg0oipwJA/JLxwaG2Nwj3M7QdQNFr3rwszI+JLAjL8zLS99fGWi/JmH6\n",
       "v37vRQLT4CPMPNpw6yzF5TAfAVs1P2dSufbOMF9E2DuIJoMKU0dKuKGSoLaQejUaQFqTU8NHPpy7\n",
       "eYGfMJEmFFyrCFx2X5R10479y6wZzFEqq4rMJpVjhvMbJE/wgFYdw4xxCcQYBXXIWve6Z08de3eh\n",
       "aWy0Tbau8Id7Fm8lQduZF4/o8ds4QqfemeCbruFfyMtWqmMstN4IGpJD1KBEo59/5McYm3NF3hdP\n",
       "l7Gl56dJzWHZIyG7fdcBih/VhyfFGAAAUkAAAAJMQZuTSeEKUmUwURLC//6MsAANQDVTEZ4QApJ6\n",
       "4TF8Bl3vX73suJUWney+U4A3bU1melgnBM0mVLMROEnS6eAPae++MFUMbXjeKtX6FkUVLCv3BUf0\n",
       "ZJVxemEqusIROO3NVureOIi6Xz/fWpexhSM6AxLdR9tleLWfFqZDaldvu316TIDy3Ze5wrcSQiEJ\n",
       "CmFTxGa99yxnlqN3In7fGOzr+PoYqPtjXye4G4QMOQCai3uV1HuA1JoPbk/YVqQG3xAIC2f2KVev\n",
       "VJL6wk0VQ84FGPGOf/jPq2361eDxqpjYwYbw0CfLWfQRg8SZVzzxpzlWnNZ42zlaksDlsoSUdB4q\n",
       "KJUgzWvdM56OMtTTu6OO9RWsYhS4BNWI77fveKKaHrFEiGiKN4Xyzz324u4hsSdivaN2ByTPonx1\n",
       "5uTFVnpo+P2aSKItJVgyJBEo2Fr5um4rVHh9bsSdYoic3We56AMlYw5iM16jYnXXL6ilhuiaFYdd\n",
       "Ghnw6AoWLzGQCllIx03omR68zKc7zDAIEnN2Gg4k01dxdnCD6t6FQ/qzgu6+xqOXDi4DTY6C0kJ9\n",
       "ZfsbN7l0J3ImrmupUSmgKd8AuiBwhx6WrIrATdAMYv3fsfb7syPNInbmVbyBL6tCg8azsib4cz6P\n",
       "8jsjXM0VeM7BYDixmRcP6xk55FYtiVNBpZ9cNLBGTutsA/wQFGyMV2jqoMqvNipA8fuZBz1XZl1T\n",
       "KReszGpk5RqNVsjWukjMSaS5PILrAhhab+TuPEyFHA94I1Y7nDMQ5p1pZS8AAD5hAAAAMgGfsmpC\n",
       "fwADig5rCrArvWnRzRQAJxzv1fradg4hSsYCkedDmLeuFy+0PM+j3bgAAIGAAAABREGbtEnhDomU\n",
       "wIZ//p4QAAJ7rNwAEG2sAQNORqsy391SfaBiaBZDJHez8K8PBIQFxR8V7AwTPe/lHdEpw80RPdfK\n",
       "87mbMU9QVIW7aJ6vR3UIz0deiKun3B43qZTKPyEwfAFRUV9uSYYfsJGL1O/oJKSXl8LkS3fdUnwx\n",
       "eUq8xLCprkdY9UHLPuagaURQJtv7/9KFbOOc65c8sN0+6L/8c7wRIkQ+wiWxeUKHJAHJPsl5hV06\n",
       "mlieuv9HJ3JUzeWgRTUBxA7gKJhzN3pF1Lh3m3vXovvlfSJc0HpU00kTQLw/57CUSt0AqtXvOC4f\n",
       "Cf1dqNdSA+Csp5o4eBJXHPYHBebVy2/4L2xW44Jrk96ipjxzF1cHMkkJNJp+MOZzBWdpYvzYmUXF\n",
       "M32d7yH/pNRqiPFmgQSbBz7+wnTEIQ5nrvR0gAAIeAAABC5Bm9hJ4Q8mUwIT//3xAAAKOoUbBwgE\n",
       "8JrtSZPTyLYdwea6rtU+vywHqni/ndmLg72fmaq7kVbIaR26q3vbCB5OknUc+Idojo2Gjk1pgJgI\n",
       "25lHXO5DalNWsi8E8r9RaHWv1/q9/yMYfLPcGS/v4ImjY23ZNoge5F7zYvenItnZth/iYjvk8GJ3\n",
       "JOsvge7Dj/eU0+nlfprK3Yct2aLPTUXe++VzuPW/EvUiumvMtrPg0gLIxtXhROCsrcMygCWGldL5\n",
       "KnlXkJN3l7+RI9oQljbfknCW1fVuRgCMY0+AGCDUafiQCXEiVdWSimvpKh0P9KDe3u+GVzj3K0Nm\n",
       "ki0EHGi8tNYDnTx8a4DRAraoZNyMxmDms4DeuxOlosc66raLBmujjIjF1TndpdfPFQZa/CkDEUk2\n",
       "h7ZPUbee4/MPNnOXHQyDl1rUrXgEJzZ0IXw6vIRoKrtjdOka27xFlzRDsdrSck0X6MGXFZaJWXtR\n",
       "eKaTaNCrGnjfDwJGu7JFh2U8lDBmwnKXFI8tk+os3o8f8Y8cRiXdQi4Qh8E8NQNpXurAXpiq1dyF\n",
       "ioLA0W7TfRIpbPslMUVAZrfiFPq334X1vQJyE5eaOfqrRDzuLOC23piD/ep9/Qk8E0nXs3vt5ROM\n",
       "oc5TXMdkDAAbqYZLgQllIC+EXOz0bwUrPFMblPiTdYHymmMMc6W6UBb9E/Ux7GtWvNowAMfWrBqz\n",
       "/hUZdJZLkeWYsq83izZZdwB3feqQ5DsYgFsj0IWNdSpnANytoNwDdFqysCBLH+XAOvF6nZGvPslt\n",
       "MRffq/+tPcsXOpjkWSNbyZa8HCO9UI2DPQ/xvHb8Ln3ybmYBYBmPv8hEcrjfIRwknvprqJ6qC40q\n",
       "G18yA99e246EzuOLRjWl/8CWIO95EWSeKCi1wgB14zndAda3/IfCElkfm5cgV3Vu31w0Nm/4PSpO\n",
       "/e2ZiS2I1bMprXpJ0R+CQqLhi9l6Cf04Ow7aPSvJgszXvuK5tkF9m6Yw0GCSxZc2nkT6pPy7yU45\n",
       "WHJTfWKyFNcktfj5RmYXS09y2ACpHM3fO3JvgTRuycO8LLZFprkV8Jv9KPwp5W74pGnIW5yGXJu9\n",
       "2cDds53XYAHR/n59y1klpu4V6enmcobCwenS7ToTy4ua+2Jsz33Kzqf1GHWRu+wb9yjSHtDVRo+M\n",
       "9RnAE7lQgPY/qYpluTfH6dGtrW5yGkQy7slHnf5ctnnOfk3SWNKlG0r/CXhN+wl8Lwi6816b/niH\n",
       "oY1E7pq6Bug7JnaLiUA/3aQc0hHLih8iaGtIY8x+V1V4/6fWCukaBER86xyOtQmPMm5p/r/wKD5Y\n",
       "qGm4LoKNafMhpJ3k2aQp1EWVlqyH/kMYyUvjfQmUT/kRmUoo/0gnMHdrtBuDV6iDsm6JypQlDYHR\n",
       "8fjYSzJwKRAvWaSHO83wzA5k2QAY8QAAADFBn/ZFETwr/wACs5sWkWJFoGP4ARRCZlWlBrztkAHK\n",
       "eG+ea8A7MbUR7+NtFQxfQAakAAAAPwGeFXRCfwADc+cGWEo6PMXZPVFyUtACyZvo+HyLL5KfdmVS\n",
       "0h7swzip4W0qCXdEqVoi+xu+Mxqf3l3w0ABEwQAAADABnhdqQn8AA3TxhqUgrcOBjWgPACZc7gCE\n",
       "IwX1Q8HHI25s3FAMmESL/Z94y+QAIGEAAAEgQZoZSahBaJlMCG///qeEAAADAtW0tQMn3mcr7yb8\n",
       "H/eu+fw4rJfqHYZmWEWIPSps1Au95iAcOpYV5s5Rq9SrTINb8ACL+WrXQhuZM4QGM0hgO1NJn3Up\n",
       "9qAMbsvy7Gvn6Xa5twvTs9DKfcbIZ+ehKxXQ2Y2IuUvBRkwpJVI0fzaayzTv6oDljlZ0D6rO6hyk\n",
       "Ck8Kpp/Cf3NGFahDIEyj1siPdZ/Pmy63k21ILazIQG1xAMwfJZ4Ebb/L6ABa5D+8WTOffWJv+fvV\n",
       "OyV/DOpn2XEcqqVXyhULdf7vpfooL73dkDYN+uxi+9xzgvnscxZWc1IksZArtJbCrku3S1kxxttv\n",
       "PnfSrPtzQD4RbyEdJo80fFr/7GqTthqQJwHrwAd0AAADW0GaPEnhClJlMCG//qeEAAADAIctcjpC\n",
       "4AvyAzOKWUQWSGKa5oygFdV7E9BppcHMqKAwaaxii4phqxqE78EwDfwkO4U1ThH2f8OrqZ7z8kKs\n",
       "9oOEASixZi/0EnsXvpgJIvLgNfM8H4lk1rF+vc+g+3y+gLjP+pp/e+Iidao2t7DDm1iRJpQPSTaW\n",
       "AreidZGVykphl+Vt0mD7vcBWXV0OaAjEJ813xyNPiZh7VJdU0yfjQ/KlNv5NX/NP/30JJbFx7CsM\n",
       "9sNT4GSCVtu4bVbnZS+tPXBkv4+Qcm+eCACF23dVChdV80jwILHHL8MIRl/aHydEmEUKmlZgQ4UH\n",
       "Snl+wrPHoypeBPOqaNoO0kUIYPMjKJ6iwPmm6FdqkFFKVXe5Q37llAdxmHghP9ALk/8v9XWRENfr\n",
       "UyIcG6YTS7EwewxZirjw4aqacWuQ6inGVXdFlxsAhAAPcWBx2OUFWQjaEOhGqlfex5RR8spN7N+/\n",
       "jB9uAl+ofQLHjnuu1b2EjqBXOyoCA2QrK8f9U0drfG7weduhF09RK3nVzuqqmRdZUduZfOuaCmOf\n",
       "YJ3iuJV4tDvdV1Ku02ltzSzQls59Gu5o6nINQfqjfEGHRfcyn5lvmKuBObWj8Rr8vR6rTJB8UFha\n",
       "NYLel4WFpyYTjnlWnuRmWUHZgJRhlprUOleiNpnT4g+fNEgvKyakGHarGuea7VI4zbbMupm2Kmw6\n",
       "XmIDVKCIPoXx1gtJU1Kcb0DMfHtc80UadVN41xvvFf/KlV4gyIhG+bKgmCv6vq0JeNICKQobJxFq\n",
       "kdrmd4f4c7sBMWSmAQHjVMFsy3KASl0A1LhQYE1Mjt+k6a3gEGRkFFJebA//6e6Xcpnt6OBz+ihH\n",
       "kUmn11uVyTHFSzAsKbLNVyzJqwVDso/hpiUmZLpAnTPYYcZThFyzOH2U8M8MbKIGffEMLykfcYx5\n",
       "osJeXQNluaWRhybDmN4/YJ11aM/O8cBy+hzjo4wULnwwouV4KnmqxDx19cG6raB5oqaEWgHZXPVr\n",
       "86Yh/QRt2kLzNd6gKRHWzscLVEGLSm5QhMsEQizjKDUqD8ncZQLwg4sunNs5Z48jhmM4gNn/OIy/\n",
       "c/BC/hnfet8iSSVThQS/bKDY0Y1VHUY8n2BoKCibTo4Em0tiBi0AAAA6QZ5aRTRMK/8AArObFpGT\n",
       "FxYWUT7pQ4/NSingfWGgAtWviYzewQNBdnpEhZ8eIhNAASCNOaSR7cAXcAAAADcBnntqQn8AA3Tx\n",
       "hqUgrcOC/dcBSrLIkm0ACH5zcFtDJfAg25HlByA23AjHUKjK2XrzIxIoAD/BAAACGkGafkmoQWiZ\n",
       "TBTw3/6nhAAAAwA3MeHQAarqy64d1MdFcLVI+5wgpbkon5yNe4ZRt9wO3YA2ReVeqIt7PGMEP8VK\n",
       "hQxAAA3QdJoe4+c/damda2Z+JPXsiqNqbEmt6Xm4njrCH4MGHZQ5dKtCq5qs26uGBZj/kHPXR2bG\n",
       "Qe0cnMIp7YCsgdSpqwM2NvRVqLtVvJQ6LTT4PtHLt3l1aS/x63j0x66LsTxdLP11sbxjjte+tp/j\n",
       "k2h0Yys/63lMe37TG6JDvb0FW1CuaqGYO5knnGjGKHTg2Zk24/tg46wSqUxupiROUil/K5P094Iq\n",
       "NazewG90CHjyoblWd5RDKLG1RZV9wuyoldPU7/U9qxPdY0dJDMD1hTteqIKGViLzxnTwYjfs52MK\n",
       "2hhYhZ7qHFEF+b5bB+7NXSA13nCmQewqGZmzcOiDLD9jfdRq1rR7BOdY04NepjNdjHrlNaOkh/cj\n",
       "yc3DKUhy48wDOBrXE1R91+DD2HwFJlZYarDcW1vpyrRF6N//02qro48oayjtfX1q3DBNElsEN/Uk\n",
       "Uf7EGlxBTBkUzVB42a0wSjPuHSuXwDfNANgPw+jrUeWW13vIrclBJHr5UZwUD41V5G8VpPgd/GV+\n",
       "/wfuLMk1Qx0rcIvbHxP8pnrKqOvQqOf51u1dp24Hgs11PMnvKPvygRHelJuNIqPUGo0FpRhC1tYx\n",
       "HngG6ZqMGEuNOLj8nzrIDxkAAAA8AZ6dakJ/AAN1e8LjlTh9oL8PXslprEEBbwkkO66mw4ATVxEo\n",
       "G4hTW40UbQH2KimMF6X/rUIeLk8qqAQMAAACFUGagEnhClJlMFLDf/6nhAAAAwACPcg4T+MFtyPg\n",
       "Cromb8ej8AzKXRsZhPww/fTXxI3/BH/pDgE5915+y1mO1SBtExRd5z/OYUtajEczOb8IxqAsPwba\n",
       "m7dFr1WXdJB/Xv9YFwJ8ImBy5dgrYuYVNS7EFYoXBWpdZuQQQ19NwH7flHAYrCwcAsTuS3e8I9hT\n",
       "9VKIwrr1ehNfREoWmwrXKLz0OLK8tGbw/20ZEiS9V5L8F4fHCGe9EMmISSeI30qSgRbJAi6P83E0\n",
       "OguwuhmQB+M+aW11DVzBQ1GdrAqJLHOAkXjNMETjMjH8tq1bOqNTdXu58DLA0fEIQOkAgeobBKVR\n",
       "LbUojU2z6mLbKLCE6eqUOl98sZbyXSrkIFwfabbmTYrTyOmDWEa3Ft29cxJX+ZyxMPQ1CoE3gQaM\n",
       "UKoJMYEAsgEsdWRQy54u73D/m+T6iNhADB1Lb3DFUC8j7JVfcXXdSpUysPA72zKKSlFVDBZce1lE\n",
       "CAuxdvoYUs0qLvlRT1eOiJnDZz3GZrSt6ZfRfFjTrUXyS1CuLr6fgmYwI/HbTe2ZUiGPnG2zX4Qv\n",
       "PElYz+E7Fni+Y+V+FX6wIsO4MzLt6+qwyzD8rFLaEq+vnvWR0cLuymbUM3rvedwvo19f6050Ks64\n",
       "irBX0OIz8nPvjSzotGLcMJITk2t4HPh/bRLuNKMNsLS/8ePuSkEL93HLkFkfVFJAAAAAOwGev2pC\n",
       "fwAAAwAFQ84ouaRbQyJE+nzDIBoAJabIviWevBzJtlUyTZbvTr0TZ5fNv85KUDOx68zk7NmBAAAD\n",
       "1kGapEnhDomUwIb//qeEAAADAAKRv74Kt/cDFRM5X7LcYNx2T/IimmcUGvoLRESwf6JNFSgR6bMh\n",
       "YhP/FoTZ1UeUztevx/pGUuE8iJAi4oK4PRKNv0vdqgZDIuv5R4BakLKwOoq2LydCk5CLnxNnABC0\n",
       "up4NELVeeF6PwTi28SuXQkFf1ULVe3V3SSOceZdKk39pqBfG8dSCP1bWt2FKngMLNimlv4w6Cdlm\n",
       "Pg+DOzBH8w5rFLdtpcxqws8TKxTiZmgTRfjeUd1XqekrkIbdLk3AxbfzWwhwSBNwj8rxeIbRfatW\n",
       "cCUF8zDDVevO33w5sSKM7yVdjnNX3TuQ39jYt3snejM4VXF8jcl43FNuUOHMym0bpGYOuBKrPOkG\n",
       "F3nO0bRfLlJ+DyJvacYM7G+CdW0uorMo/ts9K0c2ItzSwJhrthdp1Ok1lXcUXrvqEU/5UYPQwKKl\n",
       "rLhNtydQNZldcIQqB96rPFLafRfRxoyNk4QuZhoakLP3EEhDCVsCyu90G68QZKe8jQPVRyEEY5LB\n",
       "MAZvTVBFRTf356StuLxrdrOUaXdRgcxxmDBr6YXz6Q5YSNddXhkPwHO04kn1Tq+FV1GSxcHC5KZ9\n",
       "o545C4qPKC5gy1auwtMe4KuSxJ/uOI7Qyx2wnfeOHeGuCf5BRnrFwytw6CC8aRKGOcSgfnMYRHh5\n",
       "flWpr+9Y1FhwttaNGTYczM+y6Li7jv2Bo4JOq4KrJhEf1rzzSgJHgq1dQYPFqwNea5a3i1thut5w\n",
       "hDRccpe7OdKMOeqsYfLqu6TFy2Blxirhha4dJYnOvJF+RZVIoZ/zuKYYEUBYnRW/WJZoraLyHZPI\n",
       "jxlZWm8xqZZM8WNCHgUDJSghmSkfRH0mFO9HjFZ+JK8FIl04gY+1wmlR1GVLCRwHum5GOs9vHWRs\n",
       "1OfkgWgFiQ7xw7mrSxn9WeRdK24fjteP7rR04HEMpwsbpHy7S5dQJy18F/VBj7buOZ1x1czKKjQw\n",
       "9clJYw7c+9HJeMh9sl2vX3iZJa4QB7EtuDBKWz8Qb8P2WJJlZnkDSXLMJ8CxEeKWr9yO+gnfWtOw\n",
       "lPtqjexzEbx5NDJP/5XNNRvJ+EX9EnZzuz+puT1u1IIak5I43SxOMfULZI2hsALRaToOt01szcFY\n",
       "NaNsQZvmiA06bTTv8I0DLnKsSbIDjdibTSZwfS36PyP8tzlR6F6siwiws32GAdIPTxk+Tn5YexI0\n",
       "8GITRel/Zxw5qw3FdXQ0uGKujIM2hs/mYEqn4K9x0bVVBA/2UitQ57asSLJrEDs0iQlsW+4Z9YdV\n",
       "pUxJ4CX+Wi9HJyKwCTgAAAA9QZ7CRRU8K/8AAAMAA/kbxjPQqHEgBAs9mdsMAL0XT+2QFcuCkpAC\n",
       "b380iahkBAlbxTRc6g+jUSEJRqYNaQAAADIBnuF0Qn8AAAMABfpflH6K2yEpOmXoP0GpgANhQ4D7\n",
       "kkXPDTIJNRIy3rQNP+r7QChBwAAAADEBnuNqQn8AAAMABfr2a8jj/rCW+sHLLiwAS1aCct9Omeib\n",
       "KEstTAgPWW0WHtL7E6RdAAACSkGa5kmoQWiZTBTw3/6nhAAAAwACjavQAuw66XL21LZSg0mcfao7\n",
       "8pDcxcxtsoms5mKLWGieUKgA5E5FcIlLNcqi6e0dsO7xaydbbSAhGo+9vPXp4UTB9shWUALpFsD4\n",
       "JB0F5whqnA58U9G2zr5HjI6ckiLTIpWes9kwT+9LwGkffwLcXLz03jt4bkX3rT2K77oKp4N9S9IJ\n",
       "NRfoGptilpCUd6Sn9tShfQvCYSdP7L1XQHZe54I3HFpmBXYPnP0jEHkGCbXMCsafjt3ppUKYcGt+\n",
       "cJJna5OqAXJ69VL/NYYyX8FEShDsY2CKPDZR9buQS5qYuq1EcbcRmuO7xbyF9rBw6ERy24UKMHdS\n",
       "pVN264DnKua35SM5/WOgltQleZzrGhC3ZlVefjx6wIUbdvSP+3UJrKf7sx9zZM1vz92kUz6ngnjy\n",
       "xqy/poUmP36H+s/8WkeHE1H5a25Maj6b/mhi1Svut5YtzffCBh5kzQS1ukCKkJdqJmgbSfIFDM0l\n",
       "GILxQVkvxAdIpa6RRiHeJOo513SUzM3gEDMMwwBRDBmbiWi/UuM586E9pMi5MeDy6JOkgB2ln85p\n",
       "UQ8ZhOYp9VKnMNf7dUF7yl4ix/xLEDd0tR8qdtdaeFxC5L6bGt6Ofs//wCnobttf7k/Rip2/6pk4\n",
       "wIlwjPobO7/r25++CMpJCoCjLgJSOCrTYMlH5iFJ4RAGnACZqBTaVA2yyUn09H903UMsnZuyeF6y\n",
       "Q/i/BneOh/mxBwShbVL8HctzOEG0F1+AnFIC43kWyKnbYU0AAAA3AZ8FakJ/AAADAAEdiqt+PadW\n",
       "eIGVIJcZB6fD2gBJ0Rfyvyo/2/E7kRd6LROkAhNzi7l5PQbwgQAAA/dBmwpJ4QpSZTAhv/6nhAAA\n",
       "AwAAP7r3IKwqdfMAItBZrvK5/v4/YQgeDlgBRCK31FXb91yeXSOPEwHWq9DQsI4GYe8t9KAPNH/1\n",
       "euqBCvMjWSr1YdRFa4LSe5P67qAh8ET7lTdsgmGNXPMxXU/p2qbKFe1yR7rtCpolm1NIrSoqr1SP\n",
       "1GQKQ1PnGp8Ex8Mx33ku+xOAJVgTCEmHWRaRhuIycxqvwcigjwExjudsviNRJgS78x2m9uBQ0Rkr\n",
       "gg60bWlLKd8ewHcxP8YB11T8NUIdz/4Fb/J/kbFi0rJ86Zc2WaHyhOgqzIOn8/HkdZqldQRb1tkT\n",
       "HmJuctJ1eVqAMF14Q33z/nltgcmAzTApL7QHn4E+oPlhj4WegRYjXw8K7MtQbH7MBEM7lpAi/V9Y\n",
       "M+aGIfcdnpnzlau815Rlc3LRgCSGdsY1wunwH0yH6Fm2/U84cohfSAIgfcn5F9K6Ik1chO+RkVQK\n",
       "eca4Ny22xxUlIoTls+2d65Sdh26ipIoNGP6aChYHN+ZFo+Urxu/Oo+s78Zd3By9zfIlwtJbIYaO+\n",
       "tAOmNniqBBfSG/+CiSuUWUnq/uZMVggG0NOUlzCcEzm7uldUPlTj/ua/Ghkbd1mErLFw0sDWJvax\n",
       "Q0wQfYSNz6/kalEnifsqbdeG7s7oAbofxVFpX87CrfFgpqME3wyPNpO60dXZruJT9jFVOtUVU1hO\n",
       "m3BKTzR6idKufRTScWhxhEpH5WHdGbcUJCqu1B/8KdcD/VjWJhQKX+tEjQWutiT2+4vMuEIb0fUi\n",
       "BSe3JJNgFI0vGemOAAYh3Ea7wC+LzkROfcqlRh7/S7JpamExGcU4JZ78evC65+m3+MfJ+0uqAiZd\n",
       "+WBTuyfYQKzg5nfoQCEzfIPA4eKWgesdYT0AjRlMxGMS1F2B1Dz0znZld0QtXv7bIuiJr9bM4jNJ\n",
       "Z1Q2J541JaMkEpDOBL6+sOTqXqYb/T8Hjn/tvm/qkqw+VVeteNywNfBA+rszRzl/B/AQJ0f8XJgY\n",
       "FDIQgXLm1GHrsASPnRlbwuLYlCWueSZ3fHXnbZFdr3ttNlcNQR+9mdvW32X11RxeAVsGel/u+oAw\n",
       "DfeyuB4Wh1gpCWxGaGbRlxFa6qBsGwwgpRWcuH0kP4fzEhlpoHqvK1N1YlRIQOQkAyKFaCEv2Lju\n",
       "avWNolMhVwOMsO9ZNiJjl5il5Oi67y1QSDeKT7pGcwUEgHbi4PcInnCCDJmOAc6JdHv7QC8JQPo9\n",
       "pg02TlIVkd+xoTTBPYCn3UUULn5o/LzSrQ3ptAUjjNJ3nxsmbkUDUteQK6A/ydsAfwyN0BhKR5RE\n",
       "v1x4HcbWoe5bkCatKSRiK7Rgn8TSn4QPNcDrkHItAAAAMkGfKEU0TCv/AAADAAB22XVlCaUYa9IF\n",
       "ir/82zXwAJxzTs2I1FBPKNmLixRlikPml3uAAAAAMQGfR3RCfwAAAwAAhrUl1oI8RkE83pGlckwA\n",
       "IRjwit6KFjOUOb+4oaRIRDeSxK4dv3AAAAA9AZ9JakJ/AAADAACa7lKj/Qr4YggyMNLEGoAEmvgr\n",
       "px4Gcx/Bg7nZ3EwdJqNbQpyKiia4cQnfdhKvV+G2gQAAAgVBm0xJqEFomUwU8N/+p4QAAAMAAv+v\n",
       "e3RySUL4AW6f+gynoQ9w128VURQW3cRmZysFlz/sChWNWtHC/jqw8F7O6kfQKg9WrC/gjCyLq8+i\n",
       "sOfjn5RGJq7zeCQn6EWZlGwZAAB0WA9RAvmFtBw0WQl/ZijJeJguOPVhEOZgCfFnhk2IZvHxljJj\n",
       "gI42/JRz/mAayL15e+T6Y/9VnpijUPASGhLiS60xW97Mtv6tru6gpnUILKKlyF8jbboCNilfZyS0\n",
       "zc/x8WVNo6AXBJSSDk+kuodsAolcp6TaCJp174IzF6AU0PTpqx5fYbxMurfq0stvTnc6rc7/r8T1\n",
       "nLdwN0TAa7eUCzy1ydZXV9gFpkJGuKWmItJ9AMhQ0P6vNdHTe5QKjw3njvDTE0ziUgrhwMOFKJ1j\n",
       "K9lB1VJ7NpTL6vxphTztAQZzsJSkiISGzMSXR/v4CGaX0HU/Bw4/5aFwWp00JakZUsj2Lb3IfWP7\n",
       "GWPNLJRQQ5RfB7jjJG8rP/2ndkk6wN/0cYxOqxRgDzGCkZ/b1H5RYghF3VLM10TFC/qxlGbjD7+i\n",
       "+sKsRN9Ejk16OnxsC12GnzcUQkQtDfh4AP/kTqLvK7dqwFAkyl05UiVVIOnzBodgscDU0ivSYHme\n",
       "jw7GHtOuCkdie2ufIVeDCUwqv8q1+ypEOfYt+RXjmQotabg/QHVAAAAANwGfa2pCfwAAAwADJPAU\n",
       "jo04iPACxnZ8nkq3/kTy8v1LwSj+nEKUOIi0rCYtiz0Lq2Huf04BrOAAAANjQZtwSeEKUmUwIb/+\n",
       "p4QAAAMAA18kEIAIcRIrVYkuGhgvE47XwpFPPzco5tCGneHijpeZYVaiCmnTMhuCwFK1CstAFN+c\n",
       "sTARfZeCgRfOizBuQDrjq3Wx/QCaeAp3C8Ydqd+gw3E3JHkwYcG5nHM7qDIA0Pm9js1zPntqJVrc\n",
       "jXMyRJE2+j+w45LhSIfx4uNDnAKRrb1yBXslyl9oXtCCoOzr3LgXkB2wvAElqHuW16dxfTy5fGQd\n",
       "m1GS5nombBKKQhZeS9060JkDrzQTskCp4Zensn/HDCXn6X++wD/61FR8WNl1K8JZ+SGkrHIFFqZT\n",
       "NMKghFzbgSpcLLEXzsUqSXMqaV/r5jI3D6n9s0JO9DWVjbg9lvYYbfvxNASouRliv2WXFFpuRET2\n",
       "Ozvz3eYocs/4PZt28lxzkvMoYEzE+OLvf2pdt7EyjaD4SBOJLR/cxA34LgFFaeLOKxMCmqwKlt09\n",
       "zdNhyOO3rMU7bOrvMi8wqtcKgZUemhnsCS6z+RxfEohXpl4WH0xVSqoMwewMGBmgTNGLhJ/3/8Vz\n",
       "2iQc52gI0SJ2uGctJWD/HZMkDBt/FF8wwFols5nt5wIcUPytyhkRSqc59b7tcD3iBDYX/zjUdrGb\n",
       "OxPFFOH8eipHWhzMwa4gITEVai8HDmmi7oRRhVsvlTAimsegR2bvc9FdBc/oktqMwB//Ggs5xWRh\n",
       "HnFJU4DMWi3O2wRUZFeJn+zfzj4+X/fIL60MvSNfYNzOIh0vXX3Esli4xeORjkGrEg/T2KjUs5CG\n",
       "VkWWxGdlJVtyjfnndo3je7FGNhjZmjYIyn5tkAZIOt2Fr5PFKF4V6SBRmbVF6cEN0nISySXZaBNh\n",
       "02MtAH09H6KRPLArY0BCtFf2zEVNQXPTB8MuQmBAZTbvxyUILr06tRx+YcqHb/q8ts+wlBoPGvir\n",
       "FwT9mn8YJ283AyAeDYyIvpIV/p3sevA3ODVPw2ZcASAYrmw4eKbc5JAawaFXn81YGNXtvi0KlbKa\n",
       "FXBVn55IzbKemRf+qylrr7LYJOn/nFsNgqa/d6F6RDc40HCQ1t1LkyqC+mJgNfTFFg8+qV5DFCSK\n",
       "0wJ3GKuW9Gk7HqSDYFcmrpPVYr+pxtv0vxGTLX4sQ/0pt3ewyt8m3TA1ix/vKO9vP47oK7PHyT0h\n",
       "AAAARUGfjkU0TCv/AAADAAZJ0MvcXpQ8xJ8XU1n/EJ+ZQAll13vGxbq7PLS5dIXKMcI3QyG0vtMK\n",
       "PGm1KU+4vCvzHpchz10CHwAAADMBn610Qn8AAAMAA2EvsF5PDlrnGcbwAhIMOsuumag3tkn/KZoJ\n",
       "YGP5m2mEf+xXDfRzcaEAAAA5AZ+vakJ/AAADAAfF43N0/UM5EH56oPACau3u8V43J6UDa3lOOATn\n",
       "t4pqPIlYUTpCXL+YJyb7WBtQAAADnUGbtEmoQWiZTAhn//6eEAAAAwM7rn5QgxMAco3gs7pl73Xz\n",
       "3B9RqLD34jeREmZEE5N/7oZQFpok4vf32avuXrwC4f+nHU5mm9lVt/LUrOzi3YL/UPYz5rTknOm5\n",
       "KJZ/TSVrK0otc8jPMywySbBWqZGCYHQo9e5xsqJoeNBQKDYO0LTAjIZ9Cs6MY+x3ZF5M1y8cTCI7\n",
       "8Iro0+51XV6x0ahVOv20eby8ejtMtOEDl+HrMQZM0+t0MMnCSAZMaRmwqT596K+QdRtZxvRmyUlq\n",
       "SZIdpCX+kyfxsuTCja1r8v9vaN8Tq4ngBAZszPOiPhE4i87NDnbnAR2T863AQntLTZcAbsKQlsJs\n",
       "i/8mnbf3+GCR2HQdZATbf+7u4YgWqqrDVIxX8Hrd23QGBY9ADZdlbvI3BwjGg8uW5mOz6XI3gaxg\n",
       "pK0xI5r3lNEyU11kj+OZvOQoImi5GqON/jZYLAy5CzQ8JKM6fbejeI3GBkoA9vpwWW0QUtkPPxhj\n",
       "4M6BO9wppF0KD0GQGTtzoUVM/remwIMoGiNiIZ5Ea52UA7v5AEygX0RyCLSdv+k8Oj52vTuJ3PJO\n",
       "mdWblS9mY7k59OinxRU7SKNvd4yztS4fcs7AnEVVPSjYWB/AIqfGI0bGQgGPlp2nAHfIWjilQ7Nj\n",
       "T9ukA8mhVj6p33DizhMkh3Awo9rl47StWb8WDPuRE6cn4fi+5V6NJom9pAlnm7oCCY6tkU8LtUlF\n",
       "zwG+X4VW5HwNTMMXOUY+3P24bdtZP/UfkAsT1nQjZW0a1PyZLQD567Ajo2N6nzN2RX4J+eJzEaI4\n",
       "p6Z+yo7BSj7ifk3Dwwg30DT2muywiPQ4GMLln9HFGw0Dr4BuT+6qYMRsA8Ajno1StkJueNb6z0M5\n",
       "U1hJw+3EEKZHsNnsVaLO1ZW/zgy4lEgUKr5kMyv8v64BXU7Ci52wPOj/1X+bXXRg8p9/6+pEvuEs\n",
       "uemdlyN64TzPFJk3lpe41BVdofRIL4J3TCidPdVrYvNnCfyL5e/XdiWKNcgm/FzUZrIGS1/1Xlig\n",
       "cixHv5YcCGh43x3olUgXwterRwH7S9bsoKrTAqa/iNDxfncREMHKCVFi0R+PdRyoy5ya0+rQp5Sc\n",
       "m6Ke7CVDO6Py8bil3+mLnH84qq47MPnZ/YjGoh7p0gXtdd7+WH1KD1coaKLsrY7WkEOu+pUSaMj5\n",
       "/UISZWFwE7hERr/aKX0wlzF0vXXBdhI5LLlrDaYh41S9eV8AAABIQZ/SRREsK/8AAAMArNgBmOLe\n",
       "dbTqsZDRYgBB9XDgBZGaOP+gepiEP5oGiPvl40KSKPSxZ+/3oNEb8HrzUgtO1Q6HjRIH50HpAAAA\n",
       "OQGf8XRCfwAAAwATX2ew8KeqsZQCnYcAIPzvKD0gOKpU7tFn1LYRrBkcibz7z8wZ0eCRMjULK9mC\n",
       "TgAAAEUBn/NqQn8AAAMA3Txubp+fGjypo6QofMACHcsQHI/hUIgbL5GJM8GHw3tDOCdC2/CR1yMK\n",
       "vMPgF+SqxkS30elogbswekAAAAHcQZv2SahBbJlMFEwz//6eEAAABu9c/e+Cn00AAuMa1w595od6\n",
       "azA8CQO5evb1QgzHzJ5WQurPpft7qLZwizKeUOk6/58yYbTxZQQ/k6UtTS6ZtseuU67/sfwY5Wdo\n",
       "NxNUOFQfWErmGFT0B2n57U88C/GofFRPelOM1VY0Cuu/Nr+n9KDdn80W35Z3KdIiPDrS/5hhnJ0D\n",
       "fK8vGdrrjA10I0CbfjfV5zI9JoVPeFgUlRjZkpR+QGynKKq/jHq6CCuEJC1NwYA2KIff7099xRWV\n",
       "JaCrJWwbaJ6uR/lHpy2RgBzXOXIXU7hI4LEfhfrrug1yl7yRAYtViR3vcAjhxDTZEYAtC3eAEaGg\n",
       "UAIeVNbkE6gXGTvtGQiZWFWF1CBSgz2Mo9muuxJ6syXybBESzX2wpF4RMru+m8SN0blCwjl5bsv4\n",
       "XZo0OQsLEXbLRtsHTpqhXaVz2UOGdD/lXIR4n4GPBg1sCMABz1PRrIYEMuIzX98APh9uyxgsmEMc\n",
       "LuICKn7AIvoX1ZWJQ4dkVwYfNTUVqkbRIKDWFObG0x/OBtVgJGpX397vFcn2f8arASsHjDacoBGY\n",
       "yw6FV0XOX005kB1E68e4eudjcRBm/LEqYEiAZcf+dQ6Q5aMi/nqpJWEAAAA3AZ4VakJ/AAADAdt4\n",
       "CnFAkknh8ZvEzedR4AWJ1uzubtGdc6egA/QgSdt3PuI1Z1fM1iU40bMGBAAAAwJBmhpJ4QpSZTAh\n",
       "f/6MsAAAyju2wBW/UXxSRcFWwo5tdVFoW5+7CFTtNUw9TSkYy6psjEAEl6A6+THMqMTkmPveHiK7\n",
       "Epb9fOj5iOBv57nP0QzYMbyKqF48NiGRxzz7XkqLgwRnaKy2caf4ynm8oy3djDcJ7tODtmlqnZ9p\n",
       "lRXxYX+SbLh143asQ47IiC5rbJlClq9vvhqcklg8DXA9LchasQhYLmWyN5BAogwMa5bfrDw2g6zY\n",
       "wtnUrVZUx/To/xWXbuA6fCQtcX3v2ezWG/bvOiYma4BIDk4vWwKbJC2UMTMbO94EG5OJHiXHEjXp\n",
       "POt6fJvv1ACFwZikb8u/R6++rlpmDkydTmUMqpIXBizFDVh3yeZnoDkedXiBBeH4Yu36BKDh9WuM\n",
       "mamb65qYCnhhfEmTH8wp1qI6HrSk9F2B8p4XSvVJxbeHvi2pj4f0FQ0pqs7/cLRTmaoKryr2shmo\n",
       "MWlPzRkd1Xj96cSwNMPZ/RLWHB+Dna7KTqvakl7QW28gp9fUB9Sx8T/xbIKg05PPFbyqpyaUo4QJ\n",
       "YS26D0ftvBJ0HIF051/ggND3QOac4OHPjFOP7zQ5g4q6ujHB8o471VTVcnjutBQ9Mchesq1J+eEO\n",
       "dSdsihcmguIYrU4oJhrgsb25psqwVh/5P6TfD3U6GoIYtqPKFRQiFxVxGnsO6+Wg1LAkPscX9ewr\n",
       "pJ7n46ypgMjgn8WYrSv1wCyyrVXoC0OHBWGWYcGZWwJRB7P3iFxGYVtFXsBxmvhV6i07oB2VwegV\n",
       "Yg7GysTLCBPKSeEgZOA77RCzarR0kcnYd6KTIVijGN8f1qoOTZ43s0JSpSnmO3/RBnuQtkGJEgvI\n",
       "qybZHhjIFv2dLvMDus5+6wWvzSVF4CE4kMZ4kf9MTFZ0e2XpKjQmQQEadimduTFuJHBGEX8Ol668\n",
       "vUXF5BqC5mVkOA/z+o3d4vXJjPzaJ7pJf+yzZ/0va1F8rx4UQnKL2GH29ol++SMCS6QBDMbRmnMi\n",
       "ZYsf7KzSYtF5otG28UUV8ABqQQAAAEdBnjhFNEwr/wAAKhXuVHKmVstiDt0AFzvQ+VfMQ0GpVly3\n",
       "uR8Zi62bpiwqr3YPhyhDeJUxRA/xcmQ6uRJh7MpfvHd0HciFtQAAADwBnld0Qn8AAAo+k8uPNnTc\n",
       "kAEIM3w78hswyX+FJGX/hvJH432T/DJbGWdfaWlyCDDM4HECx/bncfnQpIAAAABFAZ5ZakJ/AAA2\n",
       "DwEztuhAkAC1vVQVjFdAMTC6x+JGgZkfqeZCgpV1ZYSfw2LJy4LnLFI4wIcdqdzYtFT2EBXBsYd3\n",
       "86FxAAAA70GaXEmoQWiZTBTwn/3xAAAmzJROoXgBNXWCQanCB0i4kkDMO/U0lswjTreLTiDoRRrY\n",
       "br2iIlnCBYzQq0Pe73Xkjxy2pe6tWR/1nC5ozpfwjLecclSPlVJqGLRsUENHE2CcEHcoQNE/521e\n",
       "40rsO5WfxfwTCqKBOABnwOjdls7cDJBLAPLO3lzT2o8Hj+g6BMUKzeCDdEMInNJYz4jdaiKjAaui\n",
       "m+dZ2IEGvgcOg/UXQX5iQTeDdOBbpYx6LK2txTTcueivO0WuNZi6uzu2dtcvv4XTW5AwOUoAFFqp\n",
       "5uL3b7njmUxh4VS0w4eDsAGrAAAANwGee2pCfwABFduwIEAEHml45ygBZxNHgnjF1YO7qQkjiVng\n",
       "gBxzPILELhaj2CvBVjWHjlPxYVsAAAXsbW9vdgAAAGxtdmhkAAAAAAAAAAAAAAAAAAAD6AAAB9AA\n",
       "AQAAAQAAAAAAAAAAAAAAAAEAAAAAAAAAAAAAAAAAAAABAAAAAAAAAAAAAAAAAABAAAAAAAAAAAAA\n",
       "AAAAAAAAAAAAAAAAAAAAAAAAAAAAAgAABRZ0cmFrAAAAXHRraGQAAAADAAAAAAAAAAAAAAABAAAA\n",
       "AAAAB9AAAAAAAAAAAAAAAAAAAAAAAAEAAAAAAAAAAAAAAAAAAAABAAAAAAAAAAAAAAAAAABAAAAA\n",
       "AfQAAAH0AAAAAAAkZWR0cwAAABxlbHN0AAAAAAAAAAEAAAfQAAAEAAABAAAAAASObWRpYQAAACBt\n",
       "ZGhkAAAAAAAAAAAAAAAAAAA9AAAAegBVxAAAAAAALWhkbHIAAAAAAAAAAHZpZGUAAAAAAAAAAAAA\n",
       "AABWaWRlb0hhbmRsZXIAAAAEOW1pbmYAAAAUdm1oZAAAAAEAAAAAAAAAAAAAACRkaW5mAAAAHGRy\n",
       "ZWYAAAAAAAAAAQAAAAx1cmwgAAAAAQAAA/lzdGJsAAAAtXN0c2QAAAAAAAAAAQAAAKVhdmMxAAAA\n",
       "AAAAAAEAAAAAAAAAAAAAAAAAAAAAAfQB9ABIAAAASAAAAAAAAAABAAAAAAAAAAAAAAAAAAAAAAAA\n",
       "AAAAAAAAAAAAAAAAAAAAGP//AAAAM2F2Y0MBZAAe/+EAGmdkAB6s2UCAEHnnhAAAAwAIAAADAeg8\n",
       "WLZYAQAGaOvjyyLAAAAAHHV1aWRraEDyXyRPxbo5pRvPAyPzAAAAAAAAABhzdHRzAAAAAAAAAAEA\n",
       "AAA9AAACAAAAABRzdHNzAAAAAAAAAAEAAAABAAAB2GN0dHMAAAAAAAAAOQAAAAIAAAQAAAAAAQAA\n",
       "BgAAAAABAAACAAAAAAEAAAYAAAAAAQAAAgAAAAABAAAEAAAAAAEAAAgAAAAAAgAAAgAAAAABAAAG\n",
       "AAAAAAEAAAIAAAAAAQAABgAAAAABAAACAAAAAAEAAAgAAAAAAgAAAgAAAAABAAAEAAAAAAEAAAYA\n",
       "AAAAAQAAAgAAAAABAAAEAAAAAAEAAAoAAAAAAQAABAAAAAABAAAAAAAAAAEAAAIAAAAAAQAABAAA\n",
       "AAABAAAIAAAAAAIAAAIAAAAAAQAABgAAAAABAAACAAAAAAEAAAYAAAAAAQAAAgAAAAABAAAKAAAA\n",
       "AAEAAAQAAAAAAQAAAAAAAAABAAACAAAAAAEAAAYAAAAAAQAAAgAAAAABAAAKAAAAAAEAAAQAAAAA\n",
       "AQAAAAAAAAABAAACAAAAAAEAAAYAAAAAAQAAAgAAAAABAAAKAAAAAAEAAAQAAAAAAQAAAAAAAAAB\n",
       "AAACAAAAAAEAAAoAAAAAAQAABAAAAAABAAAAAAAAAAEAAAIAAAAAAQAABgAAAAABAAACAAAAAAEA\n",
       "AAoAAAAAAQAABAAAAAABAAAAAAAAAAEAAAIAAAAAAQAABgAAAAABAAACAAAAABxzdHNjAAAAAAAA\n",
       "AAEAAAABAAAAPQAAAAEAAAEIc3RzegAAAAAAAAAAAAAAPQAABIgAAAE7AAACWwAAACYAAAJYAAAA\n",
       "LAAAAXMAAAOCAAAAQgAAAEQAAAKNAAAANwAAAlQAAAAuAAADWAAAADsAAAAqAAABYAAAAlAAAAA2\n",
       "AAABSAAABDIAAAA1AAAAQwAAADQAAAEkAAADXwAAAD4AAAA7AAACHgAAAEAAAAIZAAAAPwAAA9oA\n",
       "AABBAAAANgAAADUAAAJOAAAAOwAAA/sAAAA2AAAANQAAAEEAAAIJAAAAOwAAA2cAAABJAAAANwAA\n",
       "AD0AAAOhAAAATAAAAD0AAABJAAAB4AAAADsAAAMGAAAASwAAAEAAAABJAAAA8wAAADsAAAAUc3Rj\n",
       "bwAAAAAAAAABAAAALAAAAGJ1ZHRhAAAAWm1ldGEAAAAAAAAAIWhkbHIAAAAAAAAAAG1kaXJhcHBs\n",
       "AAAAAAAAAAAAAAAALWlsc3QAAAAlqXRvbwAAAB1kYXRhAAAAAQAAAABMYXZmNTcuNTguMTAx\n",
       "\">\n",
       "  Your browser does not support the video tag.\n",
       "</video>"
      ],
      "text/plain": [
       "<IPython.core.display.HTML object>"
      ]
     },
     "metadata": {},
     "output_type": "display_data"
    }
   ],
   "source": [
    "with Terrarium(animate=True,duration=2) as t:\n",
    "    Turtle(t).map(iterated(funckoch,5)(triangle))"
   ]
  },
  {
   "cell_type": "code",
   "execution_count": null,
   "metadata": {
    "collapsed": true
   },
   "outputs": [],
   "source": []
  }
 ],
 "metadata": {
  "anaconda-cloud": {},
  "kernelspec": {
   "display_name": "Python [default]",
   "language": "python",
   "name": "python3"
  },
  "language_info": {
   "codemirror_mode": {
    "name": "ipython",
    "version": 3
   },
   "file_extension": ".py",
   "mimetype": "text/x-python",
   "name": "python",
   "nbconvert_exporter": "python",
   "pygments_lexer": "ipython3",
   "version": "3.5.2"
  }
 },
 "nbformat": 4,
 "nbformat_minor": 1
}
