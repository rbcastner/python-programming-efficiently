{
 "cells": [
  {
   "cell_type": "markdown",
   "metadata": {},
   "source": [
    "### Python module/package imports for this chapter"
   ]
  },
  {
   "cell_type": "code",
   "execution_count": 1,
   "metadata": {
    "collapsed": true
   },
   "outputs": [],
   "source": [
    "import sys, os, math, random, functools\n",
    "\n",
    "import numpy as np\n",
    "\n",
    "import matplotlib\n",
    "import matplotlib.pyplot as pp\n",
    "import matplotlib.animation as anim\n",
    "\n",
    "%matplotlib inline\n",
    "\n",
    "from IPython.display import display, HTML"
   ]
  },
  {
   "cell_type": "markdown",
   "metadata": {
    "collapsed": true
   },
   "source": [
    "### Code from previous videos (enhanced)"
   ]
  },
  {
   "cell_type": "code",
   "execution_count": 2,
   "metadata": {
    "collapsed": true
   },
   "outputs": [],
   "source": [
    "from turtle import Turtle, Terrarium"
   ]
  },
  {
   "cell_type": "markdown",
   "metadata": {},
   "source": [
    "## More functional Python"
   ]
  },
  {
   "cell_type": "code",
   "execution_count": 3,
   "metadata": {
    "collapsed": true
   },
   "outputs": [],
   "source": [
    "def printargs(func):\n",
    "    def decorated(*args,**kwargs):\n",
    "        print(\"Function {} called with args = {} and kwargs = {}\".format(func.__name__,args,kwargs))\n",
    "        \n",
    "        return func(*args,**kwargs)\n",
    "    \n",
    "    return decorated"
   ]
  },
  {
   "cell_type": "code",
   "execution_count": 4,
   "metadata": {
    "collapsed": true
   },
   "outputs": [],
   "source": [
    "@printargs\n",
    "def fibonacci(n):\n",
    "    \"\"\"Return a number in the Fibonacci sequence.\"\"\"\n",
    "    \n",
    "    if n < 2:\n",
    "        return n\n",
    "    \n",
    "    return fibonacci(n-1) + fibonacci(n-2)"
   ]
  },
  {
   "cell_type": "code",
   "execution_count": 5,
   "metadata": {
    "collapsed": false
   },
   "outputs": [
    {
     "name": "stdout",
     "output_type": "stream",
     "text": [
      "Function fibonacci called with args = (5,) and kwargs = {}\n",
      "Function fibonacci called with args = (4,) and kwargs = {}\n",
      "Function fibonacci called with args = (3,) and kwargs = {}\n",
      "Function fibonacci called with args = (2,) and kwargs = {}\n",
      "Function fibonacci called with args = (1,) and kwargs = {}\n",
      "Function fibonacci called with args = (0,) and kwargs = {}\n",
      "Function fibonacci called with args = (1,) and kwargs = {}\n",
      "Function fibonacci called with args = (2,) and kwargs = {}\n",
      "Function fibonacci called with args = (1,) and kwargs = {}\n",
      "Function fibonacci called with args = (0,) and kwargs = {}\n",
      "Function fibonacci called with args = (3,) and kwargs = {}\n",
      "Function fibonacci called with args = (2,) and kwargs = {}\n",
      "Function fibonacci called with args = (1,) and kwargs = {}\n",
      "Function fibonacci called with args = (0,) and kwargs = {}\n",
      "Function fibonacci called with args = (1,) and kwargs = {}\n"
     ]
    },
    {
     "data": {
      "text/plain": [
       "5"
      ]
     },
     "execution_count": 5,
     "metadata": {},
     "output_type": "execute_result"
    }
   ],
   "source": [
    "fibonacci(5)"
   ]
  },
  {
   "cell_type": "code",
   "execution_count": 6,
   "metadata": {
    "collapsed": true
   },
   "outputs": [],
   "source": [
    "def fibonacci(n):\n",
    "    \"\"\"Return a number in the Fibonacci sequence.\"\"\"\n",
    "    \n",
    "    if n < 2:\n",
    "        return n\n",
    "    \n",
    "    return fibonacci(n-1) + fibonacci(n-2)\n",
    "\n",
    "fibonacci = printargs(fibonacci)"
   ]
  },
  {
   "cell_type": "code",
   "execution_count": 7,
   "metadata": {
    "collapsed": false
   },
   "outputs": [
    {
     "data": {
      "text/plain": [
       "<function __main__.printargs.<locals>.decorated>"
      ]
     },
     "execution_count": 7,
     "metadata": {},
     "output_type": "execute_result"
    }
   ],
   "source": [
    "fibonacci"
   ]
  },
  {
   "cell_type": "code",
   "execution_count": 8,
   "metadata": {
    "collapsed": false
   },
   "outputs": [
    {
     "name": "stdout",
     "output_type": "stream",
     "text": [
      "Help on function decorated in module __main__:\n",
      "\n",
      "decorated(*args, **kwargs)\n",
      "\n"
     ]
    }
   ],
   "source": [
    "help(fibonacci)"
   ]
  },
  {
   "cell_type": "code",
   "execution_count": 9,
   "metadata": {
    "collapsed": true
   },
   "outputs": [],
   "source": [
    "def printargs(func):\n",
    "    @functools.wraps(func)\n",
    "    def decorated(*args,**kwargs):\n",
    "        print(\"Function {} called with args = {} and kwargs = {}\".format(func.__name__,args,kwargs))\n",
    "        \n",
    "        return func(*args,**kwargs)\n",
    "    \n",
    "    return decorated\n",
    "\n",
    "@printargs\n",
    "def fibonacci(n):\n",
    "    \"\"\"Return a number in the Fibonacci sequence.\"\"\"\n",
    "    \n",
    "    if n < 2:\n",
    "        return n\n",
    "    \n",
    "    return fibonacci(n-1) + fibonacci(n-2)"
   ]
  },
  {
   "cell_type": "code",
   "execution_count": 10,
   "metadata": {
    "collapsed": false
   },
   "outputs": [
    {
     "data": {
      "text/plain": [
       "<function __main__.fibonacci>"
      ]
     },
     "execution_count": 10,
     "metadata": {},
     "output_type": "execute_result"
    }
   ],
   "source": [
    "fibonacci"
   ]
  },
  {
   "cell_type": "code",
   "execution_count": 11,
   "metadata": {
    "collapsed": false
   },
   "outputs": [
    {
     "name": "stdout",
     "output_type": "stream",
     "text": [
      "Help on function fibonacci in module __main__:\n",
      "\n",
      "fibonacci(n)\n",
      "    Return a number in the Fibonacci sequence.\n",
      "\n"
     ]
    }
   ],
   "source": [
    "help(fibonacci)"
   ]
  },
  {
   "cell_type": "code",
   "execution_count": 12,
   "metadata": {
    "collapsed": false
   },
   "outputs": [
    {
     "name": "stdout",
     "output_type": "stream",
     "text": [
      "Function fibonacci called with args = (5,) and kwargs = {}\n",
      "Function fibonacci called with args = (4,) and kwargs = {}\n",
      "Function fibonacci called with args = (3,) and kwargs = {}\n",
      "Function fibonacci called with args = (2,) and kwargs = {}\n",
      "Function fibonacci called with args = (1,) and kwargs = {}\n",
      "Function fibonacci called with args = (0,) and kwargs = {}\n",
      "Function fibonacci called with args = (1,) and kwargs = {}\n",
      "Function fibonacci called with args = (2,) and kwargs = {}\n",
      "Function fibonacci called with args = (1,) and kwargs = {}\n",
      "Function fibonacci called with args = (0,) and kwargs = {}\n",
      "Function fibonacci called with args = (3,) and kwargs = {}\n",
      "Function fibonacci called with args = (2,) and kwargs = {}\n",
      "Function fibonacci called with args = (1,) and kwargs = {}\n",
      "Function fibonacci called with args = (0,) and kwargs = {}\n",
      "Function fibonacci called with args = (1,) and kwargs = {}\n"
     ]
    },
    {
     "data": {
      "text/plain": [
       "5"
      ]
     },
     "execution_count": 12,
     "metadata": {},
     "output_type": "execute_result"
    }
   ],
   "source": [
    "fibonacci(5)"
   ]
  },
  {
   "cell_type": "code",
   "execution_count": 13,
   "metadata": {
    "collapsed": true
   },
   "outputs": [],
   "source": [
    "@functools.lru_cache(maxsize=None)\n",
    "@printargs\n",
    "def fibonacci(n):\n",
    "    \"\"\"Return a number in the Fibonacci sequence.\"\"\"\n",
    "    \n",
    "    if n < 2:\n",
    "        return n\n",
    "    \n",
    "    return fibonacci(n-1) + fibonacci(n-2)"
   ]
  },
  {
   "cell_type": "code",
   "execution_count": 14,
   "metadata": {
    "collapsed": false
   },
   "outputs": [
    {
     "name": "stdout",
     "output_type": "stream",
     "text": [
      "Function fibonacci called with args = (5,) and kwargs = {}\n",
      "Function fibonacci called with args = (4,) and kwargs = {}\n",
      "Function fibonacci called with args = (3,) and kwargs = {}\n",
      "Function fibonacci called with args = (2,) and kwargs = {}\n",
      "Function fibonacci called with args = (1,) and kwargs = {}\n",
      "Function fibonacci called with args = (0,) and kwargs = {}\n"
     ]
    },
    {
     "data": {
      "text/plain": [
       "5"
      ]
     },
     "execution_count": 14,
     "metadata": {},
     "output_type": "execute_result"
    }
   ],
   "source": [
    "fibonacci(5)"
   ]
  },
  {
   "cell_type": "code",
   "execution_count": 15,
   "metadata": {
    "collapsed": false
   },
   "outputs": [
    {
     "data": {
      "text/plain": [
       "5"
      ]
     },
     "execution_count": 15,
     "metadata": {},
     "output_type": "execute_result"
    }
   ],
   "source": [
    "fibonacci(5)"
   ]
  },
  {
   "cell_type": "code",
   "execution_count": 17,
   "metadata": {
    "collapsed": false
   },
   "outputs": [
    {
     "data": {
      "text/html": [
       "<video width=\"500.0\" height=\"500.0\" controls autoplay>\n",
       "  <source type=\"video/mp4\" src=\"data:video/mp4;base64,AAAAHGZ0eXBNNFYgAAACAGlzb21pc28yYXZjMQAAAAhmcmVlAAAebW1kYXQAAAKhBgX//53cRem9\n",
       "5tlIt5Ys2CDZI+7veDI2NCAtIGNvcmUgMTQ4IC0gSC4yNjQvTVBFRy00IEFWQyBjb2RlYyAtIENv\n",
       "cHlsZWZ0IDIwMDMtMjAxNiAtIGh0dHA6Ly93d3cudmlkZW9sYW4ub3JnL3gyNjQuaHRtbCAtIG9w\n",
       "dGlvbnM6IGNhYmFjPTEgcmVmPTMgZGVibG9jaz0xOjA6MCBhbmFseXNlPTB4MzoweDExMyBtZT1o\n",
       "ZXggc3VibWU9NyBwc3k9MSBwc3lfcmQ9MS4wMDowLjAwIG1peGVkX3JlZj0xIG1lX3JhbmdlPTE2\n",
       "IGNocm9tYV9tZT0xIHRyZWxsaXM9MSA4eDhkY3Q9MSBjcW09MCBkZWFkem9uZT0yMSwxMSBmYXN0\n",
       "X3Bza2lwPTEgY2hyb21hX3FwX29mZnNldD0tMiB0aHJlYWRzPTE2IGxvb2thaGVhZF90aHJlYWRz\n",
       "PTIgc2xpY2VkX3RocmVhZHM9MCBucj0wIGRlY2ltYXRlPTEgaW50ZXJsYWNlZD0wIGJsdXJheV9j\n",
       "b21wYXQ9MCBjb25zdHJhaW5lZF9pbnRyYT0wIGJmcmFtZXM9MyBiX3B5cmFtaWQ9MiBiX2FkYXB0\n",
       "PTEgYl9iaWFzPTAgZGlyZWN0PTEgd2VpZ2h0Yj0xIG9wZW5fZ29wPTAgd2VpZ2h0cD0yIGtleWlu\n",
       "dD0yNTAga2V5aW50X21pbj0yNSBzY2VuZWN1dD00MCBpbnRyYV9yZWZyZXNoPTAgcmNfbG9va2Fo\n",
       "ZWFkPTQwIHJjPWNyZiBtYnRyZWU9MSBjcmY9MjMuMCBxY29tcD0wLjYwIHFwbWluPTAgcXBtYXg9\n",
       "NjkgcXBzdGVwPTQgaXBfcmF0aW89MS40MCBhcT0xOjEuMDAAgAAAAKlliIQAN//+9vD+BTY7mNCX\n",
       "Ec3onTMfvxW4ujQ3vc4AAAMAAAMADuPlocG+vHIc0AAAWwAGKHgT4x/f+Yk1YO06GFm3qiOODSod\n",
       "KfPj3dQkFZEJmBKJzj3b5FRBRg2wARQjJzmidadONQou1AAAAwAAAwAAAwC6YAAAAwAAAwAFKXPK\n",
       "LPJ79rgi47I8JxE4Vmbepjky0MVxdD0+oWLiJ2cAAAMAAAMAAGXBAAAAEkGaJGxDf/6nhAAAAwAA\n",
       "AwAfMAAAAA9BnkJ4hX8AAAMAAAMAGfEAAAAPAZ5hdEJ/AAADAAADACDgAAAADwGeY2pCfwAAAwAA\n",
       "AwAg4QAAAHNBmmZJqEFomUwU8N/+p4QAAAMABsde/CpfmACPkIzle9x8scCmGB5RIC+GQ/+Biz2I\n",
       "PKzPauJVOYIAkffTI50IF3hisz7LTqCT65uHePFj9Yo+SdtgSdjz5WJQqhRzAwr5p2NcSEsH3PMR\n",
       "ORY7ujJ29gJvAAAAEQGehWpCfwAAAwAHFeApjgGhAAAAX0GaiknhClJlMCGf/p4QAAADABpwNQmh\n",
       "fyAIJt+GPzNpeyNdW7/83KFp+O6je6yulDGIM5sT1isBmT3aRSw0ix3wLZshcbWvkKwF35ZdaJ0B\n",
       "IzYacFRkLM4hWeVttAuJAAAAJ0GeqEU0TCv/AAADAAyTpKsHqy/e7DMACWiM93EjbtezwauGYX4B\n",
       "MwAAABoBnsd0Qn8AAAMAD+TGaD+Ov4AVoLZaep4BMwAAACEBnslqQn8AAAMAD+XuhfPsrxd/TQAm\n",
       "qXV/Hwz51tlQSsEAAAA3QZrLSahBaJlMCG///qeEAAADAAa+SCEAKnVY3A3LmstmOG41Rnx/xpnJ\n",
       "PqFXyt/eQvg/o0C4gAAAAFxBmu9J4QpSZTAhv/6nhAAAAwAGw3SUVgEAIrLNzZrjxdcWadaFlz/F\n",
       "wSBe33R7W7BQis4T4ZpzfyoV0tDadHwWH5ECLd5tHZ5o9wcQK6t//5MdtjQrIv/dmPAbMAAAACVB\n",
       "nw1FNEwr/wAAAwAMbnfymaoSuuwIAD6OVHhDHcxrCsJ3gELBAAAAEwGfLHRCfwAAAwAPuTviR/Hk\n",
       "Ad0AAAAeAZ8uakJ/AAADAA+5O9i8cE1UAIfZCRx157GnUAd1AAAAgEGbM0moQWiZTAhn//6eEAAA\n",
       "AwAaWGT3ACwUuEB+HchDsawMsQdyK7rO8bQW5MVyTduMflDEgRxruMTO6zZUwx9FvMUEn6sF1U+V\n",
       "CXMtdXrC/+8T49GL+okbQg2e57/Cp3Sj0cTcrnQQsto8oKXh86Z30lZ/KC/zTv4yn2coiAd0AAAA\n",
       "KUGfUUURLCv/AAADAAxud/Kegs9gikjuZgBMvlC9kpxS8eagPG5VcMqAAAAAGwGfcHRCfwAAAwAG\n",
       "+6v/u7gBAO9rRH69xNUDZwAAACcBn3JqQn8AAAMAB0HhlgEAEIkm3IYFBVqOl2tBoEekBtCttbvE\n",
       "HhAAAAA+QZt0SahBbJlMCG///qeEAAADAAL8s4u0+38AW7TANkkkf9EkUSFWPnufAe1ZluGEtBJm\n",
       "a6H0//07MGEQBxwAAACMQZuXSeEKUmUwIb/+p4QAAAMAAvr0GuU0AN9y6xD5LWZ0h0Px6514+ASP\n",
       "ou+RJCTOn/STGcLWFEiIMuFbXOZBZoxEBAnaEfhMcj0OceB7IH5RctIOi0Xw2fnJt6TBTf3YrFS3\n",
       "QUnSP3spFbnmfq5+Wd4caeIbWd+DBo/nFnrrxotsmMg6PUgPaqN7AssAAAArQZ+1RTRMK/8AAAMA\n",
       "Ba82Ht4jUOV8AE6yLHhZeN3Tc1ZQteXfW+QyqIYOOAAAACgBn9ZqQn8AAAMAB0HjaZtPsQATt29h\n",
       "aOGxuMvNcKl5eIMVCZWBoM+BAAAAh0Gb2kmoQWiZTAhv//6nhAAAAwAC67538uV6E2AAvjDYhSYX\n",
       "3LgS7az1rFoJRKdlqTafbmsingObsl/CevMN4HqSwZ+wu0raeIkltpOD3QyO4Y2psr1VWOezNTgv\n",
       "fg9PglEhjFv/B8m3MBgPEuYswxWVL+DvBZ/wgvb+laOXMubUezP7UQB0wQAAACVBn/hFESwr/wAA\n",
       "AwAFr5MlEe0VXehqABOrqbM3G+4kWCf4LAPmAAAAHgGeGWpCfwAAAwAHQeNm9YggD0XABOgGXvWg\n",
       "SphOwQAAAJFBmhxJqEFsmUwUTDf//qeEAAADAAaWaE1gFEfTmrfAF0HSjhUC2WQ8D71yfDNawyvL\n",
       "IXVNIk3tkL+63VOxsqKt7lZXXD5YgAeZNRIcxG3AMkmT6WTOLCEgj5VwUEwkd/l7GesT31/nBVTo\n",
       "7m5xWpFKx/krqrGJ4NDWhXREeiiQUZ2Au1CxdsJB9OKReahMSsGDAAAAHAGeO2pCfwAAAwAHQvlB\n",
       "ZTOTzgMiabmCa69wcsEAAADzQZogSeEKUmUwIb/+p4QAAAMAIdyD4c0pngAtblO46MWa14d59tH6\n",
       "laj/oe2yzXfj1cAuo+ymegNzGeICVWFN/xc/VlfT5Cr/s/OSmcy02B6iFQ8mOgiz+jZKS/a4qaHP\n",
       "avcnMs+6oUdWTEQcJ/RlN0NqqK1PkcUE8Imw+WjwwKy0hrLU37321+rIXW6y1s3rUIhiuR5vU6gA\n",
       "+BLtlf9v+zTzo+4+6I4VSuDnIPB/p8HKIylZG9WV1uGZHcCTZl/9zgFYtrYYOYsSWyqUzChZnaUF\n",
       "z0+/iVqNVO90yLYpBmVdr2iv91dXxs/VUXPmY5FcWgY1AAAALkGeXkU0TCv/AAADABunQy9w3g17\n",
       "EAJbd/WvTiX06+jC6IR217edJ+1/px3YOqAAAAAlAZ59dEJ/AAADAA+MvxmGE+Lao3gBB+P6NiNI\n",
       "WCIhAWh9Ysh8wAAAACUBnn9qQn8AAAMAI7trSWXcgBrpt5td2Pfs5IJBe7BSAKL84xIxAAABNEGa\n",
       "ZEmoQWiZTAhn//6eEAAAAwE9xuOE46jdN1DMEfAfCLRaeXMXWFAX9++v40gAdYSgOQXmdjsHBQwt\n",
       "nvwIMIteObL3T9cX06QEYAxlWbHEVA+Jd+a9Rp8XvvEYSwFXS2nmvD/34ykxS1mgd4Cr3kGA7P1t\n",
       "0CC286VeCbUQKPY3g8jpvjlv0h9tcCkgk0mFaQlIdV6DI22lpFbbwgRX4/txwhU5lcZNT4DSooe7\n",
       "SqTL4K8b4ZOM75TjGj982vQHd+xddvcgSRyh+Y4N+qDpxhaMc+RWX/2KlCbk359N5u/uwo3c0ahh\n",
       "Sl9PuiXmIeBNIIVSDW9T8wY60JPN54Dujg6neeUnN0TmSNeSU9A0oRrlMwokvd9sorkr1xuyU46t\n",
       "z9ZmbK3Serc2SopxzcI0DcviBAXkAAAAMkGegkURLCv/AAADAEF13L3DVpPiAEtvGWrrGbbitVfa\n",
       "4ZOF8nZK4Fh+MQtI7A6fSFbBAAAALQGeoXRCfwAAAwAkvrxL7QAgWD6Pnsa/nmAPZAtsLJwL3lDV\n",
       "fH+xgdDMDbkHVAAAACsBnqNqQn8AAAMAVm3JNYAEdpd5tHTG9D+8x2K6IA/K8fjzmiktHijEJsPn\n",
       "AAAAmEGapUmoQWyZTAhv//6nhAAAAwBNvghLMmnSXVrfgAL/cl8V6WAKq/OnDwcq0h+6kXP+Yaox\n",
       "ZeH6HOyemoUJdcsUrokdjju3/20hXP0GlEtF+TzmoU20vMntkwwgrdGWcGFviWWIFiMRRhTcH0Wm\n",
       "+M3FIqn5ldDNjR6GYyTHM6ruLphy+82HDKnqC1Bq6qv/p82lYfFIMA4JAAABdkGayUnhClJlMCG/\n",
       "/qeEAAADACXcg+Dlxc4Ac0Fmu8YvRnvsu6ookqCsOz8dF7Ya24hvinrHMbKNdN0NzGecH52s9tL8\n",
       "xHJ3A3v5PPM5+QPKboC6XWMYymmHJ3fHiaj4Qkl6grl6Y+43YK9yHEMWoIiVJZA99gx9dxn5+CXK\n",
       "aDLyskIsLXx44gfhtzQUOuJWwag/58hYvveaHfCg95NJL2ACPaVixFSzBLavkwZjCTFW/oGlSeCw\n",
       "e9SqkZ1n93JAw4o1y7QlDQ1XqmEC6du0DzO6pX7fI9qOqs8x8wik8s40t+OIIOXt07NavfkZVjSW\n",
       "rQr0oIPPq+mWiwzY3b6tL5j5czBHl1cjtlJBZxrcphMVYSftm0GaIas7rclYFBQTaolDsP3j9pMv\n",
       "+/GZrV+49lQ8c9hwlQQIGFGJ+yYO0JmQr5Zx5UYPpdVV81H1TUOFOKK0DUowG11w6VUsKw+zznb7\n",
       "nvjhUd05/OVJX35Z8EcfO7L7aCmhAAAAL0Ge50U0TCv/AAADAB5gHYyAqEAITXrTGnK1mNImSLQa\n",
       "Wg3/6Llg/6TT/ko4R0GLAAAALAGfBnRCfwAAAwAnyKeUDVrWDK04AgxSXqqjNOUFn0mUOXK8VXXo\n",
       "NW4E8ImAAAAAJQGfCGpCfwAAAwAR2IwmBfG3sAJlzuzIjDcZsnD7lUGhoOvLD5gAAAEvQZsLSahB\n",
       "aJlMFPDf/qeEAAADAA/bAK6g25ABYdYq/lAhJQ/cg2quUZToZuy/h1fqUNDpGF2X8/vY9lFd7zmo\n",
       "AHbi8Y1qOzvaUwE33QpnnDdymNazFpEyPeKRufulSk8Bv56nrId3vjMtvwLAUW65YbqUIWw0FjKz\n",
       "ElktYtam8FIQpqHCwAiY6ZnLOnJIgE1g0KgBTAKIyoXOInlH0o5FllGirZCHVLvMZc5h7GuKAl2e\n",
       "sWFrS976IbTyffjATDP9YR7pkKtkTCq8Y6brtzwjpZayd6HV9gTlzCQVndY/fKgB+oaIU2lkDxKt\n",
       "+FnWumjEz04XK+7IescTTUENC/i7JX3NQbwoQBCW3qmBO0DroQqppMASFgCEW31hBhy/+ff7G9DW\n",
       "yMefhxid9dqHrcfBAAAAKwGfKmpCfwAAAwAQ2KnZIBg5N+WS6yRACdvLeI/0vn7UwMlgX8fqn7mu\n",
       "58AAAAH4QZsvSeEKUmUwIb/+p4QAAAMAA05Dq3AEQNrM+ui30SZzNRORoHjCiynPN1jOOYZyQ1qE\n",
       "kZID/1d2TvN2afnNV0OAQXOvNQtl6m2sWm1B8XeNDrTpLD0fFUYEazy4wZcXR58y322uW2CI1W6M\n",
       "eds+At3avXMpo1w/ueUWVs+ptbXteIOg0e4WIHA04CQiWZ6PptsX2THniHpXbwF50Cu82JYB1bfo\n",
       "g3vPBJ2SJDIuL+N/QJctdO9liVZoH8eL/qBvQirJRcjX/nO97FE7P2V7Uftb9sSfwKi81W+xjaJH\n",
       "APA+h+3drHCOh03Xd9SK3vWAYqpXUb0Ly5x1h9l3Bg9uTAeuwrDlzfMievqZXa0eiSALvbeLuxe4\n",
       "F4ZsEH0SaYNzJF02yCgoVUx+TZqDKwZ+1inbTHEwDJ2l/gbO4eeeNTOvpKg4GXaiMNA4rnY0TLeG\n",
       "8cYT1PgE/qlrBG4T61iDkH1gTuvPFDfL9ph7jw7vZ0fiV3D24ckycGGZPNaADfJFJervIR2CkYkl\n",
       "BD6lkorHv8RM6ZYRVw/RtyE0GxblZTUiyjWlUTWzfma0047tH4O17CxEgAesQ4XVvvP0K3/eRus3\n",
       "iyKDCFro7hy7aeAqwIjh+Ew6CADOAMXeIbDojsEiEyL+EYoys+A1u02pi8xhXqfzEl4OfP+CAAAA\n",
       "KUGfTUU0TCv/AAADAAWezJF1GO7Xi2UbhvNWXR9xwKADQslALzTeDUNTAAAAKwGfbHRCfwAAAwAH\n",
       "P2a6Fbhh/Y0PFCbPQALqAXmbJfKMI6uFyOnFBwfBBd0AAAAqAZ9uakJ/AAADAAdB43114JhQ/Z6H\n",
       "gBNXLiZg6JIK7PhCnef1qAHzFtJ3AAAC+EGbc0moQWiZTAhv//6nhAAAAwADN2oW/bkHwTeG4AiE\n",
       "Fmv4slaES7k6F/H40cTl4i5/nNVVtmbu4IDwf3xEcl3JauvW2pysXIUHhF3slnKDaAWHTMl8Lg6w\n",
       "64aTMQ4zyCkX4m+du1whIufCYD2DuOlUHQ4g9wTJ0EbiRGIUvUXsx7BlYFFaAEr7g2r8LYbA33RJ\n",
       "ZMP6cmK/maxCDSdMiBTrXPx2LR8FdaT9w7NnB72ZOgfQenyMOLk/V3xGPe4W+wh35YH1aFcOHStu\n",
       "A+EaOXuctzxPsVlALtdWinhwLdOUTzJqiCWayGrLz1kJEl2GLy/lEP6diwF8X5PqNx44ylUZBgaQ\n",
       "9D7dDMhc9zDKKnD9J1e9uzsbW+GLRYdCSRQvod3BVIx7i5zTgLDav/BRWmMyTqM3Q4Y6PNWF8SX2\n",
       "fUkV5oyrDMvAu3PKQhM5Jxwjfqf5fDzDAGT4jDcuitUqgMPcUo31a0gWw8sULDP0Pshl7AT3Jqyi\n",
       "3QtXpu+51W6kobHQA/WkV3uGjAACfv2jYd4dBRX+g+rnIU2nRhcyUh8XWpaNwaKUt5Yd9Qp+UITM\n",
       "cwgxcbGT1S+vCtA3DBSYKacJTqVW4oXPYlFtw2MAMdaUpj7Bwhyu5/EAOCTgkJ3b0fXIDtA4YU3P\n",
       "IViHn9hpwVxT9+9kvJt2jKoFbZDwlzU5zFLzwoWq1FvMLArZ7xXAYeEN2JHdzSALxELoOPvTWs9Z\n",
       "ULo7MdqXke5L+HfrKQ/YfyIxygJcSlRrs8A7lQYZz4AKFvUngevAqi87g50EQdgeBsGChf+hAgPm\n",
       "6pPvMZnIAvxNgMRan50rBG2429/UhUplsT/9pPBabZCYSnd2YuXVElVdmCIglYa0RyuLZ8e416M+\n",
       "37E/FRE0i4LdcV5PfsNl3Md6O9QHgpw96ZEjxmec1BaNecWLchxFohLR9wFZY4l4xD8+0XrCCyVM\n",
       "/7DoRn+/MEUxeuJGIBYpAGZ/CGjSruYYj2STR0NvXmPF0iLtb5ngxGgV6oAAAAA/QZ+RRREsK/8A\n",
       "AAMABa+TQ1Fu8IvUWpY8SzjdU8TsVIp2ABJ/B1XRSGUowflw4LycCnc7yDiaQYmpaGWdPQKBAAAA\n",
       "LgGfsHRCfwAAAwAHP2a6FbheI3lrrASaVUwAJnU0XxijMgUrReRlHdzd81q+o4EAAAAtAZ+yakJ/\n",
       "AAADAAdB4y1OpCBs+YEnXhYw9KQAJ1HKcVAOW4DE+g+zWbbyTSggAAACxkGbt0moQWyZTAhn//6e\n",
       "EAABLuPPhC7AgAfz0kXnUdWqhcKLlOK51dC6f6H/83tUGIdKiAFr8bNu8keKbeLJPJOny3vvPiWh\n",
       "+DaoA6FWC7rGVJDX8zuca+Mx7eWAX9cvEEKJrSM6JFZizBuRwo8EusPZpcmLkTqc05zYOqmmJkNr\n",
       "GW5VA5CKhcZrrHAt3CphXtvvppNzZhU7/iT+7cheylBoT+q6XzR0DW3vZ8oR5Dmw/TRez0cKw1iH\n",
       "rLP5QotD79wb1urOvjuzOLUgDXnbsvTOSUTavutE854A6p2UeEB46sTSOkpV0OtiQCblpYQrPXOW\n",
       "LfLm2AZ/J6d1i1ChMGLQ9/3EtiBXlliBxEyONYsnmbuVsJpjR5y42PxtrU1t+07H2YtochiqB5IR\n",
       "LQdka5OQsOIN1i0AIGIKy8RyPi2dycWeSJHCTVWfnHOEjhWeHQ3S93D5QenqkQiZy+knhhyNqzWn\n",
       "Gkqwrd5jQlJU6yBZ349yMnv3Sag5Xscv2EOAGCdi+0O8IJoGDsCEkksMyKEuUs6fRaELF35BJ3fG\n",
       "oGftBAxsCJHFmXMW/RyYb1ugMZTbxgmJysgKi4Kt5obiQGC4hl95qDtDvN9akNG0KHsO3NFDYzlW\n",
       "Hp3caYt8A7PeIbAl+Pv7XWr9EqI6iqmXCOiZkiGhChQ/fpBe+npmXFBrXzX7NbdOiUyUdGbkPHGN\n",
       "INkDWN/Rsotr9kStqwGpfCl58PrazOwD3UP7TpBCayPH2dXKxyUHiIRWGyawIjoe8sJ2smfRgS01\n",
       "glNlGlHU7R63JH8vRaEwLFZzKBE7Kj6ZvVJ6Ag43Z5Xy7gr0Oaq/2funHN8JWrZWm35VlsUo8ICG\n",
       "9bAPlwfNcMJVtPpXT4MAFAc+6qlCL7Nl3dmMEK1Y1nhYG3aTCsAGlZTejC6G9LWBo4GxhtkpasfY\n",
       "foiMKbLBYYfBajUqAAAAOUGf1UUVLCv/AAA+LKSJ/TDbMz7ibVD9NbU4RhYANiyS9a3mWB5fgN7l\n",
       "Ipu+MAe2ZvE7kK8bw4/IOQAAADEBn/R0Qn8AAAMAHFl+MPDE+yu65GCK3atNAF6bJnF0PupNPf1l\n",
       "H/4LZTh27IneIDqgAAAAPAGf9mpCfwAAUe39BedGK4L/2d1gAXUAu4MCp2amg/HbLte16P+SQG7E\n",
       "40+YHYbNOcqh+p7myreu0eBCwQAAAnZBm/pJqEFsmUwIV//+OEAHGwl/hKgnAA4s9cAIdBrGZzkm\n",
       "ULrEAsnFLCPr4BaOmp76RpJsedEGjt13B3BZUYeMRX2AIggB92gcS31JqSalYItFHiGM5YcUAHl8\n",
       "/9dlhwyDFk/jq+myGsLiMYkZVgVl2TvPgtOUkAGQ0aXrJkBlcybM2tn/B4OLlyFa9LH1CpmOnq+H\n",
       "r/HHChbOhn7hcPsCXxthbqZeF5aXnrszIHv4nKw+x657NM+VpYq+d/gsB8stxc6SiVEhRr4Htoku\n",
       "FMxwd5EafqYnghHJQCCQkh8CNAYI4veBS2OjFGLV0Ymv64p4/0pAKpg/SaF18LxntyJ8JF8IBYQP\n",
       "vezVMN7b3aLHPS5QTeN50JUaIZ/1D89Dm9Z4w3jjnNRvpron1RM5pZYAXcNo44qh9BKqualYDIJn\n",
       "dZnJMx6yRn/ssS9LEUEgOq4QwxwDzxeKRIjFOCc/4P0f5hY3q7nsSIC67OYTCofCUi8YOQZpXWF+\n",
       "pOfwvB539dr+yu/6DjG/66PoqZ/PjmyKCdoJ8jaTsfvtghF0wwL60pFUkZyuO2NXGURQnHM8sJzB\n",
       "VsDMx1+4p5OPMyWZ8W6xEVGbZnx5vthdeqfAOaKXpMUEIAjavQ9gfYF5UELxBxieLG3P8sz/NXbz\n",
       "c7UdDyjFy4sAEqE3yqenImCvjGfbW7lxh5NXN1fNfHfIFHGvxB0bWnesWDWg2OIeDGjwNlF/di+5\n",
       "Tur4t7+GxrE85SHJynHBRdjN4gSiGQBGy6EUWefjBLsRuG221Hcr6e1AeQdIpkilaYtItDN/qqeS\n",
       "0aZVhKYC8I3XsFyi5FRQtXCjMqWy0KNkBE0AAABIQZ4YRRUsK/8AYh0MvcXmVbdwCFReXlx9qEAJ\n",
       "bBX678olwe2Wp2WPa8jQ1CyTlqHDFKydKxfvra+qO5HBlaUAmn0bUcxRdwakAAAAPAGeOWpCfwB8\n",
       "XgKR4FLtwqO9GkoATTKKBZ8THdLPc6QlxxYKBS8C10rAGTup4eGMoAJC20K4QbNzr/Oj2wAAALxB\n",
       "mjtJqEFsmUwIT//98QATUKsYAHG8t+pP5bT2pyrI+2XtNNuhEJfgRCfpdMaO9ZCJ49xPIHBa3lXn\n",
       "4hfazpROaOmNR4Pi2pmKPEOzLcKhqVgWpaHZn8iptpq1B/WyujVuS1tCNHeylCCDp7Qr7Iqqsx0P\n",
       "yHuRDashWF/030UfXmZ5k4V/aVF0afFj0I7eqrbkTdC9Vgzh1R7GtLYzjzzD6nwaXtEBofq007ST\n",
       "dFCL2kd8iqwpc00a8AkDAgAABehtb292AAAAbG12aGQAAAAAAAAAAAAAAAAAAAPoAAAH0AABAAAB\n",
       "AAAAAAAAAAAAAAAAAQAAAAAAAAAAAAAAAAAAAAEAAAAAAAAAAAAAAAAAAEAAAAAAAAAAAAAAAAAA\n",
       "AAAAAAAAAAAAAAAAAAAAAAACAAAFEnRyYWsAAABcdGtoZAAAAAMAAAAAAAAAAAAAAAEAAAAAAAAH\n",
       "0AAAAAAAAAAAAAAAAAAAAAAAAQAAAAAAAAAAAAAAAAAAAAEAAAAAAAAAAAAAAAAAAEAAAAAB9AAA\n",
       "AfQAAAAAACRlZHRzAAAAHGVsc3QAAAAAAAAAAQAAB9AAAAQAAAEAAAAABIptZGlhAAAAIG1kaGQA\n",
       "AAAAAAAAAAAAAAAAADwAAAB4AFXEAAAAAAAtaGRscgAAAAAAAAAAdmlkZQAAAAAAAAAAAAAAAFZp\n",
       "ZGVvSGFuZGxlcgAAAAQ1bWluZgAAABR2bWhkAAAAAQAAAAAAAAAAAAAAJGRpbmYAAAAcZHJlZgAA\n",
       "AAAAAAABAAAADHVybCAAAAABAAAD9XN0YmwAAAC1c3RzZAAAAAAAAAABAAAApWF2YzEAAAAAAAAA\n",
       "AQAAAAAAAAAAAAAAAAAAAAAB9AH0AEgAAABIAAAAAAAAAAEAAAAAAAAAAAAAAAAAAAAAAAAAAAAA\n",
       "AAAAAAAAAAAAAAAY//8AAAAzYXZjQwFkAB7/4QAaZ2QAHqzZQIAQeeeEAAADAAQAAAMA8DxYtlgB\n",
       "AAZo6+PLIsAAAAAcdXVpZGtoQPJfJE/FujmlG88DI/MAAAAAAAAAGHN0dHMAAAAAAAAAAQAAADwA\n",
       "AAIAAAAAFHN0c3MAAAAAAAAAAQAAAAEAAAHYY3R0cwAAAAAAAAA5AAAAAQAABAAAAAABAAAKAAAA\n",
       "AAEAAAQAAAAAAQAAAAAAAAABAAACAAAAAAEAAAYAAAAAAQAAAgAAAAABAAAKAAAAAAEAAAQAAAAA\n",
       "AQAAAAAAAAABAAACAAAAAAEAAAQAAAAAAQAACgAAAAABAAAEAAAAAAEAAAAAAAAAAQAAAgAAAAAB\n",
       "AAAKAAAAAAEAAAQAAAAAAQAAAAAAAAABAAACAAAAAAEAAAQAAAAAAQAACAAAAAACAAACAAAAAAEA\n",
       "AAgAAAAAAgAAAgAAAAABAAAGAAAAAAEAAAIAAAAAAQAACgAAAAABAAAEAAAAAAEAAAAAAAAAAQAA\n",
       "AgAAAAABAAAKAAAAAAEAAAQAAAAAAQAAAAAAAAABAAACAAAAAAEAAAQAAAAAAQAACgAAAAABAAAE\n",
       "AAAAAAEAAAAAAAAAAQAAAgAAAAABAAAGAAAAAAEAAAIAAAAAAQAACgAAAAABAAAEAAAAAAEAAAAA\n",
       "AAAAAQAAAgAAAAABAAAKAAAAAAEAAAQAAAAAAQAAAAAAAAABAAACAAAAAAEAAAoAAAAAAQAABAAA\n",
       "AAABAAAAAAAAAAEAAAIAAAAAAQAACAAAAAACAAACAAAAAAEAAAQAAAAAHHN0c2MAAAAAAAAAAQAA\n",
       "AAEAAAA8AAAAAQAAAQRzdHN6AAAAAAAAAAAAAAA8AAADUgAAABYAAAATAAAAEwAAABMAAAB3AAAA\n",
       "FQAAAGMAAAArAAAAHgAAACUAAAA7AAAAYAAAACkAAAAXAAAAIgAAAIQAAAAtAAAAHwAAACsAAABC\n",
       "AAAAkAAAAC8AAAAsAAAAiwAAACkAAAAiAAAAlQAAACAAAAD3AAAAMgAAACkAAAApAAABOAAAADYA\n",
       "AAAxAAAALwAAAJwAAAF6AAAAMwAAADAAAAApAAABMwAAAC8AAAH8AAAALQAAAC8AAAAuAAAC/AAA\n",
       "AEMAAAAyAAAAMQAAAsoAAAA9AAAANQAAAEAAAAJ6AAAATAAAAEAAAADAAAAAFHN0Y28AAAAAAAAA\n",
       "AQAAACwAAABidWR0YQAAAFptZXRhAAAAAAAAACFoZGxyAAAAAAAAAABtZGlyYXBwbAAAAAAAAAAA\n",
       "AAAAAC1pbHN0AAAAJal0b28AAAAdZGF0YQAAAAEAAAAATGF2ZjU3LjU4LjEwMQ==\n",
       "\">\n",
       "  Your browser does not support the video tag.\n",
       "</video>"
      ],
      "text/plain": [
       "<IPython.core.display.HTML object>"
      ]
     },
     "metadata": {},
     "output_type": "display_data"
    }
   ],
   "source": [
    "def quartercircle(t1,dist):\n",
    "    for a in range(90):\n",
    "        t1.forward(dist)\n",
    "        t1.left(1)\n",
    "\n",
    "with Terrarium(animate=True) as t:\n",
    "    t1 = Turtle(t)\n",
    "    \n",
    "    for dist in [fibonacci(i) for i in range(10)]:\n",
    "        quartercircle(t1,dist)"
   ]
  },
  {
   "cell_type": "code",
   "execution_count": 18,
   "metadata": {
    "collapsed": false
   },
   "outputs": [
    {
     "name": "stdout",
     "output_type": "stream",
     "text": [
      "0\n",
      "2\n",
      "4\n",
      "6\n",
      "8\n"
     ]
    }
   ],
   "source": [
    "def twice(a):\n",
    "    return 2*a\n",
    "\n",
    "for i in map(twice,range(5)):\n",
    "    print(i)"
   ]
  },
  {
   "cell_type": "code",
   "execution_count": 19,
   "metadata": {
    "collapsed": false
   },
   "outputs": [
    {
     "name": "stdout",
     "output_type": "stream",
     "text": [
      "0\n",
      "2\n",
      "4\n",
      "6\n",
      "8\n"
     ]
    }
   ],
   "source": [
    "for i in map(lambda a: 2*a,range(5)):\n",
    "    print(i)"
   ]
  },
  {
   "cell_type": "code",
   "execution_count": 20,
   "metadata": {
    "collapsed": false
   },
   "outputs": [
    {
     "data": {
      "text/html": [
       "<video width=\"500.0\" height=\"500.0\" controls autoplay>\n",
       "  <source type=\"video/mp4\" src=\"data:video/mp4;base64,AAAAHGZ0eXBNNFYgAAACAGlzb21pc28yYXZjMQAAAAhmcmVlAAAV/m1kYXQAAAKhBgX//53cRem9\n",
       "5tlIt5Ys2CDZI+7veDI2NCAtIGNvcmUgMTQ4IC0gSC4yNjQvTVBFRy00IEFWQyBjb2RlYyAtIENv\n",
       "cHlsZWZ0IDIwMDMtMjAxNiAtIGh0dHA6Ly93d3cudmlkZW9sYW4ub3JnL3gyNjQuaHRtbCAtIG9w\n",
       "dGlvbnM6IGNhYmFjPTEgcmVmPTMgZGVibG9jaz0xOjA6MCBhbmFseXNlPTB4MzoweDExMyBtZT1o\n",
       "ZXggc3VibWU9NyBwc3k9MSBwc3lfcmQ9MS4wMDowLjAwIG1peGVkX3JlZj0xIG1lX3JhbmdlPTE2\n",
       "IGNocm9tYV9tZT0xIHRyZWxsaXM9MSA4eDhkY3Q9MSBjcW09MCBkZWFkem9uZT0yMSwxMSBmYXN0\n",
       "X3Bza2lwPTEgY2hyb21hX3FwX29mZnNldD0tMiB0aHJlYWRzPTE2IGxvb2thaGVhZF90aHJlYWRz\n",
       "PTIgc2xpY2VkX3RocmVhZHM9MCBucj0wIGRlY2ltYXRlPTEgaW50ZXJsYWNlZD0wIGJsdXJheV9j\n",
       "b21wYXQ9MCBjb25zdHJhaW5lZF9pbnRyYT0wIGJmcmFtZXM9MyBiX3B5cmFtaWQ9MiBiX2FkYXB0\n",
       "PTEgYl9iaWFzPTAgZGlyZWN0PTEgd2VpZ2h0Yj0xIG9wZW5fZ29wPTAgd2VpZ2h0cD0yIGtleWlu\n",
       "dD0yNTAga2V5aW50X21pbj0yNSBzY2VuZWN1dD00MCBpbnRyYV9yZWZyZXNoPTAgcmNfbG9va2Fo\n",
       "ZWFkPTQwIHJjPWNyZiBtYnRyZWU9MSBjcmY9MjMuMCBxY29tcD0wLjYwIHFwbWluPTAgcXBtYXg9\n",
       "NjkgcXBzdGVwPTQgaXBfcmF0aW89MS40MCBhcT0xOjEuMDAAgAAAAKZliIQAN//+9vD+BTY7mNCX\n",
       "Ec3onTMfvxW4ujQ3vc4AAAMAAAMADuPlocG+vHIc0AAAWwAGMR7XGYgX+YhfmMV+MgjPGJfJb0Hl\n",
       "6NJMvwueAE0bkKuVshZas8L/Tqgl3D8AB9jDKImydPVioC42EAAAAwAAAwAAAwAAAwAAAwAAAwHy\n",
       "y1U1j8ubLtEL0P4M0o9THADlB5f5AjRmIM1GsAAAAwAAAwHrAAAAEkGaJGxDf/6nhAAAAwAAAwAf\n",
       "MAAAAA9BnkJ4hX8AAAMAAAMAGfEAAAAPAZ5hdEJ/AAADAAADACDgAAAADwGeY2pCfwAAAwAAAwAg\n",
       "4QAAAFFBmmhJqEFomUwIb//+p4QAAAMAAINyD4GhfAG2PfM8jRCNPjp0IWBjj1LuVan0O/dPI7qB\n",
       "ad1xTiIGjH7k9T14L5Bb2MmtvqlvpRDFKHXyoeEAAAAVQZ6GRREsK/8AAAMAAGvdTyVU3sTBAAAA\n",
       "EQGepXRCfwAAAwAAivu5miU1AAAADwGep2pCfwAAAwAAAwAg4AAAACpBmqxJqEFsmUwIb//+p4QA\n",
       "AAMAAIKdGagGqPL/V69kxl/VB7p/PUHw44AAAAASQZ7KRRUsK/8AAAMAAGwIVKWVAAAADwGe6XRC\n",
       "fwAAAwAAAwAg4AAAAA8BnutqQn8AAAMAAAMAIOAAAAAkQZrwSahBbJlMCG///qeEAAADAAA55NVS\n",
       "AfDJb5hAxj/qAgu5AAAAEUGfDkUVLCv/AAADAAADABnxAAAADwGfLXRCfwAAAwAAAwAg4QAAAA8B\n",
       "ny9qQn8AAAMAAAMAIOAAAAAyQZs0SahBbJlMCG///qeEAAADAAA6Bs7N1wB5hmm/tiHbyXjmdqgf\n",
       "tA7vaxFesMuSwf4AAAARQZ9SRRUsK/8AAAMAAAMAGfEAAAAQAZ9xdEJ/AAADAAA80x7GVAAAABAB\n",
       "n3NqQn8AAAMAADzBITrYAAAAMkGbeEmoQWyZTAhv//6nhAAAAwAAOexffJcApQtlHDlxvtBed2Cx\n",
       "ai76fNzB7wg7R8f5AAAAEkGflkUVLCv/AAADAAAvxCpWVAAAABABn7V0Qn8AAAMAADzTHsZVAAAA\n",
       "DwGft2pCfwAAAwAAAwAg4QAAAFlBm7xJqEFsmUwIb//+p4QAAAMAAIKJKXADdD5koxdBoPhiw77b\n",
       "GqSiiBQrU0O9hE01oWa6T+DR2tEKYsGqTd5S2DdYz701P/tYNY1kQWxujJLdXLT8FNWi7gAAACBB\n",
       "n9pFFSwr/wAAAwAAa88cAAo3TgANuFMIqc+p/x0wYQAAABkBn/l0Qn8AAAMAAIr7s0wcAFxe5rsE\n",
       "R2xMAAAAEgGf+2pCfwAAAwAAhu4IhNIL0wAAAE1Bm+BJqEFsmUwIb//+p4QAAAMAAIKulzUANekI\n",
       "eFIvWl80ELUFnf1Z2uWXc8ZAp4Bcf9la3SHbDcxnomVZaoH//AKJWMXDHehIz0aSsQAAAC9Bnh5F\n",
       "FSwr/wAAAwAAbCB/RgBuaoLj2/bgvcK8T1VIcej0v9EiJ0lKEohTwqg1IAAAAB0Bnj10Qn8AAAMA\n",
       "AItC8ACVmKy2z5Byrg//dCED2gAAAB4Bnj9qQn8AAAMAAIrKM4AHwKO4eeC9Quo4QDJVsf8AAABa\n",
       "QZokSahBbJlMCG///qeEAAADAACCmC/ADbaabxp7NAbKxcK1KiH+muxCvaSSfFkspzAissxWKNFf\n",
       "PTyGrBJbRPV1jOcrDK7ZOB/8BJ70930z6K/Wn9c5iBSQAAAAHEGeQkUVLCv/AAADAABr3Cu1vAAE\n",
       "2QAKENPWqWUAAAAaAZ5hdEJ/AAADAACKIyqgAEzIMr3kxT81SygAAAAbAZ5jakJ/AAADAACKdHDN\n",
       "OgAhYr5ggkf8PCyhAAAAjUGaZ0moQWyZTAhv//6nhAAAAwAAh3IPg6DHOAHNAFN/sjjo52zBlSzo\n",
       "7vIwPuf3yHIgxWFk9cJiVC7LBB1pu0eyPTy8EZ7sZVlqgf5Y4/fBQhgx2yAyjRp83vOd/HOyEQoH\n",
       "3iVu70hcgm5nxWh9K+Dh+Z6Ipabb7YgwNdxRJapqmkHZRn9qqVPy5uJSTwAAACVBnoVFFSwr/wAA\n",
       "AwAAbpkwXFRgBtqqpgDAXUGoOyUzXhYLcjDxAAAAJQGepmpCfwAAAwAAjsozgAfuoQe3SxwwUKyZ\n",
       "OsT24VEN4AnhDZkAAABiQZqpSahBbJlMFEw3//6nhAAAAwAAO0Ejlq0KAIgbvm2aqunnzdishOfS\n",
       "qYMSKH9aIy7lG3UtEJJckmfVPgA1ChC4/VMIfZNH7Ha+Dqbr5YjS/eoeDJ7KeUWI9jJiVxWTJuAA\n",
       "AAAVAZ7IakJ/AAADAAA9qdaujOJfCsWAAAAAqEGay0nhClJlMFLDf/6nhAAAAwAAbHXiWbOqE6Rl\n",
       "+h2Lgu+q5IEEogRATtZX7OwpZVlD487/wBiaANynU10wf7AXcwJxiZGUWh8nCAJDgcnyHqDprlxv\n",
       "2Ffjes3o2Wkl9VcTFQ6Q6cF7UKRymCkXfyQ5/BJ1if7RQt4z8qQqPTwaIFKZEi83hQm3LfQBXyEm\n",
       "c+wk+cSgxIqNj2t/cVh2YVBJYY05UXac7wAAACEBnupqQn8AAAMAAD4hG2XyWNwhbADQ/EGT91hm\n",
       "qMwhHlAAAAESQZrvSeEOiZTAhv/+p4QAAAMAAGvkdPRKqLI2+ofy31ciAG8P4qTZ0mTaH11JJ+mf\n",
       "eCNw9Fp5tHRqg74jCUQfCVuSTOsd+znTgZbQxNhUWLCGibO1iiQ3xf0oohm/6gL69hMBMNq91BgR\n",
       "uVUqDYhkAe9EUr/SGhtfCRr7DX4cnZuVVdGkWOK6efc2wb/l+xmPN85324yfv926UC0XHRNGoZqQ\n",
       "1FulUtYYvZW44f6mqSevDxm4uXqWtjugn3/WycTESeOD2juUnLx8t30rIot6pNHW7/nSLJUIsm1x\n",
       "aHk/D6bQDz2u/QnYOQYXJne5kl7xac6hZLBRhJW5fRHDxD3qnueRInN0GruWQiY9dhFozPN/gAAA\n",
       "AC1Bnw1FFTwr/wAAAwAAFZaR0YctIYgBAtCVRwk3vggZAejbDyRdX27eSZRNeWEAAAAiAZ8sdEJ/\n",
       "AAADAAAbnyfMCmiUn1+MgAV10ybRg3gJf70BpwAAACkBny5qQn8AAAMAAAvwcu6zgAlq0G8jMAZG\n",
       "jonBLBekapZnZAVjAOgFwQAAAlNBmzNJqEFomUwIb//+p4QAAAMAAG7178DXDgBNXnYI8g2yeyiZ\n",
       "e/A7Ln3eh7PiH31rB9eYAjK+XtcxmzXzf52m+s4sDd1NnmHQgIWc7dv4ccJH1rITzsQPdaJOHkHv\n",
       "zdeNM4pYpdkNx6kUbavp0lGBW/6Oi5y92hxXKAMBylqMB8Ov48Ik93mgkEWge2fAtP9LsvxhJEUO\n",
       "H60ugSgc3IC2a7+I7marQUnjnRzzuJouZ6JPQ+aLQgiwMdZI1UwTJTOli2by+SToLKFwAommqFmO\n",
       "9DVRM+NW6oZDkF5n09CPxp/Om4WqTBw2QOoKtZsRe385tXDnLFGZAcDwNuSOWXtYVdLC+mDaNj2H\n",
       "NbHEfikC3fWLv/NtZK1KBGK44AO/IbMYkHc/71RI8+jbqRDxZm/rxNifdnWjLL/cO2LUpaGCGRMP\n",
       "OAAqVNEDaBRF8Y8U7QfZGjHwrAzdkXRuAvy6t/4xhBJqLiHA1PKKeYXrBLtZa59SEXoT6TI/2jHX\n",
       "/sHCvfTUSpwoRB5TtF6QRkyNFYyxQIqxu4DFZE3MA8xpgTT5ctthBHlODBCIa3/YQ4y30PePxuBY\n",
       "QzjCK+RnR8KwhMIOjlHh5WDZmGH3MdaY+c1gRgh/emjlWrgRRwv5l21E7OHMTksbQO8FqZi18deL\n",
       "SRV4vz87J51XU4pv0t1Z7oHsc06UwEXsZL6Ektf1IL0HE35zG2pkGIL8C9naTRuSg6CrtRUY2uPV\n",
       "MW6bQKisQQCuV62ls14+q/YZMhBGOkBUrhHE6ViRgI5Lf/0fWbnRaY+6UJtwAAAAPEGfUUURLCv/\n",
       "AAADAABa7ADMcXRYXUpQ6tKtuwTGqX4hPzKAFk2jpzW2mgbCQhWA8ewozTlwyi2kTJSlVwAAACQB\n",
       "n3B0Qn8AAAMAAAuiKcyApQATTGNoEuypkjIzTAMNAoOdXJMAAAAiAZ9yakJ/AAADAAB0Hjc3T9fr\n",
       "4qicAJaP+HSjrDi33JHukAAAAodBm3dJqEFsmUwIZ//+nhAAADjaKxPdZQ/lCAFk/gs8rGxP1SrM\n",
       "GWXX8JeLmUVJ1M557MUwwXDBdgw4HbYZAJKcOAKD9BsBdJO3iUlNupPKA21C/XYXZSZi8XH66l5c\n",
       "MKMitvagtsyQqV3ObqJyAb6+M9JdH1ONHBhm0dyyOH31FrD2jtITfHX3USMvMr5/HkfMjI/oGEie\n",
       "ykZbLIgKx0Fq9C1eQ4knNrCH0Pc26A5PU3H/3L0jxO9wK9rz5iJ8dymVHL4nZxNa0NSajMQs7BhI\n",
       "m0DxOW8H8f5YshexSmTltTSBGU8dOr5qhqaAsxX/RlJawhjbrgv6ND1jYWa7xkmjmuTPtdTTDgxh\n",
       "6ReA6av3F+MIscewoP+kXgm5wDZDIF0GZEYjIPF5GdVOe9w7rXPh0poS9/VhFYGjq7AL+z7erz7n\n",
       "kYOEiauY4I/RNVO+Tc0kDRQ9ZLfJnyY+y0kTfb1/GnqyJZg1VGQnAHorQrGvgX2XOu0CxCVe8+Kr\n",
       "6y8A/cIQSIbvMvver39nSwC/Dx5hIU5DX85N0rhflPVAv7BcfYrLi55NPJ7fB5/qCuPlNqAQcHs8\n",
       "OtcftVsRbJEWlNc0KUPXo764yVQBcls6UviTnhYLKHxsyogwnlGILUj8wj/Mw+gtCngMJD30Y6Xd\n",
       "E352oqpj1TlP8OsAAB8lo3QZFjXbkJF99DIPPXU0JsYeS0CeIKSJ+TQlXvoShL3/DnpnT2L+pbuD\n",
       "L7vCK0FO0VUXiAR3xqTvjmqer4saUpTDF58Q17U71OunA8auOCImqIwWJUROfLH4vjyjlkW5LpxY\n",
       "Fm3fifXkO4qr6e+a9wh2NpIEX5ol5psAct04fe7zd8b1HD91EzKfKAAAADZBn5VFFSwr/wAADEOh\n",
       "lR0OLWzGdSgZ/qkKJ8Mt7tWABOOqLLn9cZNa0bx3DLSbsZIKvircYccAAAAwAZ+0dEJ/AAADAAVD\n",
       "TqmnL0DPviEAEzqZGeoM3yTT4v3NL6ukau2wX5gLtpfY8DVIAAAANgGftmpCfwAAD4vATO81Cmbh\n",
       "gPzROACVJD0kpMCarILGoJJ+pndhRHAC30MgikTkrg3AfgBqQQAAArJBm7pJqEFsmUwIV//+OEAD\n",
       "NtkmgC8zETdH4TVkA4cfnUttCAuYAXcP49U1hdVm3wyDZ1HOiT9nO8Cysc8bQWYl4Hv3gFllZToB\n",
       "xg/OMpxWzYQzx4SU8r3AqaE10Hqs0FelRdw2D7JiEu35RpIQH+VwISxHuEKUTyPXgLqk/yk6uztz\n",
       "MG7b0UWYklThGDXD5JPdZxtTPpdi2vMcFwK+s+yFH9a8pFjmJIU0wfyspHeqwfe6GtsoFbVetYFY\n",
       "FgMj+t7Nc/xdnq/jm68DJE0Sit2V2Mm7CmvVc4MmJgYkr6dwNWW63y+g1XWcnzFGw+gwLR/Ay4Rf\n",
       "ZyskAWepR34UTwWOIVv6cEmyQnOv4+Ox888MZbAq90tUxUR8aFIFuYmxNt4Izhfr0CRavvJIelDp\n",
       "vcbG2LHa7fYB91yt8DZZXb74P4HjUvon3mBMX6jSZDxTJAIFVHMmMe3C78HeVpaH/MBP0/IBCzCe\n",
       "2kjQEgE6LNSTD0qU6YlpwjK2LT+PTUbWUhKnshgIM/eZfkK/7xVb0okUjnn844B3vKIwU/1bPLPk\n",
       "Bcr02WR/H2tmejc4yjo1fBjj3BIT2tlBcVj1E+PNCnf1D9Fl8xDmy4QaHEFc+N5DQwvhC3siLoJd\n",
       "2u16gK39+3RQVhjVCdQ03MK6LdCy2vtNTJnEh9KgokLcJx7oZKZL2Sx6KKLgbzxoVzjf3vTJVaXT\n",
       "4oBk5iF1qPJv5chhYaL8G3L+SPO+vdWJFZPbU/8Xo/2h9l7gAmQ/WdTAASqATPofQLoKvPpM4oVm\n",
       "4zzqp8ITK2KL+6XUK+hQJAKyoNnqrUZS7Yj+IIJMAHreATbODHj8Z8PH0c5Rc41J7BKqctBoJq13\n",
       "MVVSbGNkOHfTbFxaP8eFj+p91G5Wwmf/XaJrj1ZLN/cghITDfdrsHnYQTtmgCtkAAAA4QZ/YRRUs\n",
       "K/8ALFXuVGNPtdpf/TaH8gR5xsN/6NAB9HE6VD4XSqK4cgAK6QOINrDgrsFR5fEAVsAAAAAyAZ/5\n",
       "akJ/ADivATOXX8Og/0bigBbgvl43KcNScf6FKE5ZhdKqPWESAjAYVlK383n0AqcAAADIQZv7SahB\n",
       "bJlMCE///fEAE9qx8AEsk76THj1Cmwjqv+IG5T5MVceLf7y8z2c/k34DfPNJBQpuZPEYixUv4jbS\n",
       "f1/Ix3IxzaszBn9dkw45KlLIMiXe5K8VYIF7tNdDgAqe5NcVEr7kAmn9O6SctnJldhZhvRJYUt4b\n",
       "+1yjgekJzAZf8IWMile+HFyL5DDytcMJfadoX72N1MRp/v6ObXG/aY6/B8DbH0Tg7EIAzHnaDcYl\n",
       "nYligGBsrXlSi2WZTDbFxdLJfAAADugAAAXwbW9vdgAAAGxtdmhkAAAAAAAAAAAAAAAAAAAD6AAA\n",
       "B9AAAQAAAQAAAAAAAAAAAAAAAAEAAAAAAAAAAAAAAAAAAAABAAAAAAAAAAAAAAAAAABAAAAAAAAA\n",
       "AAAAAAAAAAAAAAAAAAAAAAAAAAAAAAAAAgAABRp0cmFrAAAAXHRraGQAAAADAAAAAAAAAAAAAAAB\n",
       "AAAAAAAAB9AAAAAAAAAAAAAAAAAAAAAAAAEAAAAAAAAAAAAAAAAAAAABAAAAAAAAAAAAAAAAAABA\n",
       "AAAAAfQAAAH0AAAAAAAkZWR0cwAAABxlbHN0AAAAAAAAAAEAAAfQAAAEAAABAAAAAASSbWRpYQAA\n",
       "ACBtZGhkAAAAAAAAAAAAAAAAAAA8AAAAeABVxAAAAAAALWhkbHIAAAAAAAAAAHZpZGUAAAAAAAAA\n",
       "AAAAAABWaWRlb0hhbmRsZXIAAAAEPW1pbmYAAAAUdm1oZAAAAAEAAAAAAAAAAAAAACRkaW5mAAAA\n",
       "HGRyZWYAAAAAAAAAAQAAAAx1cmwgAAAAAQAAA/1zdGJsAAAAtXN0c2QAAAAAAAAAAQAAAKVhdmMx\n",
       "AAAAAAAAAAEAAAAAAAAAAAAAAAAAAAAAAfQB9ABIAAAASAAAAAAAAAABAAAAAAAAAAAAAAAAAAAA\n",
       "AAAAAAAAAAAAAAAAAAAAAAAAGP//AAAAM2F2Y0MBZAAe/+EAGmdkAB6s2UCAEHnnhAAAAwAEAAAD\n",
       "APA8WLZYAQAGaOvjyyLAAAAAHHV1aWRraEDyXyRPxbo5pRvPAyPzAAAAAAAAABhzdHRzAAAAAAAA\n",
       "AAEAAAA8AAACAAAAABRzdHNzAAAAAAAAAAEAAAABAAAB4GN0dHMAAAAAAAAAOgAAAAEAAAQAAAAA\n",
       "AQAACgAAAAABAAAEAAAAAAEAAAAAAAAAAQAAAgAAAAABAAAKAAAAAAEAAAQAAAAAAQAAAAAAAAAB\n",
       "AAACAAAAAAEAAAoAAAAAAQAABAAAAAABAAAAAAAAAAEAAAIAAAAAAQAACgAAAAABAAAEAAAAAAEA\n",
       "AAAAAAAAAQAAAgAAAAABAAAKAAAAAAEAAAQAAAAAAQAAAAAAAAABAAACAAAAAAEAAAoAAAAAAQAA\n",
       "BAAAAAABAAAAAAAAAAEAAAIAAAAAAQAACgAAAAABAAAEAAAAAAEAAAAAAAAAAQAAAgAAAAABAAAK\n",
       "AAAAAAEAAAQAAAAAAQAAAAAAAAABAAACAAAAAAEAAAoAAAAAAQAABAAAAAABAAAAAAAAAAEAAAIA\n",
       "AAAAAQAACAAAAAACAAACAAAAAAEAAAYAAAAAAQAAAgAAAAABAAAGAAAAAAEAAAIAAAAAAQAACgAA\n",
       "AAABAAAEAAAAAAEAAAAAAAAAAQAAAgAAAAABAAAKAAAAAAEAAAQAAAAAAQAAAAAAAAABAAACAAAA\n",
       "AAEAAAoAAAAAAQAABAAAAAABAAAAAAAAAAEAAAIAAAAAAQAACAAAAAACAAACAAAAAAEAAAQAAAAA\n",
       "HHN0c2MAAAAAAAAAAQAAAAEAAAA8AAAAAQAAAQRzdHN6AAAAAAAAAAAAAAA8AAADTwAAABYAAAAT\n",
       "AAAAEwAAABMAAABVAAAAGQAAABUAAAATAAAALgAAABYAAAATAAAAEwAAACgAAAAVAAAAEwAAABMA\n",
       "AAA2AAAAFQAAABQAAAAUAAAANgAAABYAAAAUAAAAEwAAAF0AAAAkAAAAHQAAABYAAABRAAAAMwAA\n",
       "ACEAAAAiAAAAXgAAACAAAAAeAAAAHwAAAJEAAAApAAAAKQAAAGYAAAAZAAAArAAAACUAAAEWAAAA\n",
       "MQAAACYAAAAtAAACVwAAAEAAAAAoAAAAJgAAAosAAAA6AAAANAAAADoAAAK2AAAAPAAAADYAAADM\n",
       "AAAAFHN0Y28AAAAAAAAAAQAAACwAAABidWR0YQAAAFptZXRhAAAAAAAAACFoZGxyAAAAAAAAAABt\n",
       "ZGlyYXBwbAAAAAAAAAAAAAAAAC1pbHN0AAAAJal0b28AAAAdZGF0YQAAAAEAAAAATGF2ZjU3LjU4\n",
       "LjEwMQ==\n",
       "\">\n",
       "  Your browser does not support the video tag.\n",
       "</video>"
      ],
      "text/plain": [
       "<IPython.core.display.HTML object>"
      ]
     },
     "metadata": {},
     "output_type": "display_data"
    }
   ],
   "source": [
    "with Terrarium(animate=True) as t:\n",
    "    t1 = Turtle(t)\n",
    "    \n",
    "    for dist in map(lambda x: x**2,map(fibonacci,range(10))):\n",
    "        quartercircle(t1,dist)"
   ]
  },
  {
   "cell_type": "code",
   "execution_count": 21,
   "metadata": {
    "collapsed": false
   },
   "outputs": [
    {
     "data": {
      "image/png": "[encoded data removed]",
      "text/plain": [
       "<matplotlib.figure.Figure at 0x11182ba20>"
      ]
     },
     "metadata": {},
     "output_type": "display_data"
    }
   ],
   "source": [
    "with Terrarium() as t:\n",
    "    t1 = Turtle(t)\n",
    "    \n",
    "    for dist in filter(lambda x: x % 2 == 0,map(fibonacci,range(10))):\n",
    "        quartercircle(t1,dist)"
   ]
  },
  {
   "cell_type": "code",
   "execution_count": 22,
   "metadata": {
    "collapsed": false
   },
   "outputs": [
    {
     "data": {
      "text/plain": [
       "88"
      ]
     },
     "execution_count": 22,
     "metadata": {},
     "output_type": "execute_result"
    }
   ],
   "source": [
    "functools.reduce(lambda x,y: x+y,map(fibonacci,range(10)))"
   ]
  },
  {
   "cell_type": "code",
   "execution_count": 23,
   "metadata": {
    "collapsed": false
   },
   "outputs": [
    {
     "data": {
      "text/plain": [
       "88"
      ]
     },
     "execution_count": 23,
     "metadata": {},
     "output_type": "execute_result"
    }
   ],
   "source": [
    "sum(map(fibonacci,range(10)))"
   ]
  },
  {
   "cell_type": "code",
   "execution_count": null,
   "metadata": {
    "collapsed": true
   },
   "outputs": [],
   "source": []
  }
 ],
 "metadata": {
  "anaconda-cloud": {},
  "kernelspec": {
   "display_name": "Python [default]",
   "language": "python",
   "name": "python3"
  },
  "language_info": {
   "codemirror_mode": {
    "name": "ipython",
    "version": 3
   },
   "file_extension": ".py",
   "mimetype": "text/x-python",
   "name": "python",
   "nbconvert_exporter": "python",
   "pygments_lexer": "ipython3",
   "version": "3.5.2"
  }
 },
 "nbformat": 4,
 "nbformat_minor": 1
}
