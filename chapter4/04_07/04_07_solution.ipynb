{
 "cells": [
  {
   "cell_type": "markdown",
   "metadata": {},
   "source": [
    "### Python module/package imports for this chapter"
   ]
  },
  {
   "cell_type": "code",
   "execution_count": 1,
   "metadata": {
    "collapsed": true
   },
   "outputs": [],
   "source": [
    "import sys, os, math, random, functools\n",
    "\n",
    "import numpy as np\n",
    "\n",
    "import matplotlib\n",
    "import matplotlib.pyplot as pp\n",
    "import matplotlib.animation as anim\n",
    "\n",
    "%matplotlib inline\n",
    "\n",
    "from IPython.display import display, HTML"
   ]
  },
  {
   "cell_type": "markdown",
   "metadata": {
    "collapsed": true
   },
   "source": [
    "### Code from previous videos"
   ]
  },
  {
   "cell_type": "code",
   "execution_count": 2,
   "metadata": {
    "collapsed": true
   },
   "outputs": [],
   "source": [
    "from turtle import Turtle, Terrarium"
   ]
  },
  {
   "cell_type": "code",
   "execution_count": 3,
   "metadata": {
    "collapsed": false
   },
   "outputs": [],
   "source": [
    "def fb(turtle,distance):\n",
    "    turtle.forward(distance)\n",
    "    turtle.back(distance)\n",
    "\n",
    "Turtle.fb = fb"
   ]
  },
  {
   "cell_type": "code",
   "execution_count": 4,
   "metadata": {
    "collapsed": true
   },
   "outputs": [],
   "source": [
    "def F(dist):\n",
    "    return functools.partial(Turtle.forward,distance=dist)\n",
    "\n",
    "def L(ang):\n",
    "    return functools.partial(Turtle.left,angle=ang)"
   ]
  },
  {
   "cell_type": "code",
   "execution_count": 5,
   "metadata": {
    "collapsed": true
   },
   "outputs": [],
   "source": [
    "def iterated(f,n):\n",
    "    def iterf(arg):\n",
    "        ret = arg\n",
    "        for i in range(n):\n",
    "            ret = f(ret)\n",
    "        return ret\n",
    "    \n",
    "    return iterf"
   ]
  },
  {
   "cell_type": "markdown",
   "metadata": {},
   "source": [
    "## A fractal tree: solution"
   ]
  },
  {
   "cell_type": "code",
   "execution_count": 6,
   "metadata": {
    "collapsed": true
   },
   "outputs": [],
   "source": [
    "def FB(dist):\n",
    "    return functools.partial(Turtle.fb,distance=dist)"
   ]
  },
  {
   "cell_type": "code",
   "execution_count": 7,
   "metadata": {
    "collapsed": true
   },
   "outputs": [],
   "source": [
    "def funcbranch(steps):\n",
    "    newsteps = []\n",
    "    \n",
    "    for step in steps:\n",
    "        if step.func == Turtle.fb:\n",
    "            dist = step.keywords['distance']\n",
    "            newsteps += [F(dist),L(45),FB(dist/2),L(-90),FB(dist/2),L(45),F(-dist)]\n",
    "        else:\n",
    "            newsteps += [step]\n",
    "    \n",
    "    return newsteps"
   ]
  },
  {
   "cell_type": "code",
   "execution_count": 9,
   "metadata": {
    "collapsed": false
   },
   "outputs": [
    {
     "data": {
      "text/html": [
       "<video width=\"500.0\" height=\"500.0\" controls autoplay>\n",
       "  <source type=\"video/mp4\" src=\"data:video/mp4;base64,AAAAHGZ0eXBNNFYgAAACAGlzb21pc28yYXZjMQAAAAhmcmVlAAAstG1kYXQAAAKhBgX//53cRem9\n",
       "5tlIt5Ys2CDZI+7veDI2NCAtIGNvcmUgMTQ4IC0gSC4yNjQvTVBFRy00IEFWQyBjb2RlYyAtIENv\n",
       "cHlsZWZ0IDIwMDMtMjAxNiAtIGh0dHA6Ly93d3cudmlkZW9sYW4ub3JnL3gyNjQuaHRtbCAtIG9w\n",
       "dGlvbnM6IGNhYmFjPTEgcmVmPTMgZGVibG9jaz0xOjA6MCBhbmFseXNlPTB4MzoweDExMyBtZT1o\n",
       "ZXggc3VibWU9NyBwc3k9MSBwc3lfcmQ9MS4wMDowLjAwIG1peGVkX3JlZj0xIG1lX3JhbmdlPTE2\n",
       "IGNocm9tYV9tZT0xIHRyZWxsaXM9MSA4eDhkY3Q9MSBjcW09MCBkZWFkem9uZT0yMSwxMSBmYXN0\n",
       "X3Bza2lwPTEgY2hyb21hX3FwX29mZnNldD0tMiB0aHJlYWRzPTE2IGxvb2thaGVhZF90aHJlYWRz\n",
       "PTIgc2xpY2VkX3RocmVhZHM9MCBucj0wIGRlY2ltYXRlPTEgaW50ZXJsYWNlZD0wIGJsdXJheV9j\n",
       "b21wYXQ9MCBjb25zdHJhaW5lZF9pbnRyYT0wIGJmcmFtZXM9MyBiX3B5cmFtaWQ9MiBiX2FkYXB0\n",
       "PTEgYl9iaWFzPTAgZGlyZWN0PTEgd2VpZ2h0Yj0xIG9wZW5fZ29wPTAgd2VpZ2h0cD0yIGtleWlu\n",
       "dD0yNTAga2V5aW50X21pbj0yNSBzY2VuZWN1dD00MCBpbnRyYV9yZWZyZXNoPTAgcmNfbG9va2Fo\n",
       "ZWFkPTQwIHJjPWNyZiBtYnRyZWU9MSBjcmY9MjMuMCBxY29tcD0wLjYwIHFwbWluPTAgcXBtYXg9\n",
       "NjkgcXBzdGVwPTQgaXBfcmF0aW89MS40MCBhcT0xOjEuMDAAgAAAA+NliIQAM//+9uy+BTX9n9CX\n",
       "ESzF2kpwPiqkgIB3NMAAAAMAAAMAJOccxEpfbYdmAAADAUQAGkMfFC4gX+IgsDztt3N12mHsUfm2\n",
       "1C2gninvwOCCiuRxqo3lneurCLopQAAV4ahaGilQBCakv1P8TtlAudXGgVxEHuvcSyOZgpvBU4iV\n",
       "5vuvQY2aAes+lYB4r18ZdRWjHxlfdZTbF4wwcJjXGGH60GgfYFuOqUme1BsPUkjfFCnzGrQchX4f\n",
       "EGU5LZL2cYgNYwJ4m7LtnEeTQYCARhodKq0wB90ILA9MKkZPDT7g0EYiM40+/+B2379bGo+MbbvV\n",
       "l48I3cWfCbDXYcTPhNBsqihleBJCs0hVLO40ffwaeniW1xp4++byEt+D4PCRmO+Fuf5aA9PkeNMX\n",
       "8fOS03/7OhChFtqlr3W+AQ1wJ24ldTox6IINnJmDmWtkU/hOQ0n9mXrlJjNBhtgkWw7AhuxpMS82\n",
       "FIWP1XoPS9h66M6ROv6PrYnHOJKPlXXUgjjNiMaSKiSH2+fVkSpyUJc8pad1HaVKEXSCr8UaJ57y\n",
       "kL3R10sohfqEULgzvt8bbEmbmfs+C5j0MN4YZISwwCuXRetSh98MCiMCjhVoKq58BTr584sI7kiE\n",
       "Uf+jl9Nc2st69Ddq+d5i2IpzJnAfoB0p8pBCUAZpL7fIBFtp+ASmEHPg45UWC14NnZG7UGk5SynC\n",
       "qpUdLlv7KfBLxib2HUBRf8h/YOfUxhcO5Vsc00HRZyT+7WPS0OSxXhZ/UWK0p48ks154qwD99CYh\n",
       "q1fLxPzs/WvBSv08KBfYiVt99sITg9u3ARsJetPurJ6xxJKXyzmLbURkVen0ul2/hHlhujC8Msdr\n",
       "EoS9hHGic2J+4St9XgvuQlIXq5Ss6MNAsDs7DBu4dQrnOnkpppM2BPsg2pciI1jLsL/IjrKDtGIN\n",
       "kUAuJvJl1LeJ9qqgAtLma6eK8OUHSyiDII6uF1Qi21GqV9al9Tk+chNlZAVrCqlVl96hqgmTLTOk\n",
       "7Tlsm0vDV5N1QItqnLBMgn8sKHiorwbJkZUEaVx+CPxyZLbKXePwbOuQCcC0lH1DhKZNF5ENu1GD\n",
       "51cYaPAtt6igak2y0p25edgt5N3aw174imUbTsOrUJUKVXeQeVbQd2aL+x4OTrEp5/QMcwbFfODl\n",
       "Nx+P+UI05WtljiaI5k4r/3PqzXdoFxX3axWJ/AW/piMIhayLE2tcc66oVXi1MXri/cY53oQLSPzR\n",
       "fGBvhu/G3e0abMOjsRL7BAI9N1sSR3d4pEj+RAAEa8s4iJIPysHFZcYyQ7iEUr5C+YZb4AADyAAA\n",
       "AwAAAwAAAwABJQAAAMFBmiFsQ3/+p4QAAO57ze2T3TAG47uBCM+1RryMyyPDPl3+hJzsM0j5sFGD\n",
       "ayJZOdwjzAUb/jgGhFs/D/Bx+Y1TGfPgBpcNhCtDpb++t3xukGrdEKno0MMpvnYCteTPPPSv3hhv\n",
       "6YfjfK2TvT5jKM55jhxCdikvzq7Yl7hkHxbLOU9s2aW8CnJAJfiPhzL9M348uZhK3GczJP2juM5h\n",
       "WO06sGWRoilviC+uFGIHv1ewWvKoDrJfdyAARfVh4w4mUcNzAAABZUGaRTwhkymEM//+nhAAAcbG\n",
       "a/H3PR7AC23gtuG4VpV6cBBU9NDTqUlFW97nU1ri8yK+KJ2u4j7tXmzXn8HJqaq3xFvhV/RtBFAO\n",
       "CGvfEFHGpsekLTrqOJdziJSH+TNKWaznxNQg1fjr/FC9l5fexEevAAPzT+Tiz4vBnwTh+DUKqJtx\n",
       "dbb8hMxBMdO8qeljLWrrQw25d3pA9CR570pz3dUxgasNny6OG8C6IPsqUay8hw5GUt9ge9lIexJ8\n",
       "jVQ/EiOMP19Rf9PB7vzKeLtQTJEDezVsSPvPlAPwAy6jkHh5DcCf5fLAuhQLeMEXMH563+XmOYDL\n",
       "OLRdY1BFYb0Gp0xPxvWAlKDQ1WOkbrTdHonm97vI+VajjKsdH8fplUk7qIu5Cv2NlrA8MjRWMM8p\n",
       "B4NlkbtXRcl/xncO1laHB3kYFdDp7bvmqUFkVOjEZoJ0x0YC7yMNInUkpUmk+/ZIYTOwAADAgQAA\n",
       "ACBBnmNqU8K/AABfnQyo5UkyCAAQDF4Vur/BZTVvmAAG9AAAACUBnoJ0Qn8AADSegXYAEskko3Eh\n",
       "Dqht3yNKgfPEI6Am4M0AAKuBAAAAJQGehGpCfwAAeTNEVXl4AbTnoBVc8FnmcgGTUodmRpIAAAMA\n",
       "34EAAACjQZqGSahBaJlMCGf//p4QAAP2PqfL7RRr06LnffcmQo+ELXSnhqlaSzyAxw9Yu6m7KOrf\n",
       "fWrLu6rNl4hbVu//t0NJ1uTth1BnWwo74oFNKNUK78t1O2kALFsN3AHeq/RS4mpqs851/+lcywrI\n",
       "Jf+hbq5lHxQwAhoMcrReW35axEw4H3p+bLx3+2XUJa5VYHEV6xu4Lr0I6ypJHJe6Do7iAAAIOQAA\n",
       "AY9BmqhJ4QpSZTBREsN//qeEAAJaZ6XAF1yrjpRdt/B5GTO2cr4KymXogR83v1rDK/74/7KA/dfY\n",
       "3X/xz5PuRsbjb/iidSlmy0vdxc/7YqbOzshEP+VtMFndW9YB8LwYrI5Vo8SMwnoSmFiW5rHTU+g6\n",
       "/+VXn9nCa/I0rGh2d9dqj+nNWliogRT8VI4suv/cxg3k+rqktzLTF9FVhoCdkfCMNoy1h1tpW/0E\n",
       "2fbBbHWc8vxxsUZSuVIpe12GxopN3Rmi9nnvkgVrMCQGllOOiDOz745Fago6NAUiUbJHerokANRU\n",
       "s67Td2ZP7hvaGJpD+2Uss8XwSXAsa8rlylZoKbu42TYAn990g3nrEoXAMbCtoA4NTGmhBZ1VDb4A\n",
       "3MoC91tC316b0eYi7mnxGNE6NnOTwTFN+zBcWyNG+6qTaCcUsRnOh3Ez9XhyMr8SkXJ7Wf3yEBj4\n",
       "GaoV05HCvSwtwehl/TDJkQT/vJr1HoWfMCCMGi5n6W5l0TVpX4Zc52damWMbk6w2gUnkk2HRvwAA\n",
       "EnEAAAAXAZ7HakJ/AAJ9brM5fYnWqIwTCAAAoIAAAAFiQZrMSeEOiZTAhn/+nhAALrvv4PKb0AMZ\n",
       "97PJqdSHZTmU26y0VvbmVaLUI1e2vvfTIgqn1UZMVKb4s0jFydPaVOB1v3yStkuXuCgHYqOYFKKE\n",
       "bjpTLOxUCBcyyfal235okpy1USIq8OPaIfOIddcDC5oTYsPVUIJwxcFhtW3heWIEAyYL8nKZQdPn\n",
       "fNCZgyPGGv3iIP1RoSJOaegYn5VIz70Hxpr+7v8rux1/4ou1rUhy8N+8rDxhvB21fMUaKdK+HB31\n",
       "ZJCGuORl01P8Er1Qped1su2kiltJErVEb6vaKJPs5t88j80KcD2wM+ZqcWAUyMqACXAvziMMpmoz\n",
       "9Moawvk4BF18TSAbTjEJfuC7A1dngVvzQQrVi1navz0oFGWTfByfes8aTnaz1sbuCbIlbcvjnV9C\n",
       "ttvU76v9zesx9yfmYWDBNO7WoctKzV6VrKnQzsRNJqWHq4grBa67H6AAAHzAAAAAO0Ge6kUVPCv/\n",
       "AAmuwBsyiACca2KUcF5GVKbudTw4FC/P7W6OEawGIkwce5CYD70IEvJ1aHxVp8AAAEnBAAAAFQGf\n",
       "CXRCfwAFr0nsEArA9wirgAAWcAAAABoBnwtqQn8ADJPG5dAbG+8Se977zoo5AAAVsAAAAMpBmw1J\n",
       "qEFomUwIb//+p4QAdHnMq3/Lck5IU0ur/DLq1tU1MGiX3zFeACP/51Lk0AJ+oaMacGSAetb2sRK4\n",
       "INbBUjeJ9PuEQ5BECL5MjFPzm4QtKYxNBK/V1T9z0QcwPRYpJ5sAPB8SrY9xcCvFcWr+NjIkf/4T\n",
       "BR2DouQIdusPGBP0X2PCAxYYR2Guei4cdqTv0R92V5GER9+8xTZgtddKe0B5flreGMFM7W9RfEb9\n",
       "Zi+6RwwoDeiBN3cZT/0Ir+298IcJRO8AABHxAAACeUGbMUnhClJlMCGf/p4QAN3rn5Bi8BACPeut\n",
       "skx/UDY0SGv36cVh69/7BCPEGMroGi6IezLj8xxqviwAxtysHfbAZGyaydP7/WZk1PKxKndz8J6K\n",
       "jgsNgAGiHTf3Izhs4J8H1apx/+KM2ByZT6fVT8Uo+Uujbhpg1rnAVd4vhEgU3z8wm040TiZn7pDE\n",
       "ho2/uXRuGUZBKK+B38tOODDtW3wuO9mgLOaBh+0dOYqyeVuog9X7pCoWwSujC1FlP9c5Q2pa+Rk1\n",
       "i76z4DO/7zD+z825GFL38zivtfKtE5lsFofr97BqdUBpA2lS/GB5/LTQEe3xP6C+u/NBHfMlHvEw\n",
       "dKDqUVCTvgwhkj/i6d0P4woEf8WsZ8uNN4NMY67plIlMU/MRLB35NTon2CtmHzMWs5C/qDNgAy3Z\n",
       "aOGveprq+UaRydF09mhSrVr26AfYX3Bl6qT8X2qIzDrudRTC5iJy7vRRp5i2aZldgj/WzOcV2Wl0\n",
       "ei2w6CwEFhuRrFi5J4SNXbRvqzI0zTFrLx0q99m728iP3QBf6wWNDEaWUWshEFN9bLYa1or5StU2\n",
       "l4uRToKUbUxzARC+RUidvmtP1aa+BF8O5K7RkZixwW/eVNAwuU7CrC9cNIN+3WmgBYww7TSoOf/5\n",
       "rPIh3c6KzxLT/qw8UNkwkmvFPiwb/1xWy31UHMah8B7WIbAIcb9WYjw9r/flrAZB6N/nbLIC4Bva\n",
       "1qtOtWOT9x2cFTi7jHOcLnF6v5IQhNpV4Q37VHmswI338IQLjLdePbVisKsvIb2tcEHs6DKDw4x9\n",
       "ZrRKLL10+0LUCGdTrS5SzNbufGgJrzZiSNPlfxmCQVswoAAHzQAAACRBn09FNEwr/wAule5gtsBa\n",
       "io8ymN4tuLak8WKYecvsWhAAAg8AAAAeAZ9udEJ/AAw/nOc/s+3gAEDw0Jp8FNSUSawAAOmAAAAA\n",
       "KwGfcGpCfwA7YNKnkBRghYZAA1VALVN2zPOr7SdTZHldAY6DqIGKtKAAB8wAAACTQZtySahBaJlM\n",
       "CGf//p4QAcQeNE13GA8WfAzWYFHzgtE0BO5yxlu3HrjUlkxkFqU5BZc+X5P4x/HYDE8q4m0xJB6z\n",
       "DxN1kG5mU44mh4rwXZU3/N72z1uxBLuETpaNGvWEcBhxfMXiq0hFlgFktKCXGBcOQ8j42Fhfpta/\n",
       "7rji2yfz8GpVTUShhQCCkYIPrtMAAAuJAAABHkGblUnhClJlMCGf/p4QAfLC//COd6AKENa4vcoK\n",
       "NkavLKD3o8Fbxx9aDqBWh7ooMQfR7ZfX4I9IdmvP4OThdVZfppSw53p7o0IdVAVcS3thtvxqojiG\n",
       "gRWXA9FU2ccJbkauJ7EP5XXK8ZXfeMklAAZVSqr5ntjpeEd0sR0WfAPcy0RbFFWAQumFgoLEyh4Y\n",
       "S7/VedEyKp1I0SDUaHBxJYXzeXeM0rIJRavUSonW6fKxWZt2e/ng9yZihIi67VOBbH/neCuupbNc\n",
       "s7n401Mb+rC99txISSUyh4wbMMaVbTT8FtwQ561DJwXSCEP05wocp+E6+BiTMX+jrF9pSk5ogPKq\n",
       "rPNYCRZdcfLEHvkUldUNmNU4U48+DeE9mAAAgYAAAAAcQZ+zRTRMJ/8Ahu2tIS8RQAEsHf4RTelB\n",
       "MAABVQAAADYBn9RqQn8Ah0aCAC4vdXM3klFcNndla+1izvjdeRRydATNnB4CtBc35KfUD22+fghc\n",
       "euAAAzMAAAGEQZvXSahBaJlMFPDP/p4QAec+reQC4PmnDkufXo2h2gNI2JqavlVnUCAFx6uv5w7A\n",
       "15nTT6rqyl48T1yWU6cYJBpJnx6W8VQsWyxdfL/2Cw9wnbvjH1ce1rUYco7DLfOSfTcrHdcm14t/\n",
       "QcPgVBm4/kF6Ei2F9m2V4rfPnaqRzlvEVXEhTC3vlPI6AbsL/A2lkByklP0bQffNBwBVDtq79O7E\n",
       "pNZb0E3Ppvlaca6EwfL6cmeLmuE6jWuVOoEIguls+KgkCrfeUp+Lvqm66Hp4fiWAgQvlEuQ4JepH\n",
       "sJSHD3+THXEO6WTh3Cv4tCnogve+3DIFgSuO/Kd3DQSi/mH1Fq++4IcqG8E1oteH2PmxAdsKRLhj\n",
       "+ats2DHRCnFN3qNAE0CETly2Qa/qzMb46KXM0T73bST+cuXXCtuLlDpULGksKKUHDIpRyZKtPAxC\n",
       "c4DtCkjv35LTn/ta6ACkjv3+SzvBTJKgdOU8TLwGMXsgeB0ZQkVAENL7At4Yp312fFDAAAAxYAAA\n",
       "ABcBn/ZqQn8Agl00ClEc3Kyjb/eQAAAccQAAAKpBm/hJ4QpSZTAhn/6eEAHRwv/uJQFSaABL61Sc\n",
       "lJA7g1HygyyuMLq2J2Lvjglap9Hyq6bSB7p6MddoGYNqwq6A492NeIAjTDnO2iAt/IgXtn//yyQD\n",
       "42+C/vVgliwooMSk4fgLEwZr5K+2Ahr9Sj3nzaonztp//BSsKEeaFgH6OAOEFWppRErMylXr/QA9\n",
       "NhfMJKc0PVrf5FUXTZCt1lmpLUK4MAAAAwBswQAAAHhBmhlJ4Q6JlMCGf/6eEAHOqrU4HhgCXOj+\n",
       "MP/I4N30ACwASKadHNc3gpetUwi1rdlFzmaNk5uZVpz+EnTG9QwWitTgUqUAUqJ1mKVKSwn7esg3\n",
       "njTbPTFcqkmKgRDptZz/X3DmwpuQVaeDpH/M9PYwsXAAAAMAbMAAAADjQZo7SeEPJlMFETw3//6n\n",
       "hAB2h7agDjgs1/105+k8OzMJBmW/HstHhaEsL7JivPCKJWDVdHUCQqe7YVm1hleHZzVGLfFrWC6a\n",
       "JPwisNUE355bqU1ySa3cf0ny75Sv5q/eRC3bHqs5oM1dp5LvTS1EZYGrHxOfv7LIO3IRFAXgqKvq\n",
       "CvEC1XY/AMWFHB1wmVh48rXp7T6qa1jtRpLsPu7xf1TdAFi6zczxIFGR6eg7KBxoOjBmvJNTbnIl\n",
       "Eo/IJezF4nBPIDypj9t+HtXu0ql5mmwY/6C22mLmJCSUie61qAAABK0AAAAYAZ5aakJ/AHxFqSAE\n",
       "Elmc6ZzCCOAAAAekAAAEEkGaX0nhDyZTAhn//p4QAc8MrgEfgEGH4mUzu52TMGeGWZ6AfqevblVR\n",
       "qrZyuXKgn9kNZ41OzzBnrJl/JOVa7xrWMdij2RXbn432CFzN2H/I0DFRiQeZMt6fOwIZNqgcj1io\n",
       "Bgn8jWbwF4kXpJ6K8ErUS7JU4psHfjRUoJFNkmuMqDPi/nEh2Iq3Qz7zOXP9wsZqF+n2t+EJeBcf\n",
       "THXGkXyLa6LIHGG/1Kjtl/UHAwMH3sucxNMHzJSGnNfwyfl+ViuTf+0iAWiAJW3uLgV5GchW4xSd\n",
       "IAxNUzCW2yiyucnJI8BgFISNg8VIvkz9Pyo0tYrvTIliMeG7RvnE+/4diaGVXZDBsVeEnxB55ud9\n",
       "2fxbZbtT7nhYqALeYLXI6mxWdBwSH0cTfPExCqyR4g36zva5xQNkhFG9shAFi7sPUaLcXORz9mc6\n",
       "o6MyFWAVzYbf3Gd4TZQhDKpMkp+hBJGxQuL/qQFsINeu2CGnv167iIgFOwjm1j5zJZFqCAPkJaZS\n",
       "mewrHTp5mTqNqyxXb5IDz23dArwtPtThMNscuVOoIvUrrOJOXHmlVKoHTTRtjjVghsJGQw+MzsxC\n",
       "MCA86PsjQYS9YREiHjJXrsnxZH/2uwWNBp8qdrbbo+wmx8HHZ40kRBUhcAyrJ7hiCu0zSad5Pdw3\n",
       "i4Ppqp8VViTK/YxmC4dyOTFY90+MgoMCGYyP0TZ1+rY0E85fG40fxOOPOiBlFYH9pScpDZYkuMpq\n",
       "TUsoa4tBb8r31KEpZnjQQkKl3tqR7bSBGccP7/mR5P7yhsMp28jLB2TXD1cmIZt6X2mEyYIpnePN\n",
       "/rIXRyAemvdYvW0/r4TosRIPzYEAoHNrQcbXg/FnB9tDgvdQ0LfFNcdEuM/Abdx94wADEIakBOuX\n",
       "SaddNLSdB7DrDw0Q75lg/Du/dBQcGrB721dR6q+YeDAmMz6In8h49ZpSWib+GQI8+Vtx/+uYmiUw\n",
       "2+aOgi+b0OJzNa7kR+TR86+kF5MIYbsHDN09xvZaA/t2DDcnYWKthTPh7f+bxq3h7efkBQMOdwUy\n",
       "bRGC+0cxG84qdPOXxCrUT7TwhrF0A9p1pNVbgvzZ9HE/ySjcqWM2zq05f2t5QKqVtotkz3miHfMs\n",
       "G/ByQhpNB9ub+STqFS9a0Cx70wdSnfYtyeu7Qg+uAQTMhVMd/KDRWIPTWPCK3pTVJXDsZF6IMu0N\n",
       "dmE9COQcSgPCaxcJATkffKZH6aDK6NWy6v5ZNzJNgz3WKVY9XenP3V1NEDcCKR7BJuXAliYdzsQu\n",
       "fl3UHk9tDw2lLg4btU6wHprp4+9t3sC3zl5iGxpYmNt+f5Lfz2Q1Q5EDESEC+/CxGhomhlpaVMN6\n",
       "GLC7Urt/XilPxdaL4DVzmNxMo0Ccht0hy3UYhoMAAxcAAABHQZ59RRE8K/8AKzXqQ5wAmjXy3A30\n",
       "RjXj+7UInxiahba1eEeXNg/7Pg9A1zdM7Z879vlHhXxqgDdBXdifZ+fYJiwe3zQACXkAAAAgAZ6c\n",
       "dEJ/ADXjFt8AIFvjz9my+xDmbSy158TRuAAAKaAAAAApAZ6eakJ/ADYCfYEbKibGt1T1ltTPyJQX\n",
       "oCrUXc1BPRmuTBfxTYEAA9IAAAG0QZqCSahBaJlMCGf//p4QAX19/J1zc8kJdaAbnAwwlT9+ep6P\n",
       "QW0tWViMX5rg8y+0tKQL/1vVle/txdV1C0ZEX/nFXZ5kuvTchHP0szprBTsZkj2PS1GsCcU+///9\n",
       "z6USQ/hb2ha/fhGr6dzItvcoA3QStbzJQSHV7A0J+cgsOgdmKs/WnmV9Lkcnn1cAaNdWdwUd9fww\n",
       "7oO8jTIvPOY+3eS6esiFmwStToy2ZA/Acxlnaeq6ipK9jPxuFRNtTGxFMWkDLUUJgr10w4ZEaqrv\n",
       "e91wNnrOUGS0l0o3nAuHJasClM4/gIMO+6lLLufQwQQAPtHt/aA4bvSQxpi/MPWW/s6udPKeaOph\n",
       "gqd53o1XqtUG+i/uC1gItgWXkJWhe8f0RHx+MhDymcEDD7rQxZZfmlkJmqO/5v21wSTdZuhZR9aX\n",
       "MhaBZS5b4O2mKGUn4KhVBmn5kX3TDggIoat+j3oBHanqfph3CB+12AKZ8rXIBd5/nnW21s/tZszD\n",
       "66ZzGjdpy5dvzH8nrPR0QF0M5WfEvHY+AD0LyynqoCAQ+OPCr7bWkPuY1llKCAGEHSxFmgAAAwBq\n",
       "QQAAAFJBnqBFESwn/wA009ME4mPTYIQAh2XUJ3pqn6VFGY+HjFIY26GdsMSpvda87h9crr4kFm9s\n",
       "bYtqn7wFpHwUH2aNd/Cu/ggrz0Pq5db0AAADAPmAAAAAEwGewWpCfwAvzxubcBKRAAADAQcAAAEE\n",
       "QZrESahBbJlMFEwz//6eEAGRduOEwdWpss959b7MUUCvewZpvVUiNf4XN4dvP+KfbKhaBCDeal/J\n",
       "APYKrxII9DNIsvpcxGND8sZmkynfhV1oS5ZfjSiBfuCi2albN/LN7c3hGQM0JdveHEXScj5rj809\n",
       "EXD9XQAg5ng3qrI4LwmR+bcUyKh5i3dCsXKmU/6uPMi+gtqXFZeIk9dTeknV4vZCWwl7+2nbMU4P\n",
       "gArDDQxHL2R3Aav34S9Tv3epHGE4rivMSZ5NrhCrXe3ifzUAcl3t15R4bLTg0E+3Pi7NP5QQS4Dx\n",
       "4O0fZhOMfogHg1FsAuyl/IDIQWuK7AZoB/vHdAgABBwAAAAiAZ7jakJ/AGweAp2ss+rmIKLrNMX7\n",
       "XUWcqnRpDYqIAACVgQAAAIRBmuVJ4QpSZTAhv/6nhABkYyXADefwzWpOYdo5UpMbFUowY2TzyQ36\n",
       "z23J0+rdEB8VVvcUzZyb9uOwbWuarZAnfRCl2AIK8dkbNNmwD9mt/LJynQYIv7seKaywFLoFx9nZ\n",
       "90ttrqtUJy/IcyqpCKypjsN48OGRBxTT8EWuujfT2SgAGVEAAAHBQZsISeEOiZTAhv/+p4QAZGKW\n",
       "oApqbqsoKm2B/z2fWMUvuZO89pJQQtYjfM1hXDaTxxApZ0PdpviQp7pnHfXLMiDj/TVjGS+dqcac\n",
       "mxFoo5ifU6fLztoT1H/nrpHh/+/0tr8/MKiAlzEqma5GHLL4MHN9qaheFFsNZoSZjK5OZwEwOoVX\n",
       "mEMnvMj2q2/JuZXYeh24IG2c5FBtJJuJojrk0RNw+GQgPqODpzhdXVHFfb6raMYrtM8XX4Ku0CjK\n",
       "uAuSygHJnHNV3aWUn4lpwS0KacpubeHYwVSxL93VqIe5Nca+ISBO/iW6kxOvN1LH/sPylco7lvdS\n",
       "jCj7ACdZE6VUt20WCs1qqg0dkL5TDlp+E1Yutvxb0kal4h/ixO+TqxhrGM7jDL+dJycRkkVQYBEe\n",
       "gLvp39/AgxgdII+27Ipvgu13us0H5HZ32oBdWnnq1eo8XCsIEdWrPUD0tmORgWockFCtyrsZb38w\n",
       "ndH/0C5jKviuh+gti11igKGTE15mQRXxOXefaVfpA470XHq+rDeAfkXMx/Pl2pNQSXE/IzyBC1EN\n",
       "jKNT1s85KVQgvwdkZBPdPdUeT/edD5lgB8+aXgAABi0AAAAqQZ8mRRE8J/8AaYeHwAhJWMALm9KN\n",
       "HUV1ywAe2I9a2UxRLwD7TDUAABLxAAAAMAGfR2pCfwBphcqzuZImoMIAOCC95kbyELpz0Gc9lhZY\n",
       "les9jzPrxhnsUOmQwAABLwAAAONBm0tJqEFomUwIb//+p4QAX2MlwArnkC99kEeFKfdZpE346QpO\n",
       "iaDEzT2CCQwWlISQA8Se1XVD8/6oCFPkI3Xa/SD6HkhvJrjIl/VAsNPJA0fjT83HLMJ5QPo5boW3\n",
       "lIlKaro5PMal7ALfTcKhLLjRK+7ikWJSnzUaQkj/DPR4FI84R4XsmSCkMl+8gFCqdED8UbMDZHux\n",
       "flWLcLz9EzYIcL6A2aZtx/Y972mHYs6qPpqphNzmsJLqMwdezAg8jiOdc2EL6QTAQVWwrca6QNY+\n",
       "NRQTpOT/ZsDzV2ugqkrAAAAasAAAADxBn2lFESwn/wBkh4fADdad0bJpzefwfsr1wVW7zC1+/cx0\n",
       "MjrnMqXH/j7Tiy7XvwSNPwgbgE4RJgAAGhEAAAAWAZ+KakJ/AGSd8oGNRmErc2yAAAAJGAAAALJB\n",
       "m41JqEFsmUwUTDf//qeEACjUfjV/1JuAHHuS7mhlbqDXjsEJmp3yeuYl9F53XRcV8+E04OG2+I+b\n",
       "HtQAfxJhkkozMZVaLX+ww90/qT2G9NVoP9gnSY8QCCRcgjEtXNMpDcRE4hgrC9InreIitEmDVJyg\n",
       "1VVS+Wv2mqNPocvo2Kg1mK8lj/l7TaLVGGONQI9UmBMrmg26SbDEIkpxkvKTuYr22DvtNk9JGdhK\n",
       "GAAAAwMqAAAAJQGfrGpCfwArCfMOABsXq2NSTgxYnY9CLwlnx0Iu7+7lKIAAAUkAAAInQZuxSeEK\n",
       "UmUwIb/+p4QAKftY0AEYk/wJsPxXxlnGqbHnsA7tGNHsDZ8+iLmVqxGiQAbJZmA9xMf9Pzt5FzwH\n",
       "JoqeumgOe1lLTDocnaPO/KmRvMVebafNc23dkrhJfS/YS7ONEOGeriNihjH/MYOpmct/7YEeDGmo\n",
       "ZMamYnkRDJG9yzxaysXgD8QvLHkjgoG/taH9TFkoOyAft1JY6L3qP2EHAmuP8oLMJ8ZFVerl7R+C\n",
       "rpIPKd1vfC7tkRyChWXMybwwwnmnyHgChNS5arHxijcUu4mCdF+Z17/dBzAJeUf9S9MCSdCHiJ4Q\n",
       "JVYj7xzltV6vNR58zMsvUqhG9ONW1DwRxI7p926tpt5n+7XqxWOFIC12f0djYfVI++cuCzc6DRYN\n",
       "EGMSQlVM3YVNr5jDW3jdhA5rnP+SBKehr2iSS+lPbiV1napuBdKXTlEbhb7qrvVLewnMVMzPuh2o\n",
       "8YLSviHwCMjIjB98QJJU4R2EGB1/Ye7H7F1fCnQH9qSGphkmrvpjDyjI3Bq2Bs4I/E9txgu70vU6\n",
       "b60iG/9lN9+8cn+E+DE7h2flf2DpPqrGWFTUSgC0T7cj4ubF0I7tjtU2IszaMBPGuJiVL2l5gGXs\n",
       "ePwGmpGSoGmpEh+fD5f4CfmFCui4nknqq4mvJv50Wfn3cwtDfOwPKqaSleqFWmsZPLNgD/+WHzG6\n",
       "T0rH26r25iurutqOk4/Od0D5g8C/2MfQxWLHU4AAB90AAAAxQZ/PRTRMK/8AIbIT0tU9xLWJyMl/\n",
       "UybhPYTsm/igAWCQN0dj0JzB2Y0AEyckAAB0wQAAABsBn+50Qn8AKyjL7Qfn21PZdyX/BaFrsYAA\n",
       "DegAAAA7AZ/wakJ/AAfCwpCvAFaHK/NVh0FUjAu3Zi63bG5F87RJkBypocBYuXdG9XSNaSZ7z7gn\n",
       "BcLn/AAAH3AAAAEFQZv1SahBaJlMCGf//p4QABxMPwXQwA6R9wi/E//JfL+Jiem/7i32e6htJHc9\n",
       "qMNl0IHIdlu7ivDftZlGwrCe9O6/xkcJtdeZ3yvDz6GPaJpzSXhnCKLDMZ/L5Khuqh5BFPEmzQ2j\n",
       "JQplWFmadz/0GNOFB3esnX9/jakIzo6OrnR/sEkcZvBlT+gdn/i9X6zi3iHHAnEzBJdV2yBwr126\n",
       "1XJeLbzYHOMxeIND5QRFutenVvp6jPKOCWpD4Mc91njlrSyKoJwmHNeA92a14/89VJkSt7TjoOVX\n",
       "W5vxO6A1oQAw7TSqN26Dc3mq3Kz9E1VAfItO/rRBUbchG5rWfG0wVB1gAAKTAAAAP0GeE0URLCv/\n",
       "AAaaw+RnZKa0J2IAW4XQ88AWbQpcpoNp2V9mllI8DHwTIsUUbSUYyR2f/VmFB022nRXwAAAGzAAA\n",
       "AB4BnjJ0Qn8AB5dlVkQqAAQPBRFBsBaB3/0h8AAAi4AAAAAXAZ40akJ/AANg75SLf34DDMY11gAA\n",
       "CBkAAAFUQZo4SahBbJlMCGf//p4QAAWrPnKgBUuHrBy2Fi5ZrQXvXfAli2gZuMHtLjHAE6waIuQa\n",
       "y2pXtamtQkLWoLV1nToP+rX4SUZ/T0FfzLrX3I6KgcWsKPOsuThgL30iFwjxn/HGdSmtQY5NM8gi\n",
       "SLBDCV2GjcfiEnbBaqfGXArr6E/OCsQ/YZ8pjSZcY9b6ay0ZSKsziFUqAOY2dFTkjL1lOSnrRk1o\n",
       "3MoJ2h/Y/m8bbUDMZNICbEArgzsglWzMmK9SN6btNboZgQ3AA0+hdlC2fvaENiblJkS+OAaC8BPM\n",
       "eEzxKVlqMIU9dUXJqFS3TzgfLGPzCY/pevmuMBI3gXkspSV6xgzvexkhlIoMufBci0IZ+tSyWPrp\n",
       "dJrf77ZDLFm98vxJqGLtacaDKHpt21qkEmTg9l/3rQjAV0dFp5S09ca3CUzCzHQRbPrKpYYK3mb1\n",
       "5AABTQAAAB1BnlZFFSwn/wAIcLwmDtbJ8/TbCyhylnyyAADRgQAAAC0BnndqQn8AAZJ3yfxpIcVA\n",
       "rBUxOw96ABXa5wjETEs4RNcj61xXT/9+nPIAAj8AAAB2QZp5SahBbJlMCGf//p4QAB7/k/O/zQon\n",
       "OAjBxfwAcHmNTZWG7iFuJMMjWz8vTiWuf5cQoASyyvKinWHkfCwxiCOYKOpDI5LdXkNxg18SzI3l\n",
       "MVZtKWWFBvAqucv0c7933wP+KHtP7vYveWUEj80FRKTpoAAhYAAAAK5BmptJ4QpSZTBRUsM//p4Q\n",
       "AAEOYKA4ASxLCgC+VKdi6CWboCghjxs4Sf3/qaSzDyY3H9AHuQQAhjaTPqW5zR1VAQejDq84sG8H\n",
       "Jr9E88BmAfe1jsXC3xoQuhfi2B5pTsphk0CfVt3GcVHpmX5v/FUIlM9hcPR1NsXGOsR0UqpYS71r\n",
       "haL6L9QjXuhJvot10XnNCHB/8UC/uggoYlHyK1oaIFB5pS3GQS5gHFYAASMAAAAWAZ66akJ/AABJ\n",
       "J3sqxUVKagXdgACHgAAAAQFBmr9J4Q6JlMCE//3xAAAa9SnwA3XO1mmtXWhacEOxu9nzZb41Mw9B\n",
       "wpSkK+k03O8pw/ThTzd2c6/cQOpfrrWtq0R/60V+eDdLHbBLYE8A9gi2c/7Nkp0XGedvYB3/Uubp\n",
       "ZLWB59vhaR4rNXmuiVRihky20MTAbi6f+4c5SU5y2VXW2rco0PamWu4N7k2Dsub/YOF0e2Zyv39z\n",
       "zXMMakLGl/Z6GaeQ8xy5UcNiM9CtGF/2ssZZMFszRFt/944ct0syFfrrGKwSfyBJCBfRn42ZpLmj\n",
       "3K1o1TKLn3bTCCn9GkOLdKRSrB1Mg15PTzUHpN63j58rOHgPTvFm97H3l8x9wQAAADNBnt1FFTwr\n",
       "/wAAluu4u5/wLw4r57tSkeE6hGSAD/1Y0RXYlrIcIQgt92rnWuvr/CQz4YEAAAApAZ78dEJ/AAAg\n",
       "k0ypABdBPmnrSEZ+Hgifni7+Etf54/74RYQUiycAAu4AAAAsAZ7+akJ/AADEPOngBCPmyqaBLnZJ\n",
       "z9mMHVD+xhBjlIA5RRE0q67GKs8SbcAAAAX4bW9vdgAAAGxtdmhkAAAAAAAAAAAAAAAAAAAD6AAA\n",
       "B9AAAQAAAQAAAAAAAAAAAAAAAAEAAAAAAAAAAAAAAAAAAAABAAAAAAAAAAAAAAAAAABAAAAAAAAA\n",
       "AAAAAAAAAAAAAAAAAAAAAAAAAAAAAAAAAgAABSJ0cmFrAAAAXHRraGQAAAADAAAAAAAAAAAAAAAB\n",
       "AAAAAAAAB9AAAAAAAAAAAAAAAAAAAAAAAAEAAAAAAAAAAAAAAAAAAAABAAAAAAAAAAAAAAAAAABA\n",
       "AAAAAfQAAAH0AAAAAAAkZWR0cwAAABxlbHN0AAAAAAAAAAEAAAfQAAAEAAABAAAAAASabWRpYQAA\n",
       "ACBtZGhkAAAAAAAAAAAAAAAAAABAAAAAgABVxAAAAAAALWhkbHIAAAAAAAAAAHZpZGUAAAAAAAAA\n",
       "AAAAAABWaWRlb0hhbmRsZXIAAAAERW1pbmYAAAAUdm1oZAAAAAEAAAAAAAAAAAAAACRkaW5mAAAA\n",
       "HGRyZWYAAAAAAAAAAQAAAAx1cmwgAAAAAQAABAVzdGJsAAAAtXN0c2QAAAAAAAAAAQAAAKVhdmMx\n",
       "AAAAAAAAAAEAAAAAAAAAAAAAAAAAAAAAAfQB9ABIAAAASAAAAAAAAAABAAAAAAAAAAAAAAAAAAAA\n",
       "AAAAAAAAAAAAAAAAAAAAAAAAGP//AAAAM2F2Y0MBZAAe/+EAGmdkAB6s2UCAEHnnhAAAAwAEAAAD\n",
       "AQA8WLZYAQAGaOvjyyLAAAAAHHV1aWRraEDyXyRPxbo5pRvPAyPzAAAAAAAAABhzdHRzAAAAAAAA\n",
       "AAEAAABAAAACAAAAABRzdHNzAAAAAAAAAAEAAAABAAAB2GN0dHMAAAAAAAAAOQAAAAIAAAQAAAAA\n",
       "AQAACgAAAAABAAAEAAAAAAEAAAAAAAAAAQAAAgAAAAABAAAEAAAAAAEAAAYAAAAAAQAAAgAAAAAB\n",
       "AAAKAAAAAAEAAAQAAAAAAQAAAAAAAAABAAACAAAAAAEAAAQAAAAAAQAACgAAAAABAAAEAAAAAAEA\n",
       "AAAAAAAAAQAAAgAAAAABAAAEAAAAAAEAAAgAAAAAAgAAAgAAAAABAAAGAAAAAAEAAAIAAAAAAgAA\n",
       "BAAAAAABAAAGAAAAAAEAAAIAAAAAAQAACgAAAAABAAAEAAAAAAEAAAAAAAAAAQAAAgAAAAABAAAI\n",
       "AAAAAAIAAAIAAAAAAQAABgAAAAABAAACAAAAAAEAAAQAAAAAAQAACAAAAAACAAACAAAAAAEAAAgA\n",
       "AAAAAgAAAgAAAAABAAAGAAAAAAEAAAIAAAAAAQAACgAAAAABAAAEAAAAAAEAAAAAAAAAAQAAAgAA\n",
       "AAABAAAKAAAAAAEAAAQAAAAAAQAAAAAAAAABAAACAAAAAAEAAAgAAAAAAgAAAgAAAAABAAAEAAAA\n",
       "AAEAAAYAAAAAAQAAAgAAAAABAAAKAAAAAAEAAAQAAAAAAQAAAAAAAAABAAACAAAAABxzdHNjAAAA\n",
       "AAAAAAEAAAABAAAAQAAAAAEAAAEUc3RzegAAAAAAAAAAAAAAQAAABowAAADFAAABaQAAACQAAAAp\n",
       "AAAAKQAAAKcAAAGTAAAAGwAAAWYAAAA/AAAAGQAAAB4AAADOAAACfQAAACgAAAAiAAAALwAAAJcA\n",
       "AAEiAAAAIAAAADoAAAGIAAAAGwAAAK4AAAB8AAAA5wAAABwAAAQWAAAASwAAACQAAAAtAAABuAAA\n",
       "AFYAAAAXAAABCAAAACYAAACIAAABxQAAAC4AAAA0AAAA5wAAAEAAAAAaAAAAtgAAACkAAAIrAAAA\n",
       "NQAAAB8AAAA/AAABCQAAAEMAAAAiAAAAGwAAAVgAAAAhAAAAMQAAAHoAAACyAAAAGgAAAQUAAAA3\n",
       "AAAALQAAADAAAAAUc3RjbwAAAAAAAAABAAAALAAAAGJ1ZHRhAAAAWm1ldGEAAAAAAAAAIWhkbHIA\n",
       "AAAAAAAAAG1kaXJhcHBsAAAAAAAAAAAAAAAALWlsc3QAAAAlqXRvbwAAAB1kYXRhAAAAAQAAAABM\n",
       "YXZmNTcuNTguMTAx\n",
       "\">\n",
       "  Your browser does not support the video tag.\n",
       "</video>"
      ],
      "text/plain": [
       "<IPython.core.display.HTML object>"
      ]
     },
     "metadata": {},
     "output_type": "display_data"
    }
   ],
   "source": [
    "with Terrarium(animate=True) as t:\n",
    "    t1 = Turtle(t)\n",
    "    t1.left(90)\n",
    "\n",
    "    for step in iterated(funcbranch,6)([FB(100)]):\n",
    "        step(t1)"
   ]
  },
  {
   "cell_type": "code",
   "execution_count": null,
   "metadata": {
    "collapsed": true
   },
   "outputs": [],
   "source": []
  }
 ],
 "metadata": {
  "anaconda-cloud": {},
  "kernelspec": {
   "display_name": "Python [default]",
   "language": "python",
   "name": "python3"
  },
  "language_info": {
   "codemirror_mode": {
    "name": "ipython",
    "version": 3
   },
   "file_extension": ".py",
   "mimetype": "text/x-python",
   "name": "python",
   "nbconvert_exporter": "python",
   "pygments_lexer": "ipython3",
   "version": "3.5.2"
  }
 },
 "nbformat": 4,
 "nbformat_minor": 1
}
