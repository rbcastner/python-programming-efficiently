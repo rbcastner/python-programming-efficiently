{
 "cells": [
  {
   "cell_type": "markdown",
   "metadata": {
    "collapsed": true
   },
   "source": [
    "### Python module/package imports for this chapter"
   ]
  },
  {
   "cell_type": "code",
   "execution_count": 1,
   "metadata": {
    "collapsed": true
   },
   "outputs": [],
   "source": [
    "import math, json, collections, itertools"
   ]
  },
  {
   "cell_type": "code",
   "execution_count": 2,
   "metadata": {
    "collapsed": true
   },
   "outputs": [],
   "source": [
    "import numpy as np\n",
    "import matplotlib.pyplot as pp\n",
    "%matplotlib inline"
   ]
  },
  {
   "cell_type": "code",
   "execution_count": 3,
   "metadata": {
    "collapsed": true
   },
   "outputs": [],
   "source": [
    "from mpl_toolkits.basemap import Basemap\n",
    "import geopy"
   ]
  },
  {
   "cell_type": "markdown",
   "metadata": {},
   "source": [
    "## Beyond lists, dicts, and sets: more powerful collections"
   ]
  },
  {
   "cell_type": "code",
   "execution_count": 4,
   "metadata": {
    "collapsed": false
   },
   "outputs": [
    {
     "data": {
      "text/plain": [
       "['1896\\tThomas Burke\\tUSA\\t100m men\\n',\n",
       " '1896\\tThomas Curtis\\tUSA\\t110m hurdles men\\n',\n",
       " '1896\\tEdwin Flack\\tAUS\\t1500m men\\n',\n",
       " '1896\\tThomas Burke\\tUSA\\t400m men\\n',\n",
       " '1896\\tEdwin Flack\\tAUS\\t800m men\\n',\n",
       " '1896\\tRobert Garrett\\tUSA\\tdiscus throw men\\n',\n",
       " '1896\\tEllery Clark\\tUSA\\thigh jump men\\n',\n",
       " '1896\\tEllery Clark\\tUSA\\tlong jump men\\n',\n",
       " '1896\\tSpyridon Louis\\tGRE\\tmarathon men\\n',\n",
       " '1896\\tWilliam Welles Hoyt\\tUSA\\tpole vault men\\n']"
      ]
     },
     "execution_count": 4,
     "metadata": {},
     "output_type": "execute_result"
    }
   ],
   "source": [
    "open('goldmedals.txt','r').readlines()[:10]"
   ]
  },
  {
   "cell_type": "code",
   "execution_count": 5,
   "metadata": {
    "collapsed": true
   },
   "outputs": [],
   "source": [
    "medal = collections.namedtuple('medal',['year','athlete','team','event'])"
   ]
  },
  {
   "cell_type": "code",
   "execution_count": 6,
   "metadata": {
    "collapsed": true
   },
   "outputs": [],
   "source": [
    "m = medal('1896','Thomas Burke','USA','100m men')"
   ]
  },
  {
   "cell_type": "code",
   "execution_count": 7,
   "metadata": {
    "collapsed": false
   },
   "outputs": [
    {
     "data": {
      "text/plain": [
       "medal(year='1896', athlete='Thomas Burke', team='USA', event='100m men')"
      ]
     },
     "execution_count": 7,
     "metadata": {},
     "output_type": "execute_result"
    }
   ],
   "source": [
    "m"
   ]
  },
  {
   "cell_type": "code",
   "execution_count": 8,
   "metadata": {
    "collapsed": false
   },
   "outputs": [
    {
     "data": {
      "text/plain": [
       "('1896', 'Thomas Burke')"
      ]
     },
     "execution_count": 8,
     "metadata": {},
     "output_type": "execute_result"
    }
   ],
   "source": [
    "m.year, m.athlete"
   ]
  },
  {
   "cell_type": "code",
   "execution_count": 9,
   "metadata": {
    "collapsed": true
   },
   "outputs": [],
   "source": [
    "medals = [medal(*line.split('\\t')) for line in open('goldmedals.txt','r')]"
   ]
  },
  {
   "cell_type": "code",
   "execution_count": 10,
   "metadata": {
    "collapsed": false
   },
   "outputs": [
    {
     "data": {
      "text/plain": [
       "[medal(year='1896', athlete='Thomas Burke', team='USA', event='100m men\\n'),\n",
       " medal(year='1896', athlete='Thomas Curtis', team='USA', event='110m hurdles men\\n'),\n",
       " medal(year='1896', athlete='Edwin Flack', team='AUS', event='1500m men\\n'),\n",
       " medal(year='1896', athlete='Thomas Burke', team='USA', event='400m men\\n'),\n",
       " medal(year='1896', athlete='Edwin Flack', team='AUS', event='800m men\\n')]"
      ]
     },
     "execution_count": 10,
     "metadata": {},
     "output_type": "execute_result"
    }
   ],
   "source": [
    "medals[:5]"
   ]
  },
  {
   "cell_type": "code",
   "execution_count": 11,
   "metadata": {
    "collapsed": true
   },
   "outputs": [],
   "source": [
    "medals = [medal(*line.strip().split('\\t')) for line in open('goldmedals.txt','r')]"
   ]
  },
  {
   "cell_type": "code",
   "execution_count": 12,
   "metadata": {
    "collapsed": false
   },
   "outputs": [
    {
     "data": {
      "text/plain": [
       "[medal(year='1896', athlete='Thomas Burke', team='USA', event='100m men'),\n",
       " medal(year='1896', athlete='Thomas Curtis', team='USA', event='110m hurdles men'),\n",
       " medal(year='1896', athlete='Edwin Flack', team='AUS', event='1500m men'),\n",
       " medal(year='1896', athlete='Thomas Burke', team='USA', event='400m men'),\n",
       " medal(year='1896', athlete='Edwin Flack', team='AUS', event='800m men')]"
      ]
     },
     "execution_count": 12,
     "metadata": {},
     "output_type": "execute_result"
    }
   ],
   "source": [
    "medals[:5]"
   ]
  },
  {
   "cell_type": "code",
   "execution_count": 13,
   "metadata": {
    "collapsed": true
   },
   "outputs": [],
   "source": [
    "teams = collections.Counter(medal.team for medal in medals)"
   ]
  },
  {
   "cell_type": "code",
   "execution_count": 14,
   "metadata": {
    "collapsed": false
   },
   "outputs": [
    {
     "data": {
      "text/plain": [
       "Counter({'ALG': 4,\n",
       "         'ARG': 2,\n",
       "         'AUS': 23,\n",
       "         'AUT': 1,\n",
       "         'BAH': 12,\n",
       "         'BDI': 1,\n",
       "         'BEL': 4,\n",
       "         'BLR': 4,\n",
       "         'BRA': 5,\n",
       "         'BRN': 1,\n",
       "         'BUL': 5,\n",
       "         'CAN': 21,\n",
       "         'CHN': 8,\n",
       "         'CMR': 2,\n",
       "         'COL': 1,\n",
       "         'CRO': 3,\n",
       "         'CUB': 10,\n",
       "         'CZE': 5,\n",
       "         'DOM': 2,\n",
       "         'ECU': 1,\n",
       "         'ESP': 3,\n",
       "         'EST': 2,\n",
       "         'ETH': 22,\n",
       "         'EUA': 7,\n",
       "         'EUN': 12,\n",
       "         'FIN': 60,\n",
       "         'FRA': 14,\n",
       "         'FRG': 15,\n",
       "         'GBR': 71,\n",
       "         'GDR': 50,\n",
       "         'GER': 18,\n",
       "         'GRE': 7,\n",
       "         'GRN': 1,\n",
       "         'HUN': 10,\n",
       "         'IRL': 4,\n",
       "         'ITA': 19,\n",
       "         'JAM': 42,\n",
       "         'JPN': 7,\n",
       "         'KAZ': 2,\n",
       "         'KEN': 33,\n",
       "         'KOR': 1,\n",
       "         'LTU': 3,\n",
       "         'LUX': 1,\n",
       "         'MAR': 6,\n",
       "         'MEX': 3,\n",
       "         'MOZ': 1,\n",
       "         'NED': 9,\n",
       "         'NGR': 1,\n",
       "         'NOR': 7,\n",
       "         'NZL': 10,\n",
       "         'PAN': 1,\n",
       "         'POL': 27,\n",
       "         'POR': 4,\n",
       "         'ROU': 11,\n",
       "         'RSA': 8,\n",
       "         'RUS': 29,\n",
       "         'SLO': 1,\n",
       "         'SUI': 1,\n",
       "         'SVK': 1,\n",
       "         'SWE': 21,\n",
       "         'SYR': 1,\n",
       "         'TCH': 11,\n",
       "         'TJK': 1,\n",
       "         'TRI': 2,\n",
       "         'TUN': 1,\n",
       "         'TUR': 1,\n",
       "         'UGA': 2,\n",
       "         'UKR': 3,\n",
       "         'URS': 79,\n",
       "         'USA': 521,\n",
       "         'ZZX': 5})"
      ]
     },
     "execution_count": 14,
     "metadata": {},
     "output_type": "execute_result"
    }
   ],
   "source": [
    "teams"
   ]
  },
  {
   "cell_type": "code",
   "execution_count": 15,
   "metadata": {
    "collapsed": false
   },
   "outputs": [
    {
     "data": {
      "text/plain": [
       "[('USA', 521), ('URS', 79), ('GBR', 71), ('FIN', 60), ('GDR', 50)]"
      ]
     },
     "execution_count": 15,
     "metadata": {},
     "output_type": "execute_result"
    }
   ],
   "source": [
    "teams.most_common(5)"
   ]
  },
  {
   "cell_type": "code",
   "execution_count": 16,
   "metadata": {
    "collapsed": true
   },
   "outputs": [],
   "source": [
    "def best_by_year(year):\n",
    "    counts = collections.Counter(medal.team for medal in medals if medal.year == str(year))\n",
    "    best = counts.most_common(5)\n",
    "    \n",
    "    return [b[0] for b in best], [b[1] for b in best]"
   ]
  },
  {
   "cell_type": "code",
   "execution_count": 17,
   "metadata": {
    "collapsed": false
   },
   "outputs": [
    {
     "data": {
      "text/plain": [
       "(['USA', 'ZZX', 'GBR', 'FRA', 'CAN'], [16, 5, 3, 1, 1])"
      ]
     },
     "execution_count": 17,
     "metadata": {},
     "output_type": "execute_result"
    }
   ],
   "source": [
    "best_by_year(1900)"
   ]
  },
  {
   "cell_type": "code",
   "execution_count": 19,
   "metadata": {
    "collapsed": false
   },
   "outputs": [
    {
     "data": {
      "text/plain": [
       "([<matplotlib.axis.XTick at 0x10fea4940>,\n",
       "  <matplotlib.axis.XTick at 0x10da5d438>,\n",
       "  <matplotlib.axis.XTick at 0x10da7ec88>,\n",
       "  <matplotlib.axis.XTick at 0x10fef4e48>,\n",
       "  <matplotlib.axis.XTick at 0x10fefa898>],\n",
       " <a list of 5 Text xticklabel objects>)"
      ]
     },
     "execution_count": 19,
     "metadata": {},
     "output_type": "execute_result"
    },
    {
     "data": {
      "image/png": "[encoded data removed]",
      "text/plain": [
       "<matplotlib.figure.Figure at 0x10dab24a8>"
      ]
     },
     "metadata": {},
     "output_type": "display_data"
    }
   ],
   "source": [
    "countries, tally = best_by_year(1900)\n",
    "\n",
    "pp.figure(figsize=(6,3))\n",
    "\n",
    "bars = pp.bar(np.arange(5),tally,align='center')\n",
    "pp.xticks(np.arange(5),countries)"
   ]
  },
  {
   "cell_type": "code",
   "execution_count": 20,
   "metadata": {
    "collapsed": true
   },
   "outputs": [],
   "source": [
    "pp.style.use('ggplot')\n",
    "\n",
    "colors = pp.cm.Set3(np.linspace(0,1,5))\n",
    "\n",
    "def plotyear(year):\n",
    "    countries, tally = best_by_year(year)\n",
    "\n",
    "    bars = pp.bar(np.arange(5),tally,align='center')\n",
    "    pp.xticks(np.arange(5),countries)\n",
    "    \n",
    "    for bar, color in zip(bars,colors):\n",
    "        bar.set_color(color)\n",
    "    \n",
    "    pp.title(year)"
   ]
  },
  {
   "cell_type": "code",
   "execution_count": 21,
   "metadata": {
    "collapsed": false
   },
   "outputs": [
    {
     "data": {
      "image/png": "[encoded data removed]",
      "text/plain": [
       "<matplotlib.figure.Figure at 0x10ff1b978>"
      ]
     },
     "metadata": {},
     "output_type": "display_data"
    }
   ],
   "source": [
    "pp.figure(figsize=(4,6))\n",
    "\n",
    "pp.subplot(3,1,1); plotyear(2008)\n",
    "pp.subplot(3,1,2); plotyear(2012)\n",
    "pp.subplot(3,1,3); plotyear(2016)\n",
    "\n",
    "pp.tight_layout()"
   ]
  },
  {
   "cell_type": "code",
   "execution_count": 22,
   "metadata": {
    "collapsed": true
   },
   "outputs": [],
   "source": [
    "winners_by_country = {}\n",
    "\n",
    "for medal in medals:\n",
    "    if medal.team not in winners_by_country:\n",
    "        winners_by_country[medal.team] = [medal.athlete]\n",
    "    else:\n",
    "        winners_by_country[medal.team].append(medal.athlete)"
   ]
  },
  {
   "cell_type": "code",
   "execution_count": 23,
   "metadata": {
    "collapsed": false
   },
   "outputs": [
    {
     "data": {
      "text/plain": [
       "['Ugo Frigerio',\n",
       " 'Ugo Frigerio',\n",
       " 'Ugo Frigerio',\n",
       " 'Luigi Beccali',\n",
       " 'Trebisonda Valla',\n",
       " 'Adolfo Consolini',\n",
       " 'Giuseppe Dordoni',\n",
       " 'Livio Berruti',\n",
       " 'Abdon Pamich',\n",
       " 'Pietro Mennea',\n",
       " 'Maurizio Damilano',\n",
       " 'Sara Simeoni',\n",
       " 'Alberto Cova',\n",
       " 'Gabriella Dorio',\n",
       " 'Alessandro Andrei',\n",
       " 'Gelindo Bordin',\n",
       " 'Ivano Brugnetti',\n",
       " 'Stefano Baldini',\n",
       " 'Alex Schwazer']"
      ]
     },
     "execution_count": 23,
     "metadata": {},
     "output_type": "execute_result"
    }
   ],
   "source": [
    "winners_by_country['ITA']"
   ]
  },
  {
   "cell_type": "code",
   "execution_count": 24,
   "metadata": {
    "collapsed": true
   },
   "outputs": [],
   "source": [
    "winners_by_country = collections.defaultdict(list)\n",
    "\n",
    "for medal in medals:\n",
    "    winners_by_country[medal.team].append(medal.athlete)"
   ]
  },
  {
   "cell_type": "code",
   "execution_count": 25,
   "metadata": {
    "collapsed": false
   },
   "outputs": [
    {
     "data": {
      "text/plain": [
       "['Michel Theato',\n",
       " 'Joseph Guillemot',\n",
       " 'Boughera Mohamed El Ouafi',\n",
       " 'Micheline Ostermeyer',\n",
       " 'Micheline Ostermeyer',\n",
       " 'Alain Mimoun',\n",
       " 'Colette Besson',\n",
       " 'Guy Drut',\n",
       " 'Pierre Quinon',\n",
       " 'Marie-Jose Perec',\n",
       " 'Marie-Jose Perec',\n",
       " 'Marie-Jose Perec',\n",
       " 'Jean Galfione',\n",
       " 'Renaud Lavillenie']"
      ]
     },
     "execution_count": 25,
     "metadata": {},
     "output_type": "execute_result"
    }
   ],
   "source": [
    "winners_by_country['FRA']"
   ]
  },
  {
   "cell_type": "code",
   "execution_count": 26,
   "metadata": {
    "collapsed": true
   },
   "outputs": [],
   "source": [
    "ordered_winners = collections.OrderedDict()\n",
    "\n",
    "for medal in medals:\n",
    "    if medal.team == 'ITA':\n",
    "        ordered_winners[medal.athlete] = medal.event + ' ' + medal.year"
   ]
  },
  {
   "cell_type": "code",
   "execution_count": 27,
   "metadata": {
    "collapsed": false
   },
   "outputs": [
    {
     "data": {
      "text/plain": [
       "OrderedDict([('Ugo Frigerio', '10000m walk men 1924'),\n",
       "             ('Luigi Beccali', '1500m men 1932'),\n",
       "             ('Trebisonda Valla', '80m hurdles women 1936'),\n",
       "             ('Adolfo Consolini', 'discus throw men 1948'),\n",
       "             ('Giuseppe Dordoni', '50km walk men 1952'),\n",
       "             ('Livio Berruti', '200m men 1960'),\n",
       "             ('Abdon Pamich', '50km walk men 1964'),\n",
       "             ('Pietro Mennea', '200m men 1980'),\n",
       "             ('Maurizio Damilano', '20km walk men 1980'),\n",
       "             ('Sara Simeoni', 'high jump women 1980'),\n",
       "             ('Alberto Cova', '10000m men 1984'),\n",
       "             ('Gabriella Dorio', '1500m women 1984'),\n",
       "             ('Alessandro Andrei', 'shot put men 1984'),\n",
       "             ('Gelindo Bordin', 'marathon men 1988'),\n",
       "             ('Ivano Brugnetti', '20km walk men 2004'),\n",
       "             ('Stefano Baldini', 'marathon men 2004'),\n",
       "             ('Alex Schwazer', '50km walk men 2008')])"
      ]
     },
     "execution_count": 27,
     "metadata": {},
     "output_type": "execute_result"
    }
   ],
   "source": [
    "ordered_winners"
   ]
  },
  {
   "cell_type": "code",
   "execution_count": 28,
   "metadata": {
    "collapsed": false
   },
   "outputs": [
    {
     "data": {
      "text/plain": [
       "{'Abdon Pamich': '50km walk men 1964',\n",
       " 'Adolfo Consolini': 'discus throw men 1948',\n",
       " 'Alberto Cova': '10000m men 1984',\n",
       " 'Alessandro Andrei': 'shot put men 1984',\n",
       " 'Alex Schwazer': '50km walk men 2008',\n",
       " 'Gabriella Dorio': '1500m women 1984',\n",
       " 'Gelindo Bordin': 'marathon men 1988',\n",
       " 'Giuseppe Dordoni': '50km walk men 1952',\n",
       " 'Ivano Brugnetti': '20km walk men 2004',\n",
       " 'Livio Berruti': '200m men 1960',\n",
       " 'Luigi Beccali': '1500m men 1932',\n",
       " 'Maurizio Damilano': '20km walk men 1980',\n",
       " 'Pietro Mennea': '200m men 1980',\n",
       " 'Sara Simeoni': 'high jump women 1980',\n",
       " 'Stefano Baldini': 'marathon men 2004',\n",
       " 'Trebisonda Valla': '80m hurdles women 1936',\n",
       " 'Ugo Frigerio': '10000m walk men 1924'}"
      ]
     },
     "execution_count": 28,
     "metadata": {},
     "output_type": "execute_result"
    }
   ],
   "source": [
    "{medal.athlete: medal.event + ' ' + medal.year for medal in medals if medal.team == 'ITA'}"
   ]
  },
  {
   "cell_type": "code",
   "execution_count": 29,
   "metadata": {
    "collapsed": true
   },
   "outputs": [],
   "source": [
    "dq = collections.deque(range(10))"
   ]
  },
  {
   "cell_type": "code",
   "execution_count": 30,
   "metadata": {
    "collapsed": false
   },
   "outputs": [
    {
     "data": {
      "text/plain": [
       "deque([0, 1, 2, 3, 4, 5, 6, 7, 8, 9])"
      ]
     },
     "execution_count": 30,
     "metadata": {},
     "output_type": "execute_result"
    }
   ],
   "source": [
    "dq"
   ]
  },
  {
   "cell_type": "code",
   "execution_count": 31,
   "metadata": {
    "collapsed": false
   },
   "outputs": [
    {
     "name": "stdout",
     "output_type": "stream",
     "text": [
      "deque([1, 2, 3, 4, 5, 6, 7, 8, 9, 10])\n",
      "deque([2, 3, 4, 5, 6, 7, 8, 9, 10, 11])\n",
      "deque([3, 4, 5, 6, 7, 8, 9, 10, 11, 12])\n",
      "deque([4, 5, 6, 7, 8, 9, 10, 11, 12, 13])\n",
      "deque([5, 6, 7, 8, 9, 10, 11, 12, 13, 14])\n"
     ]
    }
   ],
   "source": [
    "for i in range(10,15):\n",
    "    dq.append(i)\n",
    "    v = dq.popleft()\n",
    "    print(dq)"
   ]
  },
  {
   "cell_type": "code",
   "execution_count": 32,
   "metadata": {
    "collapsed": false
   },
   "outputs": [
    {
     "name": "stdout",
     "output_type": "stream",
     "text": [
      "deque([4, 5, 6, 7, 8, 9, 10, 11, 12, 13])\n",
      "deque([3, 4, 5, 6, 7, 8, 9, 10, 11, 12])\n",
      "deque([2, 3, 4, 5, 6, 7, 8, 9, 10, 11])\n",
      "deque([1, 2, 3, 4, 5, 6, 7, 8, 9, 10])\n",
      "deque([0, 1, 2, 3, 4, 5, 6, 7, 8, 9])\n"
     ]
    }
   ],
   "source": [
    "for i in reversed(range(0,5)):\n",
    "    dq.appendleft(i)\n",
    "    v = dq.pop()\n",
    "    print(dq)"
   ]
  },
  {
   "cell_type": "code",
   "execution_count": null,
   "metadata": {
    "collapsed": true
   },
   "outputs": [],
   "source": []
  }
 ],
 "metadata": {
  "anaconda-cloud": {},
  "kernelspec": {
   "display_name": "Python [default]",
   "language": "python",
   "name": "python3"
  },
  "language_info": {
   "codemirror_mode": {
    "name": "ipython",
    "version": 3
   },
   "file_extension": ".py",
   "mimetype": "text/x-python",
   "name": "python",
   "nbconvert_exporter": "python",
   "pygments_lexer": "ipython3",
   "version": "3.5.2"
  }
 },
 "nbformat": 4,
 "nbformat_minor": 1
}
