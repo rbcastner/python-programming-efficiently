{
 "cells": [
  {
   "cell_type": "markdown",
   "metadata": {
    "collapsed": true
   },
   "source": [
    "### Python module/package imports for this chapter"
   ]
  },
  {
   "cell_type": "code",
   "execution_count": 1,
   "metadata": {
    "collapsed": true
   },
   "outputs": [],
   "source": [
    "import math, json, collections, itertools"
   ]
  },
  {
   "cell_type": "code",
   "execution_count": 2,
   "metadata": {
    "collapsed": true
   },
   "outputs": [],
   "source": [
    "import numpy as np\n",
    "import matplotlib.pyplot as pp\n",
    "%matplotlib inline"
   ]
  },
  {
   "cell_type": "code",
   "execution_count": 3,
   "metadata": {
    "collapsed": true
   },
   "outputs": [],
   "source": [
    "from mpl_toolkits.basemap import Basemap\n",
    "import geopy"
   ]
  },
  {
   "cell_type": "markdown",
   "metadata": {},
   "source": [
    "### Code and data needed from previous videos"
   ]
  },
  {
   "cell_type": "code",
   "execution_count": 4,
   "metadata": {
    "collapsed": false
   },
   "outputs": [],
   "source": [
    "medal = collections.namedtuple('medal',['year','athlete','team','event'])\n",
    "medals = [medal(*line.strip().split('\\t')) for line in open('goldmedals.txt','r')]"
   ]
  },
  {
   "cell_type": "markdown",
   "metadata": {},
   "source": [
    "## Refactoring code to make it Pythonic"
   ]
  },
  {
   "cell_type": "code",
   "execution_count": 5,
   "metadata": {
    "collapsed": false
   },
   "outputs": [
    {
     "name": "stdout",
     "output_type": "stream",
     "text": [
      "The Zen of Python, by Tim Peters\n",
      "\n",
      "Beautiful is better than ugly.\n",
      "Explicit is better than implicit.\n",
      "Simple is better than complex.\n",
      "Complex is better than complicated.\n",
      "Flat is better than nested.\n",
      "Sparse is better than dense.\n",
      "Readability counts.\n",
      "Special cases aren't special enough to break the rules.\n",
      "Although practicality beats purity.\n",
      "Errors should never pass silently.\n",
      "Unless explicitly silenced.\n",
      "In the face of ambiguity, refuse the temptation to guess.\n",
      "There should be one-- and preferably only one --obvious way to do it.\n",
      "Although that way may not be obvious at first unless you're Dutch.\n",
      "Now is better than never.\n",
      "Although never is often better than *right* now.\n",
      "If the implementation is hard to explain, it's a bad idea.\n",
      "If the implementation is easy to explain, it may be a good idea.\n",
      "Namespaces are one honking great idea -- let's do more of those!\n"
     ]
    }
   ],
   "source": [
    "import this"
   ]
  },
  {
   "cell_type": "code",
   "execution_count": 6,
   "metadata": {
    "collapsed": true
   },
   "outputs": [],
   "source": [
    "athletes = []\n",
    "\n",
    "for medal in medals:\n",
    "    if medal.athlete not in athletes:\n",
    "        athletes.append(medal.athlete)\n",
    "\n",
    "athletes.sort()"
   ]
  },
  {
   "cell_type": "code",
   "execution_count": 7,
   "metadata": {
    "collapsed": false
   },
   "outputs": [
    {
     "data": {
      "text/plain": [
       "['Abdon Pamich',\n",
       " 'Abebe Bikila',\n",
       " 'Abel Kiviat',\n",
       " 'Adhemar Ferreira Da Silva',\n",
       " 'Adolfo Consolini',\n",
       " 'Aksana Miankova',\n",
       " 'Alain Mimoun',\n",
       " 'Alan Helffrich',\n",
       " 'Albert Hill',\n",
       " 'Albert Lovejoy Gutterson']"
      ]
     },
     "execution_count": 7,
     "metadata": {},
     "output_type": "execute_result"
    }
   ],
   "source": [
    "athletes[:10]"
   ]
  },
  {
   "cell_type": "code",
   "execution_count": 8,
   "metadata": {
    "collapsed": true
   },
   "outputs": [],
   "source": [
    "athletes = sorted({medal.athlete for medal in medals})"
   ]
  },
  {
   "cell_type": "code",
   "execution_count": 9,
   "metadata": {
    "collapsed": false
   },
   "outputs": [
    {
     "data": {
      "text/plain": [
       "['Abdon Pamich',\n",
       " 'Abebe Bikila',\n",
       " 'Abel Kiviat',\n",
       " 'Adhemar Ferreira Da Silva',\n",
       " 'Adolfo Consolini',\n",
       " 'Aksana Miankova',\n",
       " 'Alain Mimoun',\n",
       " 'Alan Helffrich',\n",
       " 'Albert Hill',\n",
       " 'Albert Lovejoy Gutterson']"
      ]
     },
     "execution_count": 9,
     "metadata": {},
     "output_type": "execute_result"
    }
   ],
   "source": [
    "athletes[:10]"
   ]
  },
  {
   "cell_type": "code",
   "execution_count": 10,
   "metadata": {
    "collapsed": true
   },
   "outputs": [],
   "source": [
    "winners_100m = {medal.athlete for medal in medals if '100m' in medal.event}\n",
    "winners_200m = {medal.athlete for medal in medals if '200m' in medal.event}"
   ]
  },
  {
   "cell_type": "code",
   "execution_count": 11,
   "metadata": {
    "collapsed": false
   },
   "outputs": [
    {
     "data": {
      "text/plain": [
       "{'Aleen Bailey',\n",
       " 'Aleksandr Aksinin',\n",
       " 'Aleksandra Fedoriva',\n",
       " 'Alice Regina Brown',\n",
       " 'Allan Wells',\n",
       " 'Allyson Felix',\n",
       " 'Andrei Prokofiev',\n",
       " 'Andrew William Stanfield',\n",
       " 'Annegret Richter-Irrgang',\n",
       " 'Annelie Ehrhardt',\n",
       " 'Annette Joan Rogers',\n",
       " 'Archie Hahn',\n",
       " 'Ariana Washington',\n",
       " 'Armin Hary',\n",
       " 'Asafa Powell',\n",
       " 'Barbara Ann Ferrell',\n",
       " 'Barbara Pearl Jones',\n",
       " 'Benita Fitzgerald-Brown',\n",
       " 'Bernard Williams iii',\n",
       " 'Bernd Cullmann',\n",
       " 'Betty Cuthbert',\n",
       " 'Beverly Mcdonald',\n",
       " 'Bianca Knight',\n",
       " 'Brian Lewis',\n",
       " 'Brianna Rollins',\n",
       " 'Bruny Surin',\n",
       " 'Bärbel Eckert-Wöckel',\n",
       " 'Calvin Smith',\n",
       " 'Carl Lewis',\n",
       " 'Carla Bodendorf',\n",
       " 'Carlette D. Guidry-White',\n",
       " 'Carlton Chambers',\n",
       " 'Carmelita Jeter',\n",
       " 'Catherine Hardy',\n",
       " 'Chandra Danette Cheeseborough',\n",
       " 'Chandra Sturrup',\n",
       " 'Charles Edward Borah',\n",
       " 'Charles Edward Greene',\n",
       " 'Charles Paddock',\n",
       " 'Christiane Krause',\n",
       " 'Chryste Gaines',\n",
       " 'Darren Campbell',\n",
       " 'David Henry Jacobs',\n",
       " 'Dawn Harper',\n",
       " 'Debbie Ferguson-Mckenzie',\n",
       " 'Dennis Mitchell',\n",
       " 'Donovan Bailey',\n",
       " 'Eddie Tolan',\n",
       " 'Edward James Hart',\n",
       " 'Elaine Thompson',\n",
       " 'Eldice Lewis',\n",
       " 'Elizabeth Robinson',\n",
       " 'English Gardner',\n",
       " 'Esther Jones',\n",
       " 'Ethel M. Smith',\n",
       " 'Evelyn Ashford',\n",
       " 'Evelyn Furtsch',\n",
       " 'Evgeniya Polyakova',\n",
       " 'Ewa Klobukowska',\n",
       " 'Fanny Blankers-Koen',\n",
       " 'Fanny Rosenfeld',\n",
       " 'Finis Dean Smith',\n",
       " 'Florence Griffith-Joyner',\n",
       " 'Fluer Northey Mellor-Wenham',\n",
       " 'Foy Draper',\n",
       " 'Francis Hussey',\n",
       " 'Francis Jarvis',\n",
       " 'Frank Clifford Wykoff',\n",
       " 'Gail Devers',\n",
       " 'Gerald A. Tinker',\n",
       " 'Gerald Howard Ashworth',\n",
       " 'Gerda Johanna Marie Van der kade-Koudijs',\n",
       " 'Glenroy Gilbert',\n",
       " 'Gwen Torrence',\n",
       " 'Halina Herrmann-Gorecka-Richter',\n",
       " 'Harold Abrahams',\n",
       " 'Harold Norwood Ewell',\n",
       " 'Harriett Claiborne Bland',\n",
       " 'Harrison Dillard',\n",
       " 'Harvey Edward Glance',\n",
       " 'Hasely Crawford',\n",
       " 'Hector Monroe Dyer',\n",
       " 'Heidemarie Rosendahl',\n",
       " 'Helen Herring Stephens',\n",
       " 'Henry Argue Russell',\n",
       " 'Henry Maitland Mackintosh',\n",
       " 'Inger Miller',\n",
       " 'Ingrid Auerswald-Lange',\n",
       " 'Ingrid Becker-Mickler',\n",
       " 'Ira James Murchison',\n",
       " 'Irena Szewinska',\n",
       " 'Jackson Scholz',\n",
       " 'James F. Quinn',\n",
       " 'James Jett',\n",
       " 'James Ray Hines',\n",
       " 'Janet Theresa Moreau',\n",
       " 'Jason Gardener',\n",
       " 'Jean Thompson',\n",
       " 'Jeanette Bolden',\n",
       " 'Jeannette Josephina Maria Witziers-Timmer',\n",
       " 'Jeneba Tarmoh',\n",
       " 'Jenna Prandini',\n",
       " 'Jeremiah Alfred Leconey',\n",
       " 'Jesse Owens',\n",
       " 'Jevaughn Minzie',\n",
       " 'Joanna Hayes',\n",
       " 'Johanna Schaller-Klier',\n",
       " 'John Wesley Jones',\n",
       " 'Jon Drummond',\n",
       " 'Justin Gatlin',\n",
       " 'Kemar Bailey-Cole',\n",
       " 'Kenneth Brokenburr',\n",
       " 'Lauryn Williams',\n",
       " 'Lawrence J. Black',\n",
       " 'Leamon King',\n",
       " 'Leroy Burrell',\n",
       " 'Lindy Remigino',\n",
       " 'Linford Christie',\n",
       " 'Liudmila Kondratieva',\n",
       " 'Loren Murchison',\n",
       " 'Lorenzo Christopher Wright',\n",
       " 'Louis Alfred Clarke',\n",
       " 'Lucinda Williams',\n",
       " 'Ludmila Engquist',\n",
       " 'Mae Heriwentha Faggs',\n",
       " 'Margaret Johnson Bailes',\n",
       " 'Marjorie Jackson',\n",
       " 'Mark Lewis-Francis',\n",
       " 'Marlies Oelsner-Göhr',\n",
       " 'Marlon Devonish',\n",
       " 'Martha B. Hudson',\n",
       " 'Martin Emmett Toppino',\n",
       " 'Martin Lauer',\n",
       " 'Mary Louise Carew',\n",
       " 'Maurice Greene',\n",
       " 'Melvin Emery Patton',\n",
       " 'Melvin Jr. Pender',\n",
       " 'Michael Frater',\n",
       " 'Michael Marsh',\n",
       " 'Michelle Finn',\n",
       " 'Mildrette Netter',\n",
       " 'Millard Frank Jr. Hampton',\n",
       " 'Morolake Akinosun',\n",
       " 'Morris Kirksey',\n",
       " 'Myrtle Alice Cook',\n",
       " 'Nesta Carter',\n",
       " 'Nickel Ashmeade',\n",
       " 'Nikolai Sidorov',\n",
       " 'Norma Wilson Crooker-Fleming',\n",
       " 'Olga Shishigina',\n",
       " 'Otis Paul Drayton',\n",
       " 'Paraskevi Voula Patoulidou',\n",
       " 'Pauline Elaine Davis',\n",
       " 'Percy Williams',\n",
       " 'Ralph Craig',\n",
       " 'Ralph Metcalfe',\n",
       " 'Reginald Walker',\n",
       " 'Renate Stecher',\n",
       " 'Richard Vaughn Stebbins',\n",
       " 'Robert Allan Kiesel',\n",
       " 'Robert Esmie',\n",
       " 'Robert Hayes',\n",
       " 'Robert Joseph Morrow',\n",
       " 'Robert Taylor',\n",
       " 'Romy Müller',\n",
       " 'Ronald James Brown',\n",
       " 'Ronald Ray Smith',\n",
       " 'Sally Pearson',\n",
       " 'Samuel Louis Graddy',\n",
       " 'Sevatheda Fynes',\n",
       " 'Sheila Echols',\n",
       " 'Shelly-Ann Fraser',\n",
       " 'Shelly-Ann Fraser-Pryce',\n",
       " 'Sherone Simpson',\n",
       " 'Shirley Strickland-De La Hunty',\n",
       " 'Stanislawa Walasiewicz',\n",
       " 'Steven Earl Riddick',\n",
       " 'Tanya Lawrence',\n",
       " 'Teresa Barbara Wieczorek-Cieply',\n",
       " 'Thomas Burke',\n",
       " 'Tianna Bartoletta',\n",
       " 'Tianna Madison',\n",
       " 'Tim Montgomery',\n",
       " 'Tori Bowie',\n",
       " 'Usain Bolt',\n",
       " 'Valery Borzov',\n",
       " 'Vera Komisova',\n",
       " 'Veronica Campbell-Brown',\n",
       " \"Victor Henry Augustus D'arcy\",\n",
       " 'Viktor Bryzgin',\n",
       " 'Vitaly Savin',\n",
       " 'Vladimir Krylov',\n",
       " 'Vladimir Muravyov',\n",
       " 'Walter Mahlendorf',\n",
       " 'Walter Thane Baker',\n",
       " 'Wilhelmina Von bremen',\n",
       " 'William Applegarth',\n",
       " 'Wilma Rudolph',\n",
       " 'Wyomia Tyus',\n",
       " 'Xenia Stad-De jong',\n",
       " 'Yohan Blake',\n",
       " 'Yordanka Donkova',\n",
       " 'Yulia Gushchina',\n",
       " 'Yuliya Chermoshanskaya',\n",
       " 'Yuliya Nesterenko'}"
      ]
     },
     "execution_count": 11,
     "metadata": {},
     "output_type": "execute_result"
    }
   ],
   "source": [
    "winners_100m"
   ]
  },
  {
   "cell_type": "code",
   "execution_count": 12,
   "metadata": {
    "collapsed": true
   },
   "outputs": [],
   "source": [
    "winners_both = {athlete for athlete in winners_100m if athlete in winners_200m}"
   ]
  },
  {
   "cell_type": "code",
   "execution_count": 13,
   "metadata": {
    "collapsed": false
   },
   "outputs": [
    {
     "data": {
      "text/plain": [
       "{'Allyson Felix',\n",
       " 'Andrew William Stanfield',\n",
       " 'Archie Hahn',\n",
       " 'Betty Cuthbert',\n",
       " 'Bärbel Eckert-Wöckel',\n",
       " 'Carl Lewis',\n",
       " 'Eddie Tolan',\n",
       " 'Elaine Thompson',\n",
       " 'Fanny Blankers-Koen',\n",
       " 'Florence Griffith-Joyner',\n",
       " 'Gwen Torrence',\n",
       " 'Irena Szewinska',\n",
       " 'Jackson Scholz',\n",
       " 'Jesse Owens',\n",
       " 'Marjorie Jackson',\n",
       " 'Melvin Emery Patton',\n",
       " 'Michael Marsh',\n",
       " 'Pauline Elaine Davis',\n",
       " 'Percy Williams',\n",
       " 'Ralph Craig',\n",
       " 'Renate Stecher',\n",
       " 'Robert Joseph Morrow',\n",
       " 'Usain Bolt',\n",
       " 'Valery Borzov',\n",
       " 'Veronica Campbell-Brown',\n",
       " 'Wilma Rudolph'}"
      ]
     },
     "execution_count": 13,
     "metadata": {},
     "output_type": "execute_result"
    }
   ],
   "source": [
    "winners_both"
   ]
  },
  {
   "cell_type": "code",
   "execution_count": 14,
   "metadata": {
    "collapsed": false
   },
   "outputs": [
    {
     "data": {
      "text/plain": [
       "{'Allyson Felix',\n",
       " 'Andrew William Stanfield',\n",
       " 'Archie Hahn',\n",
       " 'Betty Cuthbert',\n",
       " 'Bärbel Eckert-Wöckel',\n",
       " 'Carl Lewis',\n",
       " 'Eddie Tolan',\n",
       " 'Elaine Thompson',\n",
       " 'Fanny Blankers-Koen',\n",
       " 'Florence Griffith-Joyner',\n",
       " 'Gwen Torrence',\n",
       " 'Irena Szewinska',\n",
       " 'Jackson Scholz',\n",
       " 'Jesse Owens',\n",
       " 'Marjorie Jackson',\n",
       " 'Melvin Emery Patton',\n",
       " 'Michael Marsh',\n",
       " 'Pauline Elaine Davis',\n",
       " 'Percy Williams',\n",
       " 'Ralph Craig',\n",
       " 'Renate Stecher',\n",
       " 'Robert Joseph Morrow',\n",
       " 'Usain Bolt',\n",
       " 'Valery Borzov',\n",
       " 'Veronica Campbell-Brown',\n",
       " 'Wilma Rudolph'}"
      ]
     },
     "execution_count": 14,
     "metadata": {},
     "output_type": "execute_result"
    }
   ],
   "source": [
    "winners_100m & winners_200m"
   ]
  },
  {
   "cell_type": "code",
   "execution_count": 15,
   "metadata": {
    "collapsed": false
   },
   "outputs": [
    {
     "data": {
      "text/plain": [
       "{'Aleen Bailey',\n",
       " 'Aleksandr Aksinin',\n",
       " 'Aleksandra Fedoriva',\n",
       " 'Alice Regina Brown',\n",
       " 'Allan Wells',\n",
       " 'Allen Woodring',\n",
       " 'Allyson Felix',\n",
       " 'Alvin Kraenzlein',\n",
       " 'Andrei Prokofiev',\n",
       " 'Andrew William Stanfield',\n",
       " 'Annegret Richter-Irrgang',\n",
       " 'Annelie Ehrhardt',\n",
       " 'Annette Joan Rogers',\n",
       " 'Archie Hahn',\n",
       " 'Ariana Washington',\n",
       " 'Armin Hary',\n",
       " 'Arthur Russell',\n",
       " 'Asafa Powell',\n",
       " 'Barbara Ann Ferrell',\n",
       " 'Barbara Pearl Jones',\n",
       " 'Benita Fitzgerald-Brown',\n",
       " 'Bernard Williams iii',\n",
       " 'Bernd Cullmann',\n",
       " 'Betty Cuthbert',\n",
       " 'Beverly Mcdonald',\n",
       " 'Bianca Knight',\n",
       " 'Brian Lewis',\n",
       " 'Brianna Rollins',\n",
       " 'Bruny Surin',\n",
       " 'Bärbel Eckert-Wöckel',\n",
       " 'Calvin Smith',\n",
       " 'Carl Lewis',\n",
       " 'Carla Bodendorf',\n",
       " 'Carlette D. Guidry-White',\n",
       " 'Carlton Chambers',\n",
       " 'Carmelita Jeter',\n",
       " 'Catherine Hardy',\n",
       " 'Chandra Danette Cheeseborough',\n",
       " 'Chandra Sturrup',\n",
       " 'Charles Edward Borah',\n",
       " 'Charles Edward Greene',\n",
       " 'Charles Paddock',\n",
       " 'Christiane Krause',\n",
       " 'Chryste Gaines',\n",
       " 'Darren Campbell',\n",
       " 'David Henry Jacobs',\n",
       " 'Dawn Harper',\n",
       " 'Debbie Ferguson-Mckenzie',\n",
       " 'Dennis Mitchell',\n",
       " 'Donald Quarrie',\n",
       " 'Donovan Bailey',\n",
       " 'Eddie Tolan',\n",
       " 'Edith Marie Mcguire',\n",
       " 'Edward James Hart',\n",
       " 'Elaine Thompson',\n",
       " 'Eldice Lewis',\n",
       " 'Elizabeth Robinson',\n",
       " 'English Gardner',\n",
       " 'Esther Jones',\n",
       " 'Ethel M. Smith',\n",
       " 'Evelyn Ashford',\n",
       " 'Evelyn Furtsch',\n",
       " 'Evgeniya Polyakova',\n",
       " 'Ewa Klobukowska',\n",
       " 'Fanny Blankers-Koen',\n",
       " 'Fanny Rosenfeld',\n",
       " 'Finis Dean Smith',\n",
       " 'Florence Griffith-Joyner',\n",
       " 'Fluer Northey Mellor-Wenham',\n",
       " 'Foy Draper',\n",
       " 'Francis Hussey',\n",
       " 'Francis Jarvis',\n",
       " 'Frank Clifford Wykoff',\n",
       " 'Gail Devers',\n",
       " 'Gerald A. Tinker',\n",
       " 'Gerald Howard Ashworth',\n",
       " 'Gerda Johanna Marie Van der kade-Koudijs',\n",
       " 'Glenroy Gilbert',\n",
       " 'Gwen Torrence',\n",
       " 'Halina Herrmann-Gorecka-Richter',\n",
       " 'Harold Abrahams',\n",
       " 'Harold Norwood Ewell',\n",
       " 'Harriett Claiborne Bland',\n",
       " 'Harrison Dillard',\n",
       " 'Harry Hillman',\n",
       " 'Harvey Edward Glance',\n",
       " 'Hasely Crawford',\n",
       " 'Hector Monroe Dyer',\n",
       " 'Heidemarie Rosendahl',\n",
       " 'Helen Herring Stephens',\n",
       " 'Henry Argue Russell',\n",
       " 'Henry Carr',\n",
       " 'Henry Maitland Mackintosh',\n",
       " 'Inger Miller',\n",
       " 'Ingrid Auerswald-Lange',\n",
       " 'Ingrid Becker-Mickler',\n",
       " 'Ira James Murchison',\n",
       " 'Irena Szewinska',\n",
       " 'Jackson Scholz',\n",
       " 'James F. Quinn',\n",
       " 'James Jett',\n",
       " 'James Ray Hines',\n",
       " 'Janet Theresa Moreau',\n",
       " 'Jason Gardener',\n",
       " 'Jean Thompson',\n",
       " 'Jeanette Bolden',\n",
       " 'Jeannette Josephina Maria Witziers-Timmer',\n",
       " 'Jeneba Tarmoh',\n",
       " 'Jenna Prandini',\n",
       " 'Jeremiah Alfred Leconey',\n",
       " 'Jesse Owens',\n",
       " 'Jevaughn Minzie',\n",
       " 'Joanna Hayes',\n",
       " 'Johanna Schaller-Klier',\n",
       " 'John Wesley Jones',\n",
       " 'Jon Drummond',\n",
       " 'Joseph Nathaniel Jr. Deloach',\n",
       " 'Justin Gatlin',\n",
       " 'Kemar Bailey-Cole',\n",
       " 'Kenneth Brokenburr',\n",
       " 'Konstantinos Kenteris',\n",
       " 'Lauryn Williams',\n",
       " 'Lawrence J. Black',\n",
       " 'Leamon King',\n",
       " 'Leroy Burrell',\n",
       " 'Lindy Remigino',\n",
       " 'Linford Christie',\n",
       " 'Liudmila Kondratieva',\n",
       " 'Livio Berruti',\n",
       " 'Loren Murchison',\n",
       " 'Lorenzo Christopher Wright',\n",
       " 'Louis Alfred Clarke',\n",
       " 'Lucinda Williams',\n",
       " 'Ludmila Engquist',\n",
       " 'Mae Heriwentha Faggs',\n",
       " 'Margaret Johnson Bailes',\n",
       " 'Marie-Jose Perec',\n",
       " 'Marjorie Jackson',\n",
       " 'Mark Lewis-Francis',\n",
       " 'Marlies Oelsner-Göhr',\n",
       " 'Marlon Devonish',\n",
       " 'Martha B. Hudson',\n",
       " 'Martin Emmett Toppino',\n",
       " 'Martin Lauer',\n",
       " 'Mary Louise Carew',\n",
       " 'Maurice Greene',\n",
       " 'Melvin Emery Patton',\n",
       " 'Melvin Jr. Pender',\n",
       " 'Michael Frater',\n",
       " 'Michael Johnson',\n",
       " 'Michael Marsh',\n",
       " 'Michelle Finn',\n",
       " 'Mildrette Netter',\n",
       " 'Millard Frank Jr. Hampton',\n",
       " 'Morolake Akinosun',\n",
       " 'Morris Kirksey',\n",
       " 'Myrtle Alice Cook',\n",
       " 'Nesta Carter',\n",
       " 'Nickel Ashmeade',\n",
       " 'Nikolai Sidorov',\n",
       " 'Norma Wilson Crooker-Fleming',\n",
       " 'Olga Shishigina',\n",
       " 'Otis Paul Drayton',\n",
       " 'Paraskevi Voula Patoulidou',\n",
       " 'Pauline Elaine Davis',\n",
       " 'Percy Williams',\n",
       " 'Pietro Mennea',\n",
       " 'Ralph Craig',\n",
       " 'Ralph Metcalfe',\n",
       " 'Reginald Walker',\n",
       " 'Renate Stecher',\n",
       " 'Richard Vaughn Stebbins',\n",
       " 'Robert Allan Kiesel',\n",
       " 'Robert Esmie',\n",
       " 'Robert Hayes',\n",
       " 'Robert Joseph Morrow',\n",
       " 'Robert Kerr',\n",
       " 'Robert Taylor',\n",
       " 'Romy Müller',\n",
       " 'Ronald James Brown',\n",
       " 'Ronald Ray Smith',\n",
       " 'Sally Pearson',\n",
       " 'Samuel Louis Graddy',\n",
       " 'Sevatheda Fynes',\n",
       " 'Shawn Crawford',\n",
       " 'Sheila Echols',\n",
       " 'Shelly-Ann Fraser',\n",
       " 'Shelly-Ann Fraser-Pryce',\n",
       " 'Sherone Simpson',\n",
       " 'Shirley Strickland-De La Hunty',\n",
       " 'Stanislawa Walasiewicz',\n",
       " 'Steven Earl Riddick',\n",
       " 'Tanya Lawrence',\n",
       " 'Teresa Barbara Wieczorek-Cieply',\n",
       " 'Thomas Burke',\n",
       " 'Thomas C. Smith',\n",
       " 'Tianna Bartoletta',\n",
       " 'Tianna Madison',\n",
       " 'Tim Montgomery',\n",
       " 'Tori Bowie',\n",
       " 'Usain Bolt',\n",
       " 'Valerie Ann Brisco-Hooks',\n",
       " 'Valery Borzov',\n",
       " 'Vera Komisova',\n",
       " 'Veronica Campbell-Brown',\n",
       " \"Victor Henry Augustus D'arcy\",\n",
       " 'Viktor Bryzgin',\n",
       " 'Vitaly Savin',\n",
       " 'Vladimir Krylov',\n",
       " 'Vladimir Muravyov',\n",
       " 'Walter B. John Tewksbury',\n",
       " 'Walter Mahlendorf',\n",
       " 'Walter Thane Baker',\n",
       " 'Wilhelmina Von bremen',\n",
       " 'William Applegarth',\n",
       " 'Wilma Rudolph',\n",
       " 'Wyomia Tyus',\n",
       " 'Xenia Stad-De jong',\n",
       " 'Yohan Blake',\n",
       " 'Yordanka Donkova',\n",
       " 'Yulia Gushchina',\n",
       " 'Yuliya Chermoshanskaya',\n",
       " 'Yuliya Nesterenko'}"
      ]
     },
     "execution_count": 15,
     "metadata": {},
     "output_type": "execute_result"
    }
   ],
   "source": [
    "winners_100m | winners_200m"
   ]
  },
  {
   "cell_type": "code",
   "execution_count": 16,
   "metadata": {
    "collapsed": false
   },
   "outputs": [
    {
     "data": {
      "text/plain": [
       "{'Aleen Bailey',\n",
       " 'Aleksandr Aksinin',\n",
       " 'Aleksandra Fedoriva',\n",
       " 'Alice Regina Brown',\n",
       " 'Allan Wells',\n",
       " 'Andrei Prokofiev',\n",
       " 'Annegret Richter-Irrgang',\n",
       " 'Annelie Ehrhardt',\n",
       " 'Annette Joan Rogers',\n",
       " 'Ariana Washington',\n",
       " 'Armin Hary',\n",
       " 'Asafa Powell',\n",
       " 'Barbara Ann Ferrell',\n",
       " 'Barbara Pearl Jones',\n",
       " 'Benita Fitzgerald-Brown',\n",
       " 'Bernard Williams iii',\n",
       " 'Bernd Cullmann',\n",
       " 'Beverly Mcdonald',\n",
       " 'Bianca Knight',\n",
       " 'Brian Lewis',\n",
       " 'Brianna Rollins',\n",
       " 'Bruny Surin',\n",
       " 'Calvin Smith',\n",
       " 'Carla Bodendorf',\n",
       " 'Carlette D. Guidry-White',\n",
       " 'Carlton Chambers',\n",
       " 'Carmelita Jeter',\n",
       " 'Catherine Hardy',\n",
       " 'Chandra Danette Cheeseborough',\n",
       " 'Chandra Sturrup',\n",
       " 'Charles Edward Borah',\n",
       " 'Charles Edward Greene',\n",
       " 'Charles Paddock',\n",
       " 'Christiane Krause',\n",
       " 'Chryste Gaines',\n",
       " 'Darren Campbell',\n",
       " 'David Henry Jacobs',\n",
       " 'Dawn Harper',\n",
       " 'Debbie Ferguson-Mckenzie',\n",
       " 'Dennis Mitchell',\n",
       " 'Donovan Bailey',\n",
       " 'Edward James Hart',\n",
       " 'Eldice Lewis',\n",
       " 'Elizabeth Robinson',\n",
       " 'English Gardner',\n",
       " 'Esther Jones',\n",
       " 'Ethel M. Smith',\n",
       " 'Evelyn Ashford',\n",
       " 'Evelyn Furtsch',\n",
       " 'Evgeniya Polyakova',\n",
       " 'Ewa Klobukowska',\n",
       " 'Fanny Rosenfeld',\n",
       " 'Finis Dean Smith',\n",
       " 'Fluer Northey Mellor-Wenham',\n",
       " 'Foy Draper',\n",
       " 'Francis Hussey',\n",
       " 'Francis Jarvis',\n",
       " 'Frank Clifford Wykoff',\n",
       " 'Gail Devers',\n",
       " 'Gerald A. Tinker',\n",
       " 'Gerald Howard Ashworth',\n",
       " 'Gerda Johanna Marie Van der kade-Koudijs',\n",
       " 'Glenroy Gilbert',\n",
       " 'Halina Herrmann-Gorecka-Richter',\n",
       " 'Harold Abrahams',\n",
       " 'Harold Norwood Ewell',\n",
       " 'Harriett Claiborne Bland',\n",
       " 'Harrison Dillard',\n",
       " 'Harvey Edward Glance',\n",
       " 'Hasely Crawford',\n",
       " 'Hector Monroe Dyer',\n",
       " 'Heidemarie Rosendahl',\n",
       " 'Helen Herring Stephens',\n",
       " 'Henry Argue Russell',\n",
       " 'Henry Maitland Mackintosh',\n",
       " 'Inger Miller',\n",
       " 'Ingrid Auerswald-Lange',\n",
       " 'Ingrid Becker-Mickler',\n",
       " 'Ira James Murchison',\n",
       " 'James F. Quinn',\n",
       " 'James Jett',\n",
       " 'James Ray Hines',\n",
       " 'Janet Theresa Moreau',\n",
       " 'Jason Gardener',\n",
       " 'Jean Thompson',\n",
       " 'Jeanette Bolden',\n",
       " 'Jeannette Josephina Maria Witziers-Timmer',\n",
       " 'Jeneba Tarmoh',\n",
       " 'Jenna Prandini',\n",
       " 'Jeremiah Alfred Leconey',\n",
       " 'Jevaughn Minzie',\n",
       " 'Joanna Hayes',\n",
       " 'Johanna Schaller-Klier',\n",
       " 'John Wesley Jones',\n",
       " 'Jon Drummond',\n",
       " 'Justin Gatlin',\n",
       " 'Kemar Bailey-Cole',\n",
       " 'Kenneth Brokenburr',\n",
       " 'Lauryn Williams',\n",
       " 'Lawrence J. Black',\n",
       " 'Leamon King',\n",
       " 'Leroy Burrell',\n",
       " 'Lindy Remigino',\n",
       " 'Linford Christie',\n",
       " 'Liudmila Kondratieva',\n",
       " 'Loren Murchison',\n",
       " 'Lorenzo Christopher Wright',\n",
       " 'Louis Alfred Clarke',\n",
       " 'Lucinda Williams',\n",
       " 'Ludmila Engquist',\n",
       " 'Mae Heriwentha Faggs',\n",
       " 'Margaret Johnson Bailes',\n",
       " 'Mark Lewis-Francis',\n",
       " 'Marlies Oelsner-Göhr',\n",
       " 'Marlon Devonish',\n",
       " 'Martha B. Hudson',\n",
       " 'Martin Emmett Toppino',\n",
       " 'Martin Lauer',\n",
       " 'Mary Louise Carew',\n",
       " 'Maurice Greene',\n",
       " 'Melvin Jr. Pender',\n",
       " 'Michael Frater',\n",
       " 'Michelle Finn',\n",
       " 'Mildrette Netter',\n",
       " 'Millard Frank Jr. Hampton',\n",
       " 'Morolake Akinosun',\n",
       " 'Morris Kirksey',\n",
       " 'Myrtle Alice Cook',\n",
       " 'Nesta Carter',\n",
       " 'Nickel Ashmeade',\n",
       " 'Nikolai Sidorov',\n",
       " 'Norma Wilson Crooker-Fleming',\n",
       " 'Olga Shishigina',\n",
       " 'Otis Paul Drayton',\n",
       " 'Paraskevi Voula Patoulidou',\n",
       " 'Ralph Metcalfe',\n",
       " 'Reginald Walker',\n",
       " 'Richard Vaughn Stebbins',\n",
       " 'Robert Allan Kiesel',\n",
       " 'Robert Esmie',\n",
       " 'Robert Hayes',\n",
       " 'Robert Taylor',\n",
       " 'Romy Müller',\n",
       " 'Ronald James Brown',\n",
       " 'Ronald Ray Smith',\n",
       " 'Sally Pearson',\n",
       " 'Samuel Louis Graddy',\n",
       " 'Sevatheda Fynes',\n",
       " 'Sheila Echols',\n",
       " 'Shelly-Ann Fraser',\n",
       " 'Shelly-Ann Fraser-Pryce',\n",
       " 'Sherone Simpson',\n",
       " 'Shirley Strickland-De La Hunty',\n",
       " 'Stanislawa Walasiewicz',\n",
       " 'Steven Earl Riddick',\n",
       " 'Tanya Lawrence',\n",
       " 'Teresa Barbara Wieczorek-Cieply',\n",
       " 'Thomas Burke',\n",
       " 'Tianna Bartoletta',\n",
       " 'Tianna Madison',\n",
       " 'Tim Montgomery',\n",
       " 'Tori Bowie',\n",
       " 'Vera Komisova',\n",
       " \"Victor Henry Augustus D'arcy\",\n",
       " 'Viktor Bryzgin',\n",
       " 'Vitaly Savin',\n",
       " 'Vladimir Krylov',\n",
       " 'Vladimir Muravyov',\n",
       " 'Walter Mahlendorf',\n",
       " 'Walter Thane Baker',\n",
       " 'Wilhelmina Von bremen',\n",
       " 'William Applegarth',\n",
       " 'Wyomia Tyus',\n",
       " 'Xenia Stad-De jong',\n",
       " 'Yohan Blake',\n",
       " 'Yordanka Donkova',\n",
       " 'Yulia Gushchina',\n",
       " 'Yuliya Chermoshanskaya',\n",
       " 'Yuliya Nesterenko'}"
      ]
     },
     "execution_count": 16,
     "metadata": {},
     "output_type": "execute_result"
    }
   ],
   "source": [
    "winners_100m - winners_200m"
   ]
  },
  {
   "cell_type": "code",
   "execution_count": 17,
   "metadata": {
    "collapsed": false
   },
   "outputs": [
    {
     "name": "stdout",
     "output_type": "stream",
     "text": [
      "In 2016, Tianna Bartoletta won for USA.\n",
      "In 2016, Jeff Henderson won for USA.\n"
     ]
    }
   ],
   "source": [
    "for medal in medals:\n",
    "    if medal.event == 'long jump':\n",
    "        print('In %s, %s won for %s.' % (medal.year,medal.athlete,medal.team))"
   ]
  },
  {
   "cell_type": "code",
   "execution_count": 18,
   "metadata": {
    "collapsed": false
   },
   "outputs": [
    {
     "name": "stdout",
     "output_type": "stream",
     "text": [
      "In 1896, Ellery Clark won for USA.\n",
      "In 1900, Alvin Kraenzlein won for USA.\n",
      "In 1900, Ray Ewry won for USA.\n",
      "In 1904, Meyer Prinstein won for USA.\n",
      "In 1904, Ray Ewry won for USA.\n",
      "In 1908, Francis C. Irons won for USA.\n",
      "In 1908, Ray Ewry won for USA.\n",
      "In 1912, Albert Lovejoy Gutterson won for USA.\n",
      "In 1912, Konstantinos Tsiclitiras won for GRE.\n",
      "In 1920, R. William E. Petersson won for SWE.\n",
      "In 1924, William De Hart Hubbard won for USA.\n",
      "In 1928, Edward Barton Hamm won for USA.\n",
      "In 1932, Edward Lansing Gordon won for USA.\n",
      "In 1936, Jesse Owens won for USA.\n",
      "In 1948, William Samuel Steele won for USA.\n",
      "In 1948, Olga Gyarmati won for HUN.\n",
      "In 1952, Jerome Cousins Biffle won for USA.\n",
      "In 1952, Yvette Winefred Williams won for NZL.\n",
      "In 1956, Gregory Curtis Bell won for USA.\n",
      "In 1956, Elzbieta Dunska-Krzesinska won for POL.\n",
      "In 1960, Ralph Harold Boston won for USA.\n",
      "In 1960, Vera Kolashnikova-Krepkina won for URS.\n",
      "In 1964, Lynn Davies won for GBR.\n",
      "In 1964, Mary Denise Bignal-Rand won for GBR.\n",
      "In 1968, Bob Beamon won for USA.\n",
      "In 1968, Viorica Viscopoleanu won for ROU.\n",
      "In 1972, Randel Luvelle Williams won for USA.\n",
      "In 1972, Heidemarie Rosendahl won for FRG.\n",
      "In 1976, Arnie Robinson won for USA.\n",
      "In 1976, Angela Voigt won for GDR.\n",
      "In 1980, Lutz Dombrowski won for GDR.\n",
      "In 1980, Tatiana Kolpakova won for URS.\n",
      "In 1984, Carl Lewis won for USA.\n",
      "In 1984, Anisoara Cusmir-Stanciu won for ROU.\n",
      "In 1988, Carl Lewis won for USA.\n",
      "In 1988, Jackie Joyner-Kersee won for USA.\n",
      "In 1992, Carl Lewis won for USA.\n",
      "In 1992, Heike Drechsler won for GER.\n",
      "In 1996, Carl Lewis won for USA.\n",
      "In 1996, Chioma Ajunwa won for NGR.\n",
      "In 2000, Ivan Pedroso won for CUB.\n",
      "In 2000, Heike Drechsler won for GER.\n",
      "In 2004, Dwight Phillips won for USA.\n",
      "In 2004, Tatyana Lebedeva won for RUS.\n",
      "In 2008, Irving Jahir Saladino aranda won for PAN.\n",
      "In 2008, Maurren Higa Maggi won for BRA.\n",
      "In 2012, Greg Rutherford won for GBR.\n",
      "In 2012, Brittney Reese won for USA.\n",
      "In 2016, Tianna Bartoletta won for USA.\n",
      "In 2016, Jeff Henderson won for USA.\n"
     ]
    }
   ],
   "source": [
    "for medal in medals:\n",
    "    if medal.event.startswith('long jump'):\n",
    "        print('In %s, %s won for %s.' % (medal.year,medal.athlete,medal.team))"
   ]
  },
  {
   "cell_type": "code",
   "execution_count": 19,
   "metadata": {
    "collapsed": false
   },
   "outputs": [
    {
     "name": "stdout",
     "output_type": "stream",
     "text": [
      "In 1896, Ellery Clark won for USA.\n",
      "In 1900, Alvin Kraenzlein won for USA.\n",
      "In 1900, Ray Ewry won for USA.\n",
      "In 1904, Meyer Prinstein won for USA.\n",
      "In 1904, Ray Ewry won for USA.\n",
      "In 1908, Francis C. Irons won for USA.\n",
      "In 1908, Ray Ewry won for USA.\n",
      "In 1912, Albert Lovejoy Gutterson won for USA.\n",
      "In 1912, Konstantinos Tsiclitiras won for GRE.\n",
      "In 1920, R. William E. Petersson won for SWE.\n",
      "In 1924, William De Hart Hubbard won for USA.\n",
      "In 1928, Edward Barton Hamm won for USA.\n",
      "In 1932, Edward Lansing Gordon won for USA.\n",
      "In 1936, Jesse Owens won for USA.\n",
      "In 1948, William Samuel Steele won for USA.\n",
      "In 1948, Olga Gyarmati won for HUN.\n",
      "In 1952, Jerome Cousins Biffle won for USA.\n",
      "In 1952, Yvette Winefred Williams won for NZL.\n",
      "In 1956, Gregory Curtis Bell won for USA.\n",
      "In 1956, Elzbieta Dunska-Krzesinska won for POL.\n",
      "In 1960, Ralph Harold Boston won for USA.\n",
      "In 1960, Vera Kolashnikova-Krepkina won for URS.\n",
      "In 1964, Lynn Davies won for GBR.\n",
      "In 1964, Mary Denise Bignal-Rand won for GBR.\n",
      "In 1968, Bob Beamon won for USA.\n",
      "In 1968, Viorica Viscopoleanu won for ROU.\n",
      "In 1972, Randel Luvelle Williams won for USA.\n",
      "In 1972, Heidemarie Rosendahl won for FRG.\n",
      "In 1976, Arnie Robinson won for USA.\n",
      "In 1976, Angela Voigt won for GDR.\n",
      "In 1980, Lutz Dombrowski won for GDR.\n",
      "In 1980, Tatiana Kolpakova won for URS.\n",
      "In 1984, Carl Lewis won for USA.\n",
      "In 1984, Anisoara Cusmir-Stanciu won for ROU.\n",
      "In 1988, Carl Lewis won for USA.\n",
      "In 1988, Jackie Joyner-Kersee won for USA.\n",
      "In 1992, Carl Lewis won for USA.\n",
      "In 1992, Heike Drechsler won for GER.\n",
      "In 1996, Carl Lewis won for USA.\n",
      "In 1996, Chioma Ajunwa won for NGR.\n",
      "In 2000, Ivan Pedroso won for CUB.\n",
      "In 2000, Heike Drechsler won for GER.\n",
      "In 2004, Dwight Phillips won for USA.\n",
      "In 2004, Tatyana Lebedeva won for RUS.\n",
      "In 2008, Irving Jahir Saladino aranda won for PAN.\n",
      "In 2008, Maurren Higa Maggi won for BRA.\n",
      "In 2012, Greg Rutherford won for GBR.\n",
      "In 2012, Brittney Reese won for USA.\n",
      "In 2016, Tianna Bartoletta won for USA.\n",
      "In 2016, Jeff Henderson won for USA.\n"
     ]
    }
   ],
   "source": [
    "for medal in medals:\n",
    "    if medal.event.startswith('long jump'):\n",
    "        print('In {0}, {1} won for {2}.'.format(medal.year,medal.athlete,medal.team))"
   ]
  },
  {
   "cell_type": "code",
   "execution_count": 20,
   "metadata": {
    "collapsed": false
   },
   "outputs": [
    {
     "name": "stdout",
     "output_type": "stream",
     "text": [
      "In 1896, Ellery Clark won for USA.\n",
      "In 1900, Alvin Kraenzlein won for USA.\n",
      "In 1900, Ray Ewry won for USA.\n",
      "In 1904, Meyer Prinstein won for USA.\n",
      "In 1904, Ray Ewry won for USA.\n",
      "In 1908, Francis C. Irons won for USA.\n",
      "In 1908, Ray Ewry won for USA.\n",
      "In 1912, Albert Lovejoy Gutterson won for USA.\n",
      "In 1912, Konstantinos Tsiclitiras won for GRE.\n",
      "In 1920, R. William E. Petersson won for SWE.\n",
      "In 1924, William De Hart Hubbard won for USA.\n",
      "In 1928, Edward Barton Hamm won for USA.\n",
      "In 1932, Edward Lansing Gordon won for USA.\n",
      "In 1936, Jesse Owens won for USA.\n",
      "In 1948, William Samuel Steele won for USA.\n",
      "In 1948, Olga Gyarmati won for HUN.\n",
      "In 1952, Jerome Cousins Biffle won for USA.\n",
      "In 1952, Yvette Winefred Williams won for NZL.\n",
      "In 1956, Gregory Curtis Bell won for USA.\n",
      "In 1956, Elzbieta Dunska-Krzesinska won for POL.\n",
      "In 1960, Ralph Harold Boston won for USA.\n",
      "In 1960, Vera Kolashnikova-Krepkina won for URS.\n",
      "In 1964, Lynn Davies won for GBR.\n",
      "In 1964, Mary Denise Bignal-Rand won for GBR.\n",
      "In 1968, Bob Beamon won for USA.\n",
      "In 1968, Viorica Viscopoleanu won for ROU.\n",
      "In 1972, Randel Luvelle Williams won for USA.\n",
      "In 1972, Heidemarie Rosendahl won for FRG.\n",
      "In 1976, Arnie Robinson won for USA.\n",
      "In 1976, Angela Voigt won for GDR.\n",
      "In 1980, Lutz Dombrowski won for GDR.\n",
      "In 1980, Tatiana Kolpakova won for URS.\n",
      "In 1984, Carl Lewis won for USA.\n",
      "In 1984, Anisoara Cusmir-Stanciu won for ROU.\n",
      "In 1988, Carl Lewis won for USA.\n",
      "In 1988, Jackie Joyner-Kersee won for USA.\n",
      "In 1992, Carl Lewis won for USA.\n",
      "In 1992, Heike Drechsler won for GER.\n",
      "In 1996, Carl Lewis won for USA.\n",
      "In 1996, Chioma Ajunwa won for NGR.\n",
      "In 2000, Ivan Pedroso won for CUB.\n",
      "In 2000, Heike Drechsler won for GER.\n",
      "In 2004, Dwight Phillips won for USA.\n",
      "In 2004, Tatyana Lebedeva won for RUS.\n",
      "In 2008, Irving Jahir Saladino aranda won for PAN.\n",
      "In 2008, Maurren Higa Maggi won for BRA.\n",
      "In 2012, Greg Rutherford won for GBR.\n",
      "In 2012, Brittney Reese won for USA.\n",
      "In 2016, Tianna Bartoletta won for USA.\n",
      "In 2016, Jeff Henderson won for USA.\n"
     ]
    }
   ],
   "source": [
    "for medal in medals:\n",
    "    if medal.event.startswith('long jump'):\n",
    "        print('In {year}, {athlete} won for {team}.'.format(year=medal.year,athlete=medal.athlete,team=medal.team))"
   ]
  },
  {
   "cell_type": "code",
   "execution_count": 21,
   "metadata": {
    "collapsed": true
   },
   "outputs": [],
   "source": [
    "def findmedal(year=None,team=None,event=None):\n",
    "    filtered = medals\n",
    "    \n",
    "    if year is not None:\n",
    "        filtered = [medal for medal in filtered if medal.year == year]\n",
    "        \n",
    "    if team is not None:\n",
    "        filtered = [medal for medal in filtered if medal.team == team]\n",
    "        \n",
    "    if event is not None:\n",
    "        filtered = [medal for medal in filtered if medal.event == event]\n",
    "    \n",
    "    return filtered"
   ]
  },
  {
   "cell_type": "code",
   "execution_count": 22,
   "metadata": {
    "collapsed": false
   },
   "outputs": [
    {
     "data": {
      "text/plain": [
       "[medal(year='1896', athlete='Thomas Burke', team='USA', event='100m men'),\n",
       " medal(year='1896', athlete='Thomas Curtis', team='USA', event='110m hurdles men'),\n",
       " medal(year='1896', athlete='Thomas Burke', team='USA', event='400m men'),\n",
       " medal(year='1896', athlete='Robert Garrett', team='USA', event='discus throw men'),\n",
       " medal(year='1896', athlete='Ellery Clark', team='USA', event='high jump men'),\n",
       " medal(year='1896', athlete='Ellery Clark', team='USA', event='long jump men'),\n",
       " medal(year='1896', athlete='William Welles Hoyt', team='USA', event='pole vault men'),\n",
       " medal(year='1896', athlete='Robert Garrett', team='USA', event='shot put men'),\n",
       " medal(year='1896', athlete='James Connolly', team='USA', event='triple jump men')]"
      ]
     },
     "execution_count": 22,
     "metadata": {},
     "output_type": "execute_result"
    }
   ],
   "source": [
    "findmedal(year='1896',team='USA')"
   ]
  },
  {
   "cell_type": "code",
   "execution_count": 23,
   "metadata": {
    "collapsed": true
   },
   "outputs": [],
   "source": [
    "def findmedal(**kwargs):\n",
    "    return [medal for medal in medals\n",
    "                  if all(getattr(medal,key) == value for key,value in kwargs.items())]"
   ]
  },
  {
   "cell_type": "code",
   "execution_count": 24,
   "metadata": {
    "collapsed": false
   },
   "outputs": [
    {
     "data": {
      "text/plain": [
       "[medal(year='1896', athlete='Thomas Burke', team='USA', event='100m men'),\n",
       " medal(year='1896', athlete='Thomas Curtis', team='USA', event='110m hurdles men'),\n",
       " medal(year='1896', athlete='Thomas Burke', team='USA', event='400m men'),\n",
       " medal(year='1896', athlete='Robert Garrett', team='USA', event='discus throw men'),\n",
       " medal(year='1896', athlete='Ellery Clark', team='USA', event='high jump men'),\n",
       " medal(year='1896', athlete='Ellery Clark', team='USA', event='long jump men'),\n",
       " medal(year='1896', athlete='William Welles Hoyt', team='USA', event='pole vault men'),\n",
       " medal(year='1896', athlete='Robert Garrett', team='USA', event='shot put men'),\n",
       " medal(year='1896', athlete='James Connolly', team='USA', event='triple jump men')]"
      ]
     },
     "execution_count": 24,
     "metadata": {},
     "output_type": "execute_result"
    }
   ],
   "source": [
    "findmedal(year='1896',team='USA')"
   ]
  },
  {
   "cell_type": "code",
   "execution_count": 25,
   "metadata": {
    "collapsed": false
   },
   "outputs": [
    {
     "data": {
      "text/plain": [
       "[medal(year='1984', athlete='Carl Lewis', team='USA', event='100m men'),\n",
       " medal(year='1984', athlete='Carl Lewis', team='USA', event='200m men'),\n",
       " medal(year='1984', athlete='Carl Lewis', team='USA', event='4x100m relay men'),\n",
       " medal(year='1984', athlete='Carl Lewis', team='USA', event='long jump men'),\n",
       " medal(year='1988', athlete='Carl Lewis', team='USA', event='100m men'),\n",
       " medal(year='1988', athlete='Carl Lewis', team='USA', event='long jump men'),\n",
       " medal(year='1992', athlete='Carl Lewis', team='USA', event='4x100m relay men'),\n",
       " medal(year='1992', athlete='Carl Lewis', team='USA', event='long jump men'),\n",
       " medal(year='1996', athlete='Carl Lewis', team='USA', event='long jump men')]"
      ]
     },
     "execution_count": 25,
     "metadata": {},
     "output_type": "execute_result"
    }
   ],
   "source": [
    "findmedal(athlete='Carl Lewis')"
   ]
  },
  {
   "cell_type": "code",
   "execution_count": 26,
   "metadata": {
    "collapsed": true
   },
   "outputs": [],
   "source": [
    "def sumseveral(*args,multiplier=1.0):\n",
    "    return multiplier * sum(args)"
   ]
  },
  {
   "cell_type": "code",
   "execution_count": 27,
   "metadata": {
    "collapsed": false
   },
   "outputs": [
    {
     "data": {
      "text/plain": [
       "60"
      ]
     },
     "execution_count": 27,
     "metadata": {},
     "output_type": "execute_result"
    }
   ],
   "source": [
    "sumseveral(1,2,3,multiplier=10)"
   ]
  },
  {
   "cell_type": "code",
   "execution_count": null,
   "metadata": {
    "collapsed": true
   },
   "outputs": [],
   "source": []
  }
 ],
 "metadata": {
  "anaconda-cloud": {},
  "kernelspec": {
   "display_name": "Python [default]",
   "language": "python",
   "name": "python3"
  },
  "language_info": {
   "codemirror_mode": {
    "name": "ipython",
    "version": 3
   },
   "file_extension": ".py",
   "mimetype": "text/x-python",
   "name": "python",
   "nbconvert_exporter": "python",
   "pygments_lexer": "ipython3",
   "version": "3.5.2"
  }
 },
 "nbformat": 4,
 "nbformat_minor": 1
}
