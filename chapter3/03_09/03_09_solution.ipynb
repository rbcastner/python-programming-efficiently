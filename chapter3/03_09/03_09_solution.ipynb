{
 "cells": [
  {
   "cell_type": "markdown",
   "metadata": {},
   "source": [
    "## Challenge solution"
   ]
  },
  {
   "cell_type": "code",
   "execution_count": 3,
   "metadata": {
    "collapsed": false
   },
   "outputs": [
    {
     "name": "stdout",
     "output_type": "stream",
     "text": [
      "Overwriting marsmap.py\n"
     ]
    }
   ],
   "source": [
    "%%file marsmap.py\n",
    "\n",
    "import bs4, io\n",
    "\n",
    "import matplotlib.pyplot as pp\n",
    "from mpl_toolkits.basemap import Basemap\n",
    "import PIL, PIL.Image\n",
    "\n",
    "# initialize the database of Curiosity locations.\n",
    "xml = bs4.BeautifulSoup(open('locations.xml','r'),'lxml-xml')\n",
    "locations = xml.find_all('location')\n",
    "\n",
    "def findcuriosity(sol):\n",
    "    \"\"\"Look for a site record in locations.xml that includes the requested sol.\n",
    "    Return longitude and latitude.\"\"\"\n",
    "    \n",
    "    for location in locations:\n",
    "        if int(location.startSol.string) <= int(sol) <= int(location.endSol.string):\n",
    "            return float(location.lon.string), float(location.lat.string)\n",
    "\n",
    "# load the map of Gale crater and initialize basemap\n",
    "crater = PIL.Image.open('gale_themis_vis_fix_v4_reduced.png')\n",
    "world = Basemap(lon_0=180)\n",
    "\n",
    "def plotcuriosity(lon,lat):\n",
    "    \"\"\"Return a BytesIO buffer containing a PNG with Gale + curiosity.\"\"\"\n",
    "    \n",
    "    pp.figure(figsize=(12,6))\n",
    "\n",
    "    pp.imshow(crater,origin='upper',interpolation='none',\n",
    "              cmap=pp.get_cmap('gray'),\n",
    "              extent=[135.6,139.9,-7.5,-3.2])\n",
    "\n",
    "    world.plot(lon,lat,'r.',latlon=True)\n",
    "\n",
    "    pp.axis(xmin=135.6,xmax=139.9,ymin=-7.5,ymax=-3.2)\n",
    "    \n",
    "    buffer = io.BytesIO()\n",
    "    pp.savefig(buffer,format='PNG')\n",
    "    pp.close()\n",
    "    \n",
    "    return buffer"
   ]
  },
  {
   "cell_type": "code",
   "execution_count": 4,
   "metadata": {
    "collapsed": false
   },
   "outputs": [
    {
     "name": "stdout",
     "output_type": "stream",
     "text": [
      "Overwriting server.py\n"
     ]
    }
   ],
   "source": [
    "%%file server.py\n",
    "\n",
    "import flask, jinja2, base64\n",
    "import marsmap\n",
    "\n",
    "app = flask.Flask(__name__)\n",
    "\n",
    "@app.route('/')\n",
    "def hello_world():\n",
    "    return flask.Response(\"<html><body><p>Load /XXXX to see Curiosity on Sol XXXX!</p></body></html>\")\n",
    "\n",
    "template = jinja2.Template(\"\"\"\n",
    "<html>\n",
    "<body>\n",
    "<img src=\"data:image/png;base64,{{imgdata}}\" />\n",
    "</body>\n",
    "</html>\"\"\")\n",
    "\n",
    "@app.route('/<sol>')\n",
    "def getday(sol):\n",
    "    try:\n",
    "        lon, lat = marsmap.findcuriosity(sol)\n",
    "        buffer = marsmap.plotcuriosity(lon,lat)\n",
    "        img = base64.b64encode(buffer.getvalue()).decode('ascii')\n",
    "        \n",
    "        html = template.render(imgdata=img)\n",
    "\n",
    "        return flask.Response(html)\n",
    "    except:\n",
    "        raise\n",
    "        return flask.Response(\"<html><body><p>Sorry, I don't have that sol or something else went wrong!</p></body></html>\")\n",
    "    \n",
    "app.run(host='0.0.0.0')"
   ]
  },
  {
   "cell_type": "code",
   "execution_count": null,
   "metadata": {
    "collapsed": true
   },
   "outputs": [],
   "source": []
  }
 ],
 "metadata": {
  "anaconda-cloud": {},
  "kernelspec": {
   "display_name": "Python [default]",
   "language": "python",
   "name": "python3"
  },
  "language_info": {
   "codemirror_mode": {
    "name": "ipython",
    "version": 3
   },
   "file_extension": ".py",
   "mimetype": "text/x-python",
   "name": "python",
   "nbconvert_exporter": "python",
   "pygments_lexer": "ipython3",
   "version": "3.5.2"
  }
 },
 "nbformat": 4,
 "nbformat_minor": 1
}
